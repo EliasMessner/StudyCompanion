{
 "cells": [
  {
   "cell_type": "code",
   "execution_count": 15,
   "metadata": {},
   "outputs": [],
   "source": [
    "from DataIntegrationPipeline import DataIntegrationPipeline\n",
    "\n",
    "# create pipeline\n",
    "pipeline = DataIntegrationPipeline()\n"
   ]
  },
  {
   "cell_type": "code",
   "execution_count": 16,
   "metadata": {},
   "outputs": [],
   "source": [
    "# load a pdf document\n",
    "pdf_pages = pipeline.load_pdf(\n",
    "    \"C:/Users/Felix/Downloads/Langchain.pdf\")\n"
   ]
  },
  {
   "cell_type": "code",
   "execution_count": 17,
   "metadata": {},
   "outputs": [
    {
     "name": "stderr",
     "output_type": "stream",
     "text": [
      "Created a chunk of size 463, which is longer than the specified 200\n",
      "Created a chunk of size 248, which is longer than the specified 200\n",
      "Created a chunk of size 208, which is longer than the specified 200\n",
      "Created a chunk of size 221, which is longer than the specified 200\n",
      "Created a chunk of size 208, which is longer than the specified 200\n",
      "Created a chunk of size 610, which is longer than the specified 200\n",
      "Created a chunk of size 237, which is longer than the specified 200\n"
     ]
    }
   ],
   "source": [
    "# split pdf document\n",
    "splits = pipeline.split_pdf(pdf_pages)\n"
   ]
  },
  {
   "cell_type": "code",
   "execution_count": 18,
   "metadata": {},
   "outputs": [
    {
     "data": {
      "application/vnd.jupyter.widget-view+json": {
       "model_id": "9ee81030551d42dc9448b0908c1c63a8",
       "version_major": 2,
       "version_minor": 0
      },
      "text/plain": [
       "Upserted vectors:   0%|          | 0/25 [00:00<?, ?it/s]"
      ]
     },
     "metadata": {},
     "output_type": "display_data"
    },
    {
     "data": {
      "text/plain": [
       "['06636815-22f6-4c90-9317-614bdee75a11',\n",
       " '0d8eb6f2-d892-4003-9f5e-d6b9694635f2',\n",
       " 'ba2a4922-30f5-4334-82d1-48ab758e0139',\n",
       " 'a5b739fd-1fe6-43de-bdc3-c939ba1241b1',\n",
       " '4cbb64a5-ee73-4729-bdea-eb4a10ec015d',\n",
       " '68a82cf7-0ff6-406d-9930-87ef40ad33cd',\n",
       " 'e57f9b6f-9ef5-4f13-9b80-c26b04d0dfe6',\n",
       " 'da74dcb0-69ae-4b2d-ad01-b6803b456337',\n",
       " 'af0c6116-5b23-4792-91fb-cad2c65db17d',\n",
       " '8f1443e0-6ec2-4a0f-8179-0c701b321c95',\n",
       " '9592c1b9-a619-42a6-a113-da538e691832',\n",
       " 'd64d15f5-3a0c-4dd6-b2a2-96ca88aa8725',\n",
       " 'fbb1bd53-300f-4f0e-abb1-3a08726cc1c8',\n",
       " 'fe11869d-df39-452b-b7f4-d090933831a3',\n",
       " 'e5662f86-05cf-45d7-bc41-8dadca9b701b',\n",
       " '68d9c44e-27bc-45c9-84d0-4201bcd035aa',\n",
       " 'b474f127-3d19-45e4-9902-c939ebb0b5d3',\n",
       " 'b78b5fa8-82ee-4531-bc3b-acbadb59a9d2',\n",
       " '6d90352d-af3d-45c2-a827-65d603974f7a',\n",
       " 'ce0d60a9-3039-44f0-b2be-76bab18a537f',\n",
       " '2f6cc448-9757-46dd-a13e-9b86c5e94344',\n",
       " 'e303a508-3e43-45d5-9722-0e6b3078612a',\n",
       " '7953c352-3fb0-4daf-a2c9-d6e816b8f0ab',\n",
       " 'ad64b733-1240-47be-a92d-0d29c1eea613',\n",
       " 'd2ff5926-19a4-4e22-8256-8c4c435762f8']"
      ]
     },
     "execution_count": 18,
     "metadata": {},
     "output_type": "execute_result"
    }
   ],
   "source": [
    "# store embeddings to vectorstore\n",
    "pipeline.add_document_to_vectorstore(document_split=splits)\n"
   ]
  },
  {
   "cell_type": "code",
   "execution_count": 27,
   "metadata": {},
   "outputs": [],
   "source": [
    "# similarity search\n",
    "query_results = pipeline.query_vectorstore(\n",
    "    query=\"When was Langchain released?\", k=2, get_raw_text=True)\n"
   ]
  },
  {
   "cell_type": "code",
   "execution_count": 28,
   "metadata": {},
   "outputs": [
    {
     "name": "stdout",
     "output_type": "stream",
     "text": [
      "[1]\n",
      "LangChain was launched in October 2022 as an\n",
      "open source project by Harrison Chase, while\n",
      "working at machine learning startup Robust\n",
      "Intelligence. \n",
      "\n",
      "LangChain\n",
      "Developer(s)Harrison Chase\n",
      "Initial releaseOctober 2022\n",
      "Repository github.com/hwchase17/langchain\n",
      "(https://github.com/hwchase17/la\n",
      "ngchain)\n",
      "Written in Python and JavaScript\n",
      "Type Software framework for large\n",
      "language model application\n",
      "development\n",
      "License MIT License\n",
      "Website LangChain.com (https://langchai\n",
      "n.com/)LangChain\n",
      "LangChain is a software development framework\n",
      "designed to simplify the creation of applications using\n",
      "large language models (LLMs). \n",
      "\n"
     ]
    }
   ],
   "source": [
    "# print results\n",
    "for r in query_results:\n",
    "    print(r, \"\\n\")\n"
   ]
  }
 ],
 "metadata": {
  "kernelspec": {
   "display_name": "Python 3.9.5 64-bit",
   "language": "python",
   "name": "python3"
  },
  "language_info": {
   "codemirror_mode": {
    "name": "ipython",
    "version": 3
   },
   "file_extension": ".py",
   "mimetype": "text/x-python",
   "name": "python",
   "nbconvert_exporter": "python",
   "pygments_lexer": "ipython3",
   "version": "3.9.5"
  },
  "orig_nbformat": 4,
  "vscode": {
   "interpreter": {
    "hash": "542bad02869b321a73a7da5260ee6f5456fa9b86f73b69a004054f84e7b0338b"
   }
  }
 },
 "nbformat": 4,
 "nbformat_minor": 2
}
