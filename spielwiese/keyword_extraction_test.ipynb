{
 "cells": [
  {
   "cell_type": "markdown",
   "source": [
    "# Keyword Extraction\n",
    "## Using [TF-IDF](https://towardsdatascience.com/keyword-extraction-python-tf-idf-textrank-topicrank-yake-bert-7405d51cd839)"
   ],
   "metadata": {
    "collapsed": false
   }
  },
  {
   "cell_type": "code",
   "execution_count": 73,
   "metadata": {
    "collapsed": true,
    "ExecuteTime": {
     "end_time": "2023-05-18T10:22:11.872518683Z",
     "start_time": "2023-05-18T10:22:11.742097842Z"
    }
   },
   "outputs": [],
   "source": [
    "import string\n",
    "import nltk"
   ]
  },
  {
   "cell_type": "markdown",
   "source": [
    "### Download stopwords and punctuation"
   ],
   "metadata": {
    "collapsed": false
   }
  },
  {
   "cell_type": "code",
   "execution_count": null,
   "outputs": [
    {
     "name": "stderr",
     "output_type": "stream",
     "text": [
      "[nltk_data] Downloading package punkt to /home/elias/nltk_data...\n",
      "[nltk_data]   Package punkt is already up-to-date!\n",
      "[nltk_data] Downloading package stopwords to /home/elias/nltk_data...\n",
      "[nltk_data]   Package stopwords is already up-to-date!\n"
     ]
    },
    {
     "data": {
      "text/plain": "True"
     },
     "execution_count": 74,
     "metadata": {},
     "output_type": "execute_result"
    }
   ],
   "source": [
    "nltk.download('punkt')\n",
    "nltk.download('stopwords')"
   ],
   "metadata": {
    "collapsed": false,
    "is_executing": true
   }
  },
  {
   "cell_type": "code",
   "execution_count": null,
   "outputs": [],
   "source": [
    "def get_stopwords(*languages):\n",
    "    return [sw for lang in languages for sw in nltk.corpus.stopwords.words(lang)]"
   ],
   "metadata": {
    "collapsed": false,
    "is_executing": true,
    "ExecuteTime": {
     "start_time": "2023-05-18T10:22:11.777783376Z"
    }
   }
  },
  {
   "cell_type": "code",
   "execution_count": null,
   "outputs": [
    {
     "data": {
      "text/plain": "['i',\n 'me',\n 'my',\n 'myself',\n 'we',\n 'our',\n 'ours',\n 'ourselves',\n 'you',\n \"you're\",\n \"you've\",\n \"you'll\",\n \"you'd\",\n 'your',\n 'yours',\n 'yourself',\n 'yourselves',\n 'he',\n 'him',\n 'his',\n 'himself',\n 'she',\n \"she's\",\n 'her',\n 'hers',\n 'herself',\n 'it',\n \"it's\",\n 'its',\n 'itself',\n 'they',\n 'them',\n 'their',\n 'theirs',\n 'themselves',\n 'what',\n 'which',\n 'who',\n 'whom',\n 'this',\n 'that',\n \"that'll\",\n 'these',\n 'those',\n 'am',\n 'is',\n 'are',\n 'was',\n 'were',\n 'be',\n 'been',\n 'being',\n 'have',\n 'has',\n 'had',\n 'having',\n 'do',\n 'does',\n 'did',\n 'doing',\n 'a',\n 'an',\n 'the',\n 'and',\n 'but',\n 'if',\n 'or',\n 'because',\n 'as',\n 'until',\n 'while',\n 'of',\n 'at',\n 'by',\n 'for',\n 'with',\n 'about',\n 'against',\n 'between',\n 'into',\n 'through',\n 'during',\n 'before',\n 'after',\n 'above',\n 'below',\n 'to',\n 'from',\n 'up',\n 'down',\n 'in',\n 'out',\n 'on',\n 'off',\n 'over',\n 'under',\n 'again',\n 'further',\n 'then',\n 'once',\n 'here',\n 'there',\n 'when',\n 'where',\n 'why',\n 'how',\n 'all',\n 'any',\n 'both',\n 'each',\n 'few',\n 'more',\n 'most',\n 'other',\n 'some',\n 'such',\n 'no',\n 'nor',\n 'not',\n 'only',\n 'own',\n 'same',\n 'so',\n 'than',\n 'too',\n 'very',\n 's',\n 't',\n 'can',\n 'will',\n 'just',\n 'don',\n \"don't\",\n 'should',\n \"should've\",\n 'now',\n 'd',\n 'll',\n 'm',\n 'o',\n 're',\n 've',\n 'y',\n 'ain',\n 'aren',\n \"aren't\",\n 'couldn',\n \"couldn't\",\n 'didn',\n \"didn't\",\n 'doesn',\n \"doesn't\",\n 'hadn',\n \"hadn't\",\n 'hasn',\n \"hasn't\",\n 'haven',\n \"haven't\",\n 'isn',\n \"isn't\",\n 'ma',\n 'mightn',\n \"mightn't\",\n 'mustn',\n \"mustn't\",\n 'needn',\n \"needn't\",\n 'shan',\n \"shan't\",\n 'shouldn',\n \"shouldn't\",\n 'wasn',\n \"wasn't\",\n 'weren',\n \"weren't\",\n 'won',\n \"won't\",\n 'wouldn',\n \"wouldn't\",\n 'aber',\n 'alle',\n 'allem',\n 'allen',\n 'aller',\n 'alles',\n 'als',\n 'also',\n 'am',\n 'an',\n 'ander',\n 'andere',\n 'anderem',\n 'anderen',\n 'anderer',\n 'anderes',\n 'anderm',\n 'andern',\n 'anderr',\n 'anders',\n 'auch',\n 'auf',\n 'aus',\n 'bei',\n 'bin',\n 'bis',\n 'bist',\n 'da',\n 'damit',\n 'dann',\n 'der',\n 'den',\n 'des',\n 'dem',\n 'die',\n 'das',\n 'dass',\n 'daß',\n 'derselbe',\n 'derselben',\n 'denselben',\n 'desselben',\n 'demselben',\n 'dieselbe',\n 'dieselben',\n 'dasselbe',\n 'dazu',\n 'dein',\n 'deine',\n 'deinem',\n 'deinen',\n 'deiner',\n 'deines',\n 'denn',\n 'derer',\n 'dessen',\n 'dich',\n 'dir',\n 'du',\n 'dies',\n 'diese',\n 'diesem',\n 'diesen',\n 'dieser',\n 'dieses',\n 'doch',\n 'dort',\n 'durch',\n 'ein',\n 'eine',\n 'einem',\n 'einen',\n 'einer',\n 'eines',\n 'einig',\n 'einige',\n 'einigem',\n 'einigen',\n 'einiger',\n 'einiges',\n 'einmal',\n 'er',\n 'ihn',\n 'ihm',\n 'es',\n 'etwas',\n 'euer',\n 'eure',\n 'eurem',\n 'euren',\n 'eurer',\n 'eures',\n 'für',\n 'gegen',\n 'gewesen',\n 'hab',\n 'habe',\n 'haben',\n 'hat',\n 'hatte',\n 'hatten',\n 'hier',\n 'hin',\n 'hinter',\n 'ich',\n 'mich',\n 'mir',\n 'ihr',\n 'ihre',\n 'ihrem',\n 'ihren',\n 'ihrer',\n 'ihres',\n 'euch',\n 'im',\n 'in',\n 'indem',\n 'ins',\n 'ist',\n 'jede',\n 'jedem',\n 'jeden',\n 'jeder',\n 'jedes',\n 'jene',\n 'jenem',\n 'jenen',\n 'jener',\n 'jenes',\n 'jetzt',\n 'kann',\n 'kein',\n 'keine',\n 'keinem',\n 'keinen',\n 'keiner',\n 'keines',\n 'können',\n 'könnte',\n 'machen',\n 'man',\n 'manche',\n 'manchem',\n 'manchen',\n 'mancher',\n 'manches',\n 'mein',\n 'meine',\n 'meinem',\n 'meinen',\n 'meiner',\n 'meines',\n 'mit',\n 'muss',\n 'musste',\n 'nach',\n 'nicht',\n 'nichts',\n 'noch',\n 'nun',\n 'nur',\n 'ob',\n 'oder',\n 'ohne',\n 'sehr',\n 'sein',\n 'seine',\n 'seinem',\n 'seinen',\n 'seiner',\n 'seines',\n 'selbst',\n 'sich',\n 'sie',\n 'ihnen',\n 'sind',\n 'so',\n 'solche',\n 'solchem',\n 'solchen',\n 'solcher',\n 'solches',\n 'soll',\n 'sollte',\n 'sondern',\n 'sonst',\n 'über',\n 'um',\n 'und',\n 'uns',\n 'unsere',\n 'unserem',\n 'unseren',\n 'unser',\n 'unseres',\n 'unter',\n 'viel',\n 'vom',\n 'von',\n 'vor',\n 'während',\n 'war',\n 'waren',\n 'warst',\n 'was',\n 'weg',\n 'weil',\n 'weiter',\n 'welche',\n 'welchem',\n 'welchen',\n 'welcher',\n 'welches',\n 'wenn',\n 'werde',\n 'werden',\n 'wie',\n 'wieder',\n 'will',\n 'wir',\n 'wird',\n 'wirst',\n 'wo',\n 'wollen',\n 'wollte',\n 'würde',\n 'würden',\n 'zu',\n 'zum',\n 'zur',\n 'zwar',\n 'zwischen']"
     },
     "execution_count": 77,
     "metadata": {},
     "output_type": "execute_result"
    }
   ],
   "source": [
    "stop_words = get_stopwords(\"english\", \"german\")\n",
    "stop_words"
   ],
   "metadata": {
    "collapsed": false,
    "is_executing": true,
    "ExecuteTime": {
     "start_time": "2023-05-18T10:22:11.827543875Z"
    }
   }
  },
  {
   "cell_type": "code",
   "execution_count": null,
   "outputs": [],
   "source": [
    "def preprocess_text(text, stop_words):\n",
    "    # tokenize\n",
    "    tokens = nltk.tokenize.word_tokenize(text)\n",
    "    # remove punctuation\n",
    "    tokens = [token for token in tokens if token not in string.punctuation]\n",
    "    # remove stopwords and make lowercase\n",
    "    tokens = [token.lower() for token in tokens if token.lower() not in stop_words]\n",
    "    return tokens"
   ],
   "metadata": {
    "collapsed": false,
    "is_executing": true,
    "ExecuteTime": {
     "start_time": "2023-05-18T10:22:11.850341116Z"
    }
   }
  },
  {
   "cell_type": "markdown",
   "source": [
    "### Read PDF\n",
    "Adopted from pinecone_test.ipynb"
   ],
   "metadata": {
    "collapsed": false
   }
  },
  {
   "cell_type": "code",
   "execution_count": 76,
   "outputs": [],
   "source": [
    "from langchain.document_loaders import PyPDFLoader"
   ],
   "metadata": {
    "collapsed": false,
    "ExecuteTime": {
     "end_time": "2023-05-18T10:22:11.993663855Z",
     "start_time": "2023-05-18T10:22:11.826241882Z"
    }
   }
  },
  {
   "cell_type": "code",
   "execution_count": 78,
   "outputs": [],
   "source": [
    "def pdf_to_str(pdf_path):\n",
    "    loader = PyPDFLoader(pdf_path)\n",
    "    documents = loader.load()\n",
    "    return ' '.join(doc.page_content for doc in documents)"
   ],
   "metadata": {
    "collapsed": false,
    "ExecuteTime": {
     "end_time": "2023-05-18T10:22:11.994766992Z",
     "start_time": "2023-05-18T10:22:11.833597480Z"
    }
   }
  },
  {
   "cell_type": "code",
   "execution_count": 80,
   "outputs": [
    {
     "name": "stdout",
     "output_type": "stream",
     "text": [
      "Software Engineering for AI-\n",
      "Enabled Systems\n",
      "Prof. Dr.-Ing. Norbert Siegmund\n",
      "Software Systems\n",
      " Topic I: \n",
      "Why Project Management\n",
      "2 Project Management of AI Systems\n",
      "TL;DR: \n",
      "- Scoping the project\n",
      "- Setting the g oal of the project, product, or system to be developed\n",
      "- Roles & team management\n",
      "- Project \n"
     ]
    }
   ],
   "source": [
    "text = pdf_to_str(\"test_pdf/3_ProjectManagement.pdf\")\n",
    "print(text[:300])"
   ],
   "metadata": {
    "collapsed": false,
    "ExecuteTime": {
     "end_time": "2023-05-18T10:22:13.288411580Z",
     "start_time": "2023-05-18T10:22:11.860733525Z"
    }
   }
  },
  {
   "cell_type": "code",
   "execution_count": 81,
   "outputs": [
    {
     "data": {
      "text/plain": "['software',\n 'engineering',\n 'ai-',\n 'enabled',\n 'systems',\n 'prof.',\n 'dr.-ing',\n 'norbert',\n 'siegmund',\n 'software',\n 'systems',\n 'topic',\n 'project',\n 'management',\n '2',\n 'project',\n 'management',\n 'ai',\n 'systems',\n 'tl',\n 'dr',\n 'scoping',\n 'project',\n 'setting',\n 'g',\n 'oal',\n 'project',\n 'product',\n 'system',\n 'developed',\n 'roles',\n 'team',\n 'management',\n 'project',\n 'life',\n 'cycle',\n '3',\n 'ai',\n 'componentsoftware',\n 'system',\n 'specification',\n 'architecture',\n 'designdevelopmentdebugging',\n 'testing',\n 'deployment',\n 'monitoring',\n 'traditional',\n 'software',\n 'developmentcollection',\n 'labelling',\n 'preprocessing',\n 'versioning',\n 'storagemodel',\n 'selection',\n 'training',\n 'hyperparameter',\n 'debuggingdata',\n 'manage',\n 'mentexperi',\n 'mentation',\n 'roles',\n 'tasks',\n 'processesarchetypes',\n 'life',\n 'cycle',\n 'metricsfeedback',\n 'flywheel',\n 'project',\n 'management',\n 'ai',\n 'p',\n 'roject',\n 'archetypes',\n 'ml',\n 'model',\n 'types',\n 'exist',\n 'realize',\n 'business',\n 'goal',\n 'start',\n 'ai/ml',\n 'project',\n 'based',\n 'requirements',\n 'select',\n 'suitable',\n 'metrics',\n 'optimize',\n 'build',\n 'teams',\n 'organize',\n 'company/project',\n 'productionize',\n 'ai/ml',\n 'model',\n '4',\n 'project',\n 'management',\n 'venturebeat']"
     },
     "execution_count": 81,
     "metadata": {},
     "output_type": "execute_result"
    }
   ],
   "source": [
    "tokens = preprocess_text(text, stop_words)\n",
    "tokens[:100]"
   ],
   "metadata": {
    "collapsed": false,
    "ExecuteTime": {
     "end_time": "2023-05-18T10:22:13.387492632Z",
     "start_time": "2023-05-18T10:22:13.292050194Z"
    }
   }
  },
  {
   "cell_type": "markdown",
   "source": [
    "### Perform Keyword Analysis"
   ],
   "metadata": {
    "collapsed": false
   }
  },
  {
   "cell_type": "code",
   "execution_count": 82,
   "outputs": [],
   "source": [
    "from sklearn.feature_extraction.text import TfidfVectorizer"
   ],
   "metadata": {
    "collapsed": false,
    "ExecuteTime": {
     "end_time": "2023-05-18T10:22:13.395318779Z",
     "start_time": "2023-05-18T10:22:13.385784614Z"
    }
   }
  },
  {
   "cell_type": "code",
   "execution_count": 83,
   "outputs": [],
   "source": [
    "def get_keyword_scores(tokens):\n",
    "    \"\"\"\n",
    "    Returns a dict mapping each unique token to its TF-IDF score\n",
    "    \"\"\"\n",
    "    # Join tokens back into a string\n",
    "    text = ' '.join(tokens)\n",
    "    # Create the TF-IDF vectorizer\n",
    "    vectorizer = TfidfVectorizer()\n",
    "    # Compute TF-IDF scores\n",
    "    tfidf_matrix = vectorizer.fit_transform([text])\n",
    "    # Get the feature names (tokens)\n",
    "    feature_names = vectorizer.get_feature_names_out()\n",
    "    # Create a dictionary of token to TF-IDF score\n",
    "    keyword_scores = {}\n",
    "    for col in tfidf_matrix.nonzero()[1]:\n",
    "        keyword_scores[feature_names[col]] = tfidf_matrix[0, col]\n",
    "    return keyword_scores"
   ],
   "metadata": {
    "collapsed": false,
    "ExecuteTime": {
     "end_time": "2023-05-18T10:22:13.444107435Z",
     "start_time": "2023-05-18T10:22:13.399131210Z"
    }
   }
  },
  {
   "cell_type": "code",
   "execution_count": 84,
   "outputs": [],
   "source": [
    "def get_top_n_keywords(text, n, stop_words):\n",
    "    tokens = preprocess_text(text, stop_words)\n",
    "    kw_scores = get_keyword_scores(tokens)\n",
    "    return [item[0] for item in sorted(kw_scores.items(), key=lambda item: item[1], reverse=True)][:n]"
   ],
   "metadata": {
    "collapsed": false,
    "ExecuteTime": {
     "end_time": "2023-05-18T10:22:13.475360760Z",
     "start_time": "2023-05-18T10:22:13.409870423Z"
    }
   }
  },
  {
   "cell_type": "code",
   "execution_count": 85,
   "outputs": [
    {
     "data": {
      "text/plain": "['data',\n 'ml',\n 'model',\n 'team',\n 'project',\n 'product',\n 'teams',\n 'development',\n 'ai',\n 'software']"
     },
     "execution_count": 85,
     "metadata": {},
     "output_type": "execute_result"
    }
   ],
   "source": [
    "get_top_n_keywords(text, 10, stop_words)"
   ],
   "metadata": {
    "collapsed": false,
    "ExecuteTime": {
     "end_time": "2023-05-18T10:22:13.619082458Z",
     "start_time": "2023-05-18T10:22:13.453041564Z"
    }
   }
  },
  {
   "cell_type": "code",
   "execution_count": 86,
   "outputs": [],
   "source": [
    "text2 = pdf_to_str(\"test_pdf/3_RequirementsEngineering.pdf\")"
   ],
   "metadata": {
    "collapsed": false,
    "ExecuteTime": {
     "end_time": "2023-05-18T10:22:14.148198428Z",
     "start_time": "2023-05-18T10:22:13.619548451Z"
    }
   }
  },
  {
   "cell_type": "code",
   "execution_count": 87,
   "outputs": [
    {
     "data": {
      "text/plain": "['data',\n 'requirements',\n 'ai',\n 'model',\n 'specification',\n 'system',\n 'specify',\n 'learning',\n 'etc',\n 'define']"
     },
     "execution_count": 87,
     "metadata": {},
     "output_type": "execute_result"
    }
   ],
   "source": [
    "get_top_n_keywords(text2, 10, stop_words)"
   ],
   "metadata": {
    "collapsed": false,
    "ExecuteTime": {
     "end_time": "2023-05-18T10:22:14.250906853Z",
     "start_time": "2023-05-18T10:22:14.154720016Z"
    }
   }
  },
  {
   "cell_type": "markdown",
   "source": [
    "##### Freed code in keyword_extraction.py"
   ],
   "metadata": {
    "collapsed": false
   }
  }
 ],
 "metadata": {
  "kernelspec": {
   "display_name": "Python 3",
   "language": "python",
   "name": "python3"
  },
  "language_info": {
   "codemirror_mode": {
    "name": "ipython",
    "version": 2
   },
   "file_extension": ".py",
   "mimetype": "text/x-python",
   "name": "python",
   "nbconvert_exporter": "python",
   "pygments_lexer": "ipython2",
   "version": "2.7.6"
  }
 },
 "nbformat": 4,
 "nbformat_minor": 0
}
