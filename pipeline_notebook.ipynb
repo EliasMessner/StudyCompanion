{
 "cells": [
  {
   "cell_type": "markdown",
   "source": [
    "# Data Integration Pipeline Demo"
   ],
   "metadata": {
    "collapsed": false
   }
  },
  {
   "cell_type": "code",
   "execution_count": 5,
   "outputs": [],
   "source": [
    "from pdf_and_text_utils import load_pdf, split_into_chunks\n",
    "from keyword_extraction_tfidf import get_search_terms, pdf_docs_to_str\n",
    "from scraper import load_web_content\n",
    "from vectorstore_controller import VectorstoreController\n",
    "import pandas as pd"
   ],
   "metadata": {
    "collapsed": false,
    "ExecuteTime": {
     "end_time": "2023-06-07T16:06:27.422084516Z",
     "start_time": "2023-06-07T16:06:27.360474966Z"
    }
   }
  },
  {
   "cell_type": "markdown",
   "source": [
    "#### Create vectorstoreController"
   ],
   "metadata": {
    "collapsed": false
   }
  },
  {
   "cell_type": "code",
   "execution_count": 6,
   "outputs": [],
   "source": [
    "vectorstore_controller = VectorstoreController()"
   ],
   "metadata": {
    "collapsed": false,
    "ExecuteTime": {
     "end_time": "2023-06-07T16:06:28.640865939Z",
     "start_time": "2023-06-07T16:06:27.378250726Z"
    }
   }
  },
  {
   "cell_type": "markdown",
   "source": [
    "## Load PDF and add to Vectorstore"
   ],
   "metadata": {
    "collapsed": false
   }
  },
  {
   "cell_type": "code",
   "execution_count": 7,
   "outputs": [],
   "source": [
    "pdf_path = \"spielwiese/test_pdf/3_RequirementsEngineering.pdf\"\n",
    "pdf_docs = load_pdf(pdf_path)"
   ],
   "metadata": {
    "collapsed": false,
    "ExecuteTime": {
     "end_time": "2023-06-07T16:06:29.493269238Z",
     "start_time": "2023-06-07T16:06:28.640222342Z"
    }
   }
  },
  {
   "cell_type": "code",
   "execution_count": 8,
   "outputs": [
    {
     "name": "stderr",
     "output_type": "stream",
     "text": [
      "Created a chunk of size 342, which is longer than the specified 200\n",
      "Created a chunk of size 354, which is longer than the specified 200\n",
      "Created a chunk of size 488, which is longer than the specified 200\n",
      "Created a chunk of size 571, which is longer than the specified 200\n",
      "Created a chunk of size 256, which is longer than the specified 200\n",
      "Created a chunk of size 717, which is longer than the specified 200\n",
      "Created a chunk of size 285, which is longer than the specified 200\n",
      "Created a chunk of size 366, which is longer than the specified 200\n",
      "Created a chunk of size 351, which is longer than the specified 200\n",
      "Created a chunk of size 291, which is longer than the specified 200\n",
      "Created a chunk of size 254, which is longer than the specified 200\n",
      "Created a chunk of size 241, which is longer than the specified 200\n",
      "Created a chunk of size 225, which is longer than the specified 200\n",
      "Created a chunk of size 419, which is longer than the specified 200\n",
      "Created a chunk of size 572, which is longer than the specified 200\n",
      "Created a chunk of size 882, which is longer than the specified 200\n",
      "Created a chunk of size 227, which is longer than the specified 200\n",
      "Created a chunk of size 324, which is longer than the specified 200\n",
      "Created a chunk of size 213, which is longer than the specified 200\n",
      "Created a chunk of size 224, which is longer than the specified 200\n",
      "Created a chunk of size 437, which is longer than the specified 200\n",
      "Created a chunk of size 215, which is longer than the specified 200\n",
      "Created a chunk of size 294, which is longer than the specified 200\n",
      "Created a chunk of size 220, which is longer than the specified 200\n",
      "Created a chunk of size 313, which is longer than the specified 200\n",
      "Created a chunk of size 204, which is longer than the specified 200\n",
      "Created a chunk of size 276, which is longer than the specified 200\n",
      "Created a chunk of size 534, which is longer than the specified 200\n",
      "Created a chunk of size 219, which is longer than the specified 200\n",
      "Created a chunk of size 296, which is longer than the specified 200\n",
      "Created a chunk of size 203, which is longer than the specified 200\n"
     ]
    },
    {
     "data": {
      "text/plain": "Upserted vectors:   0%|          | 0/137 [00:00<?, ?it/s]",
      "application/vnd.jupyter.widget-view+json": {
       "version_major": 2,
       "version_minor": 0,
       "model_id": "82dfae0b3a69400ab90572b01c1e8e7f"
      }
     },
     "metadata": {},
     "output_type": "display_data"
    },
    {
     "data": {
      "text/plain": "['85b63652-b125-43a1-9a6e-a221603113c8',\n 'e097bfee-d89b-49cf-852b-2a2c2e9d6e54',\n '2b3b3f36-88e8-4c7f-8cfd-d56bfd9d954c',\n '1e72757d-f2da-45ff-91f4-0156724a670c',\n 'ce0dc3ab-8bd3-47e4-9c40-803f60d08b64',\n '00e05cff-c10e-4881-b201-198672cb029a',\n '0a5d275d-344f-49c9-8949-f31b398aa87d',\n '3dd39396-b751-4565-b15b-9875eef75637',\n '02beed7e-eb45-4ed2-91c0-c4f3e205487e',\n '54b66a8c-6dd7-411a-af1a-f4e92ca01e63',\n 'd1dea78d-d660-4c0d-b68f-781ba2b1b38e',\n '1a4a876f-cd45-4dd7-99b4-4eb0a8ee8a5e',\n 'c28ae4e2-e7b2-4cd8-b03f-0ed69603c8d9',\n 'ed8e03f3-1101-4296-bdc8-7db585697172',\n '5b163679-23ca-4feb-974c-63f5189f2cee',\n 'aedd04b8-c544-408f-8493-3250f595b8d6',\n '0a7b9426-867e-45ee-8388-e7c268c1f7d3',\n 'aa8073d8-8d83-40ec-8365-fbc38532315b',\n 'acd58c73-cad1-4a50-bd5a-dbba1ea0bb97',\n 'a165cff1-ada7-42fa-ab33-b5b7ec039ba0',\n '0c002b85-1d6f-4d33-a3aa-154dd05f29bd',\n '91ecf10d-23de-4566-842f-21ed8d0ad152',\n '3c3b2f55-9c0b-48e7-ad60-1868d95c9f4c',\n '0814c8d0-8489-4060-80d2-e88015841e7a',\n '6fef9df2-d72a-4664-9bb3-9b55ec60f5ab',\n 'b5edb345-e515-4804-a895-0fc87dfe8c38',\n '199096b9-1868-469d-9ebd-0687085e824f',\n '5eaac4bd-bde1-428d-a0d6-a71fb54027fc',\n 'd61aeeee-5dfb-48ee-9a90-2b95e254176d',\n '7d5fc71c-765d-4be8-845e-c8961b7ed9d5',\n '97bbcb61-d239-44da-97ff-3dfd86a8cfe2',\n '120c5fbd-7aaa-40bd-8712-437fecb125d8',\n 'f9f059ce-15c4-493a-9f87-396fdb428836',\n 'f7d35ffb-17c4-4227-af8f-33021baae693',\n '90c9d557-d9c9-4399-9c56-d61d362ecc0a',\n '93e86df3-8009-431e-a79c-385b2de0aafb',\n '88d4d357-5759-423b-8f3d-c04c56674723',\n '80dfb8a5-ac33-467f-b3b0-fe1e8543ac91',\n 'f75f3f91-c403-4ff3-8550-3c824aa353dc',\n '361b2c7b-d3d5-4d76-b62d-6291ab42dacb',\n 'a4cc5b6d-de7a-4847-a50c-bcfc3992942d',\n 'd4e22f3f-275f-46ac-8c78-bdd3ae5a7ddf',\n 'dc17163f-f33d-4a68-bb64-47f774220733',\n '9cc2e2e9-9a11-42ab-999d-641471aef304',\n '290ba79a-7bfb-4315-b13f-5e78de8f3ae4',\n '9644a490-7e31-4430-8f3e-a96f815139a1',\n 'af6ddd7c-f404-42bb-9817-a2383f1f1c3e',\n '3b6f1d79-6391-4cd1-861f-56a3ab791268',\n '2f927031-af21-46c3-ba0e-677b4af518ce',\n '4fa7e92c-b6cd-4de9-aae4-1441c454b88f',\n '6d61c81a-9bbd-49db-a92c-d716a3570f91',\n '983c4b23-f193-4cdf-a6b5-b85e3b6ccccb',\n 'd94e958c-9250-49d1-9040-1cb49184685f',\n 'c6a012bd-a64f-451c-8d0a-b77e9d6e7391',\n 'da4d552d-6074-4b42-bac4-0f639c7782d7',\n '2752cd96-016b-4b0b-b2d4-eaccd916d96e',\n 'd04df3ba-8da8-4a64-8529-1b248b504351',\n 'a0d2580d-59d5-4154-bdc3-2630ea2b623a',\n 'e023fac3-cf2c-429d-8cb1-4f6f132cf04b',\n 'ab20717d-a971-4c45-b4d1-ed072dedc0ce',\n 'df052512-d48a-486c-862d-f519c24c7f12',\n '37a6ce4c-3f3e-464c-8cb5-d1ab914868df',\n '86515c62-f15e-46b2-90f6-c9ed5f9a4adb',\n '2b12c585-eb41-45ab-899c-4064f19bc326',\n 'f9f17dbb-9199-4dab-bfaf-823f86baec02',\n '9faed44c-2728-4605-b01f-5fce2b1f2412',\n '99f8ca6c-9576-4b6f-9c0a-ceb1b7b46848',\n 'f56fd02e-7c3c-4708-9909-34a02c45f824',\n 'da1e29ee-4d16-4f85-9811-4d98610e9aed',\n 'bfd542cb-8d56-4510-bd02-d0012893fdbd',\n '2eb1e7c8-2010-4b33-ad38-60e5e3d86074',\n '3ffbfe9e-50ef-441c-9c0c-590bdaf65c38',\n '60e341f6-a641-4118-88b6-ae37d64d69c4',\n 'dcbbc40c-1ff1-4eb0-ae6e-67a770dfe9ff',\n 'c296f1ed-a71f-443c-8fbd-160267a3858e',\n '7ee3c8cd-c722-47fc-b9d2-ddd0880e3a9a',\n '9fac0bc4-4e00-4ebf-b735-f5ad5616ba3e',\n '36a425f9-c783-4753-86f9-fabb657b44d7',\n '6350315f-057b-48c4-8182-68309ed1e32d',\n '3694014a-5412-473a-a6d7-4e559c9c0261',\n '25c48620-c604-43d1-b56f-978d55718f42',\n '2c5e1da6-d492-4fb9-9765-5321028e995f',\n '9de42141-3f13-4b61-b5c0-15bea37b8055',\n '7df63c5b-192b-4741-be00-faaed7296ef9',\n 'a7925b55-684b-474f-93d0-966730ec76f3',\n '486cfa01-d6d2-44a4-a067-44491e986bf0',\n '11b8e5ec-ae85-4b9f-b69b-ddd9dd897eda',\n '70f3af20-4681-42b5-9621-f4a5b2b8533b',\n 'd59e5b2e-bb63-4715-9c56-662b25e0560b',\n '149dd778-59d7-47b6-9586-71c98dc5b26c',\n '3c3f9da4-7835-4b66-b671-b2ac9bd28d68',\n 'f32e0035-e9c2-4677-8f98-f9f39d6c1a51',\n '4a059dfb-182d-429f-9a5e-130e9ef7811e',\n '250f13fc-a4da-4e88-b9c9-a372240f8e81',\n '1266ddaa-4bdf-4a89-b3a3-f91c63ff949a',\n '766b6099-7e90-478d-a8a4-d164327ae3d8',\n '351e1a1d-e852-43a7-bbc1-3193bfaae8bf',\n '4c819b61-7a49-401b-a188-c7d0570a824a',\n '93be8c9b-d303-4159-afe6-a09df4061fa1',\n '9d7931f4-05cb-4dc8-b5df-9f66cfebbbf4',\n '24bf3e56-da70-4bac-8ffa-ce2835077c6a',\n 'b2bebb3d-2a85-4563-883d-6e556eaea63d',\n '9fbd2ffc-519a-4d6d-8223-b67cf33bb4c4',\n '9c1cffb1-9483-4b4f-ad84-cb8b03d30eb6',\n '4cae4c15-21ff-4ac9-ab88-951bedf00222',\n 'bf5b70ea-70e9-43ac-8097-3d85403af0a3',\n 'ca5382ff-ab71-47ba-ba0f-37f8631669d1',\n '825884ca-3a87-4a6a-9afe-28cccc06c90d',\n '9b9a60ed-f472-401b-a32f-03a7784891dc',\n '3e93c0e0-b2fc-47a8-b44e-c54bec22fba5',\n '83c90521-9ab2-4e61-bd3c-8ff3d616e136',\n '4656bcea-1611-428d-82d5-8fce548ee4ac',\n '9e6f7f36-f545-4b07-a498-c2503f706523',\n '043d9782-2486-421a-aaae-7239aa36456f',\n 'a201d04f-17d6-4e14-8749-dc781806a639',\n '4f788f67-a26f-43da-84a0-3966fb4a4b9b',\n '79ca11e1-70f6-4cab-bad9-d5e63ec5c1a2',\n 'eb618265-07b2-4f55-ade3-21e536496b8a',\n 'bdfbb98c-f9b5-4cde-a9e9-ba55333dc66a',\n 'd6e8002a-513e-4b16-b424-ce522f2a881b',\n 'e4447f12-d516-4d41-a70b-aa6014f09072',\n 'd48f4cf2-dbde-465f-980a-d397feaef940',\n '6b4c3195-da1f-4c3d-b622-db17031972a2',\n 'b6b6bec8-1ec7-412a-97eb-7903e5f00b86',\n '507a9dca-64df-473c-87eb-7cd156d79e00',\n '5f8ebce5-3fdc-4fc1-971c-8ce45a9b9bcd',\n '93f642c7-8e9c-4b45-8ed2-2ad4b38340ac',\n '511e3dd9-c1e4-4e2e-8c8d-022a0b9d8a36',\n '40ae4e9f-0117-4c4e-ab73-e4649a5da836',\n 'ba678800-0854-4855-a8ef-a3e13d896c15',\n '6dba1e1a-4cb1-41ec-abbc-93c848b30d4e',\n '91ef8b16-791f-49e2-9c82-cd7e91a1a161',\n '0a44ddc7-352f-46a1-9840-fb8b5bf925af',\n '60411237-7a75-410d-9b59-d780cdeec1af',\n 'b9480cc3-f7a5-43e0-84c0-4039acd9bc21',\n '18c496e6-4cb4-4b73-b249-a062fe5cb6c6',\n '6b401bd4-0e76-4aab-8cab-57d9bdbc1cd9']"
     },
     "execution_count": 8,
     "metadata": {},
     "output_type": "execute_result"
    }
   ],
   "source": [
    "splits = split_into_chunks(pdf_docs)\n",
    "vectorstore_controller.add_documents_to_vectorstore(splits)"
   ],
   "metadata": {
    "collapsed": false,
    "ExecuteTime": {
     "end_time": "2023-06-07T16:06:39.903335629Z",
     "start_time": "2023-06-07T16:06:29.497508938Z"
    }
   }
  },
  {
   "cell_type": "markdown",
   "source": [
    "## Extract Search Query from PDF"
   ],
   "metadata": {
    "collapsed": false
   }
  },
  {
   "cell_type": "code",
   "execution_count": 9,
   "outputs": [
    {
     "name": "stderr",
     "output_type": "stream",
     "text": [
      "[nltk_data] Downloading package stopwords to /home/elias/nltk_data...\n",
      "[nltk_data]   Package stopwords is already up-to-date!\n"
     ]
    },
    {
     "data": {
      "text/plain": "'data model requirements specification non functional ai component research attempts'"
     },
     "execution_count": 9,
     "metadata": {},
     "output_type": "execute_result"
    }
   ],
   "source": [
    "pdf_str = pdf_docs_to_str(pdf_docs)\n",
    "search_query = get_search_terms(text=pdf_str)\n",
    "search_query"
   ],
   "metadata": {
    "collapsed": false,
    "ExecuteTime": {
     "end_time": "2023-06-07T16:06:40.659384299Z",
     "start_time": "2023-06-07T16:06:39.907132673Z"
    }
   }
  },
  {
   "cell_type": "markdown",
   "source": [
    "#### Scrape the Web for Content and store in Vectorstore"
   ],
   "metadata": {
    "collapsed": false
   }
  },
  {
   "cell_type": "code",
   "execution_count": 10,
   "outputs": [
    {
     "name": "stdout",
     "output_type": "stream",
     "text": [
      "Scraping: https://medium.com/@purvanshimehta/coding-interview-resources-ml-data-science-ai-research-engineer-b7cc2fbf81ab?source=search_post---------5----------------------------\n",
      "Scraping: https://medium.com/real-ventures/canadas-artificial-intelligence-ecosystem-4798b0517016?source=search_post---------3----------------------------\n",
      "Scraping: https://medium.com/neuri-ai/wattnet-learning-to-trade-fx-with-hierarchical-spatio-temporal-representations-of-highly-bbd0f02c812f?source=search_post---------1----------------------------\n",
      "Scraping: https://medium.com/towards-data-science/why-robustness-is-not-enough-for-safety-and-security-in-machine-learning-1a35f6706601?source=search_post---------2----------------------------\n",
      "Scraping: https://medium.com/@nvashanin/documentation-in-software-architecture-4f2e4159c4fc?source=search_post---------7----------------------------\n",
      "Scraping: https://medium.com/towards-data-science/data-centric-vs-model-centric-ai-the-answer-is-clear-4b607c58af67?source=search_post---------8----------------------------\n",
      "Scraping: https://medium.com/@dassanawijesekara/non-performance-requirements-of-consumer-data-standards-specification-open-banking-in-australia-f947ee013578?source=search_post---------0----------------------------\n",
      "Scraping: https://medium.com/dev-genius/top-10-architecture-characteristics-non-functional-requirements-with-cheatsheat-7ad14bbb0a9b?source=search_post---------6----------------------------\n",
      "Scraping: https://medium.com/@purvanshimehta/interview-resources-ml-data-science-ai-research-engineer-4703518d208e?source=search_post---------4----------------------------\n"
     ]
    },
    {
     "name": "stderr",
     "output_type": "stream",
     "text": [
      "WARNING:langchain.text_splitter:Created a chunk of size 525, which is longer than the specified 500\n",
      "WARNING:langchain.text_splitter:Created a chunk of size 651, which is longer than the specified 500\n",
      "WARNING:langchain.text_splitter:Created a chunk of size 1068, which is longer than the specified 500\n",
      "WARNING:langchain.text_splitter:Created a chunk of size 553, which is longer than the specified 500\n",
      "WARNING:langchain.text_splitter:Created a chunk of size 565, which is longer than the specified 500\n",
      "WARNING:langchain.text_splitter:Created a chunk of size 648, which is longer than the specified 500\n",
      "WARNING:langchain.text_splitter:Created a chunk of size 993, which is longer than the specified 500\n",
      "WARNING:langchain.text_splitter:Created a chunk of size 562, which is longer than the specified 500\n"
     ]
    },
    {
     "data": {
      "text/plain": "Upserted vectors:   0%|          | 0/197 [00:00<?, ?it/s]",
      "application/vnd.jupyter.widget-view+json": {
       "version_major": 2,
       "version_minor": 0,
       "model_id": "0d834ef1ee0441c6a2ff645f9e4172d2"
      }
     },
     "metadata": {},
     "output_type": "display_data"
    },
    {
     "data": {
      "text/plain": "['b7cf184e-06d7-46ab-8a95-fd57dd15432c',\n '4ba506ec-0935-4f54-a5b9-241ebc7b70ca',\n '63874e2e-7bd1-4a00-8829-fe6c4e67cf95',\n 'c64dc0fd-1da3-472f-be50-22475760fb67',\n 'd1f6741e-b93e-4ac2-9c12-d9a5ee75a280',\n '9f1d4a0f-adba-4e9f-9997-ddc4676be114',\n 'ad2b14a6-4b43-4108-a36e-cff888789a48',\n '10887ddc-6590-465a-8892-05954edfab33',\n 'd62ebbab-7b66-43e2-9618-089635ae73a4',\n 'cf2b21ec-6633-41fc-b0b9-99aa73dfe0e0',\n 'bf34846e-b3ea-49f0-bf8d-9c7ebf9f9282',\n '58b90682-93b3-484c-ad46-2aacbacd2369',\n '07305907-f106-4b61-9ba5-523c17e59163',\n 'c3267898-984d-4d8e-b5fc-53d787262af3',\n '0f082bdb-7b45-4a8c-a241-7221ac6fe209',\n 'd84ec20b-70ae-49f7-8d37-7ed66d700c4b',\n '1d29dda2-d188-450d-b122-7e4a7ade97b7',\n '8cec0263-e830-4a33-808f-f803442ea22e',\n 'e80dd5e7-ac12-4b07-90df-9183699c94a3',\n '20221731-2f23-4ba2-89ec-6c0175d66dc6',\n '4de5d60f-3f39-43e7-aa7f-7990b749fac8',\n 'cb625c0e-a8e4-4868-a311-05954be26c83',\n '071a3659-0ad4-42b0-8ed7-901981eece6a',\n 'dad74027-b519-4b5d-9f82-072ed0a14a62',\n '1dbf846d-4603-41db-b517-3bcda26597b6',\n '93560196-d8ad-4899-bf87-ecb4ae263fa9',\n '4c789314-65a3-42cc-be9b-cdd50aa12476',\n '3675e2b7-f334-4bd7-a7ea-f8d375a14285',\n 'b5a131a2-e28c-40e8-979f-4045133b5f73',\n '0bc7a006-37b1-4529-bf9f-5941f5acd0e7',\n 'c415476e-b2fd-46b6-95a1-151c501f2740',\n 'fc794dda-d595-4d9c-9645-c7b5de4b8ada',\n 'd96822b1-9f78-4164-b749-dbab2993ba28',\n 'ccbe00f8-cc7f-4699-b1cb-dd2a0fdeff99',\n '70c47a72-497c-43b0-bc27-9f5fe2dab7d2',\n 'fddcff8d-ef28-447f-a0ca-e70a0310bcae',\n 'f4c3b3c7-08d2-458f-a965-82339eeaa980',\n '8f7957fb-33c7-444f-a17b-d381e4f68567',\n '216e6c26-8017-4b1a-b67c-2bc038561393',\n '684b00fe-7aab-45b0-a2d5-0eb8cda37857',\n 'e5b34f32-a1bb-467e-a0b9-e45bb869dc24',\n 'e27d4ffa-e65e-42d3-a3a9-2dd9719167f0',\n 'b772f7b7-40f1-4aa1-aec9-a29afd2129d7',\n 'e120b6be-1548-453d-bc9f-ff20dd1c39a1',\n 'f4c27c05-cd4d-477f-aa4c-e8c220467ee9',\n 'a2160f93-029a-4405-b8db-8494e40e4e87',\n '1ea00c27-fc81-4e72-adfb-e96e1e5549f1',\n '8394bf7f-b189-49b6-9ed2-1177f9a9fe21',\n '7e499b0b-bda1-4f1f-a3ce-cd53fba8b51b',\n '4a27a651-9eac-4e36-95ca-1b8c3ab7cdfe',\n 'a7bf7552-1557-4e22-836b-51a4feffe430',\n '85e5e1e6-7dea-4f5d-9037-163c26175f9f',\n '25757c5e-1745-4ca9-b400-b4f209d29671',\n '464b3697-632f-4d37-bb3c-dc3d51bc83aa',\n '21e789b9-52ed-48a6-bb1e-3cd49123de04',\n '230127f6-1382-4607-9216-2925f6bf8cda',\n 'dc059324-8a90-4d88-9e6d-79684dd20980',\n 'd173b223-b873-4dbb-9ffe-016a41325dc1',\n 'cb6c203a-5c45-4ef8-b895-5606f26d53c0',\n '88e8b602-037f-451e-a94c-e3b0db1bbc34',\n 'b53d6de9-cf33-453d-9659-3c6888dee057',\n 'ea6df572-3b68-471a-8a22-8b2c76e61515',\n '6f6a8a3e-b2d0-45c9-a64b-5a2b9ca76aef',\n '9651eada-ca72-4691-9c07-833f68c169c3',\n '4301d911-1871-47c9-8c6b-daae7dcf985e',\n 'c3da7918-d623-46e4-9b4f-b45a2aadb799',\n '2dba0b0e-d533-4ea8-b353-36c77958679d',\n '95b5d90b-577b-4642-80da-c6397ea42ea5',\n '468c3d2b-397d-4bf6-80ff-83b6a537e39f',\n 'df2f7d1b-fd52-4658-8e73-1f8e797bf41b',\n '65f85979-2074-4578-95e9-0a7b0c9255bd',\n '5c09a9b7-2e6b-43f6-8264-5ed60b8a9f69',\n '3dc648aa-7eb8-41a6-b7aa-72e81ce7c09c',\n '96a37d18-0ccc-425d-a27d-a61724912b29',\n '9ad53321-66aa-4a06-8694-85326762bcb3',\n '643df6ba-36af-4d76-8bcd-be8cb35cc1db',\n '9fa28645-7ca8-4712-a780-ff25bf2d599e',\n '13d00f06-1e06-4aab-a409-64a4576e17b7',\n 'ad9f26cb-edae-481e-84bc-97d542d644a4',\n 'eed7bfda-f4f4-4d2b-869c-3aed8a4cc8d9',\n 'cbb95c87-17d9-4431-9284-32e36dc90fec',\n 'bff98770-2631-4889-866f-bc6d72a4d083',\n '266297d0-4888-497b-9950-91034f30440c',\n '1f8dc2cd-8901-43af-a46f-fb4443c1b586',\n '894c8e52-31e7-41f7-bd1c-3cdffd11f5c7',\n '61d649e9-a986-4774-ace1-8b823b39db5c',\n '539feccb-0f2c-45d6-97d8-aec73b17bd18',\n 'c4887749-f60b-4017-aff4-9ca498f98628',\n '16268cc5-d3c6-473c-bb2d-5efb1ebb0e42',\n 'af26e32c-990b-4e3d-a6f9-a822308436c1',\n 'dfce5fc3-9c7a-4593-98a4-11b6dbef94f8',\n 'ef838ec7-a636-4c0b-9ae2-2ce54e3e69d5',\n 'e41a38eb-257d-4e0d-8e77-e02e11674a19',\n '6b1cabab-08ec-4478-b0b4-addd4ddddd7c',\n '89c05bf5-b04c-48e1-b37e-45b79366fda1',\n 'e64effd5-dc7a-40a1-98c8-6b9f89a054a2',\n 'd397db1f-a1c7-4ba1-976b-635690a1ee67',\n '635dc765-79fd-44ce-b3e7-353504695ee3',\n '910c1bfc-7a24-4c44-afe1-f12bd4b3769b',\n 'cde2f015-2fdc-4ba9-864d-442e70b13393',\n 'f26509be-c6c5-456d-93e3-59616edff067',\n '02509fd6-dfc1-469f-8ae9-104e81e2aea7',\n 'b13e1046-050a-4f5c-bf0a-74958c823c8f',\n '9603f055-1399-4c9b-ac14-284a348748d7',\n 'b7cfc5fd-4f05-4b99-a74a-a5f4e8ea4ee2',\n 'eadf722d-7370-4944-9673-4cf2a1d3ae15',\n 'f71ee74a-d311-41fb-a3bc-56658155bbe5',\n 'f42d8638-5c4b-4be8-bcdf-d2b02cb99d40',\n '998c4554-f2a2-4246-bbf5-0262d37ca8e7',\n 'c0b27ff1-3bda-426b-a36b-bf44f56c640d',\n '96916e4d-dbd5-4988-8147-723f4886d85a',\n 'ab4a7d1c-780c-4059-9f83-35713806a160',\n 'cea81f47-86e0-4e1b-be8e-9a4c2108db07',\n '6743d6a7-0183-4b2f-94cd-9750c82af531',\n '0118a3b9-afcc-44aa-a652-d70226fce7b0',\n '79b542db-5501-4d96-9a2a-09ec899046a1',\n 'c4254284-4251-425a-9908-9a7de19e7333',\n '86fd265b-d236-4d5a-9506-d1c758ac6ec7',\n '1fd1fc08-6115-4873-bf94-b53bd5974f8c',\n 'adce6328-bbe9-4b53-bf84-f677a753fa04',\n '6497a0c6-0284-4424-a906-b1ffb504fe00',\n '442d9132-a11b-41c5-9fe6-26fc58a0c771',\n '0d7a7158-7cdf-4de6-a51c-1402e030dce9',\n '3660146a-102c-4478-8d59-cff7a14b84ea',\n 'db25e9ff-b2e1-4e3b-855e-da978eb725a2',\n '513b2b68-5a34-4841-bc50-ddb787d9044c',\n '0ea8bf99-9615-4214-b8ee-d8ff8d22e1a8',\n '2dc67d53-3127-44b4-8c58-cfcaa8fd7db7',\n '2b5f882e-e018-448a-8b9e-c90671b1f491',\n '7b8ea1b2-95f2-42db-88cd-5612df8dfd7e',\n '9799ebfc-aa94-4c9c-bc13-a4c42c533d8b',\n '4543b17e-1170-446f-85ae-9a156d1d1106',\n 'e63fda8d-8028-4d40-ae19-0dc4bfa90141',\n '5c803e8e-6706-4b86-ae56-72a21f1b9ba4',\n '1dcec79a-c9ca-45a8-aad7-b9ff40b18182',\n '16b9e254-01e4-4e94-af6d-43daba87aa0e',\n '00912368-cc4e-4c5b-a1fc-88d324ef3402',\n 'f5571930-023b-4432-b53e-1ccea5c2f85c',\n 'ec75584f-635b-43cf-8d4f-5bf14d2f81d9',\n '2df66220-3d0e-4967-8aac-15a7da3a4616',\n 'f388204d-2299-4e94-b070-333f40ee9ef2',\n '6fb516e0-09c1-4a34-a98f-b0ae3ea493aa',\n '65ac4c66-df04-4f70-8310-37596c9ea67d',\n '73082c28-b005-4aa3-8601-d95b06394a07',\n '36024f2c-38cb-40fd-9923-624578aaaabb',\n '76597cb2-c639-4279-a4fd-800e15bbfe7e',\n '2d519c1b-107b-4bcd-b4db-a133a4a66f01',\n 'ddae2446-0e82-44a5-9d11-165f54a1e15d',\n 'af123754-bdc6-4b9a-ab64-93cb44870bd7',\n '6bdc7311-bc68-4525-9a95-c0eaf093e989',\n 'd1df1eda-96e2-4209-a5cc-b46d94432c39',\n 'e44ec74a-5321-412b-b22f-4e8f7f9b1998',\n 'df8530ed-7b3f-459f-8447-6ba97414aa8a',\n '62354cc6-f10b-45b1-ae2e-e8f0f0018857',\n 'd85d084b-1524-4c81-873b-273fc15670ad',\n '12e313c0-f132-4c42-a7d0-c1054c74ab5f',\n '9ceda59e-7b78-471b-8c74-96533fb775d1',\n '84b5f71e-3504-4c18-8ab7-6be5b328d887',\n '73c4fbf6-17ab-4de3-b400-0d80adfc3ee1',\n '842f0cc7-14c7-4956-b867-bf57cfddf87e',\n '1759334c-6a15-47ea-8cbd-e71562e9a2d5',\n '5af6bfed-8fea-42e3-bb9e-fdb3f4641c36',\n '5e854904-9cd8-4d36-981e-c264034c9cd5',\n 'd7306786-0222-4b28-bbb1-47df30d28ea1',\n '0d467f03-54fa-403a-ba69-ef5af3f83d09',\n 'f9a69163-44d2-4d8f-b715-f8e5de616a53',\n '19e3f45a-5148-4a7c-a5b3-1c80ccbf2ef1',\n '922ab2b6-ae9b-4361-bc4e-e270f803429b',\n '85340d51-339e-4f24-b16c-5ce98aa15a96',\n '6c52fedd-cb05-41fb-bcc8-b6e335a9dd08',\n 'c532dff2-9fd9-4265-b4c5-81b37c14d206',\n 'ed39b189-0935-4032-a86f-838e53bb5717',\n 'f60337cd-833f-40a3-98c8-948f8076da45',\n '36df0680-1776-49f6-863f-98bfaa292905',\n '26ec6361-9e98-4324-b618-ef4e500a1492',\n '13743fd3-b24f-4443-aa9f-1f1be4ce8d54',\n 'f7a56eaf-3cbf-41ca-a7bb-ab8e9672927a',\n '1366df00-cc4e-4698-a0ff-afb4003629f6',\n '53ecff82-c922-4b98-8f3e-6972155f0fe1',\n '0a2537a3-afd6-418e-a630-10a35efb880a',\n 'd31e5a34-d4f6-4f92-9d4d-5917534defde',\n '674434d4-915b-41d6-a3f4-ff25baa039a4',\n '5410b163-6cc7-41c3-8c50-e567393f3873',\n '74b145d9-4a9f-42b8-9a5d-876647862373',\n 'f3d5988f-20a2-4017-90d0-ec36ab656edb',\n '7aeead05-fa40-4c61-8715-cc342ba8897b',\n '78d4a1a9-59df-4f3b-90c0-bb338690caa1',\n '17891e60-faba-45c4-ada3-cf1dc11ad5a8',\n '0c9f1213-58b1-409f-8ad9-8ce8202cb1a6',\n 'd68d54ac-407f-4254-803c-41883f67d3d5',\n '941fb202-6138-437e-914d-9ed64e58bd44',\n '4aa2bd96-4480-486e-ac1a-3786951cbef8',\n 'e52b4006-5424-476c-ab5b-435bff5c8e43',\n '311c28f2-1633-4bcf-a930-a5b7525b8bf7',\n 'b3c7b28c-dc10-425a-8904-578bafa2a192',\n '21612a83-49aa-4460-9752-378ac337037d',\n 'fbf15baf-72ec-4bef-a859-90f390c718bc']"
     },
     "execution_count": 10,
     "metadata": {},
     "output_type": "execute_result"
    }
   ],
   "source": [
    "web_content = load_web_content('chrome', search_query)\n",
    "web_content_splits = split_into_chunks(web_content, chunk_size=500)\n",
    "vectorstore_controller.add_documents_to_vectorstore(web_content_splits)"
   ],
   "metadata": {
    "collapsed": false,
    "ExecuteTime": {
     "end_time": "2023-06-07T16:07:29.922270463Z",
     "start_time": "2023-06-07T16:06:40.660226266Z"
    }
   }
  },
  {
   "cell_type": "markdown",
   "source": [
    "## Similarity Search"
   ],
   "metadata": {
    "collapsed": false
   }
  },
  {
   "cell_type": "code",
   "execution_count": 12,
   "metadata": {
    "ExecuteTime": {
     "end_time": "2023-06-07T16:08:20.733426628Z",
     "start_time": "2023-06-07T16:08:20.433075388Z"
    }
   },
   "outputs": [
    {
     "name": "stdout",
     "output_type": "stream",
     "text": [
      "[Document(page_content='Non-functional requirements: Specify all properties, abilities, conditions, and behaviors of the system that are \\nnot associated with a functionality\\nExamples: Performance, energy consumption, privacy, safety, security, reliability, development cost\\nConstraints: Specify restrictions on the implementation of the system\\nExamples: Must run on system X; must deliver a result in X seconds; must finish dev in 180 days\\n6', metadata={'page': 5.0, 'source': 'spielwiese/test_pdf/3_RequirementsEngineering.pdf'}), Document(page_content='Architecture Characteristics / Non-Functional Requirements\\n\\nBriefly, functional requirements define what a system is supposed to do, like in the case of a car, take a person from A to B, and non-functional requirements stipulate how a system is supposed to be.\\n\\nHere is the overall cheatsheet of NFR:\\n\\nhttps://imgur.com/a/HzPp8s0\\n\\nThese top 10 Architectural Characteristics covers most of the aspect of a large-scale project.', metadata={'source': 'https://medium.com/dev-genius/top-10-architecture-characteristics-non-functional-requirements-with-cheatsheat-7ad14bbb0a9b?source=search_post---------6----------------------------'}), Document(page_content='Types of Requirements\\nFunctional requirements: Specify function (features) of a system\\nExamples: Interface to a payment system, email notification, order system, logistics, management, etc.', metadata={'page': 5.0, 'source': 'spielwiese/test_pdf/3_RequirementsEngineering.pdf'}), Document(page_content='Non-functional / quality requirements: Define requirements on quality attributes (explainability, legal req.)\\n\\nHardware requirements: Specify the HW systems the AI component trains and inferences on.', metadata={'page': 14.0, 'source': 'spielwiese/test_pdf/3_RequirementsEngineering.pdf'}), Document(page_content='omitted, vague \\nrequirements, volatile, conflicting views\\nTranslate vague requirements into actionable (conflict -free),\\nunambiguous specifications that can later be tested or verified\\nUse case diagrams, formal requirements specifications, user stories\\nChallenges: Multitude of vague with different scales and dimensions,\\nconflicting requirements, concretizing requirements, verifiable \\nmetrics, capturing of pre -/post- conditions \\nValidate the specification with customers (see problems for elicitation)\\nFind appropriate forms for validation (prototypes, mockups, etc.)', metadata={'page': 6.0, 'source': 'spielwiese/test_pdf/3_RequirementsEngineering.pdf'}), Document(page_content='In this article, the architectural documentation is referring to the high-level description of the system, showing its fundamental principles of work.\\n\\nThe primary purpose of this documentation is to correlate functional and non-functional requirements.', metadata={'source': 'https://medium.com/@nvashanin/documentation-in-software-architecture-4f2e4159c4fc?source=search_post---------7----------------------------'}), Document(page_content='Member-only story\\n\\nTop 10 Architecture Characteristics / Non-Functional Requirements with Cheatsheet\\n\\nLove Sharma·Follow\\n\\nPublished inDev Genius·7 min read·Jun 30, 2022\\n\\nListenShare\\n\\n14\\n\\n-\\n\\n14\\n\\nListen\\n\\nShare\\n\\nImagine you are buying a car.\\n\\nWhat essential features do you need in it?\\n\\nA vehicle should deliver a person from point A to point B.\\n\\nBut what we also check in it is Safety, Comfort, Maintainability, Ease of repair or Better mileage.', metadata={'source': 'https://medium.com/dev-genius/top-10-architecture-characteristics-non-functional-requirements-with-cheatsheat-7ad14bbb0a9b?source=search_post---------6----------------------------'}), Document(page_content='Challenges:\\n- Customers not knowing or able to describe what they want\\n- Different languages, conflicting requirements, evolution\\nTypes and techniques:\\n- Functional requirements, elicited via scenarios, walkthroughs, use cases\\n- Non-functional / quality requirements, elicited via stakeholder survey\\nDo never assume that you know what the customer wants!', metadata={'page': 4.0, 'source': 'spielwiese/test_pdf/3_RequirementsEngineering.pdf'}), Document(page_content='Requirements Specification\\nTurning diverse, ambiguous requirements to concrete, actionable, unambiguous specifications that a \\nsoftware engineer can understand (and implement).', metadata={'page': 9.0, 'source': 'spielwiese/test_pdf/3_RequirementsEngineering.pdf'}), Document(page_content='Examples: General Data Protection Regulation (GDPR) constraints that personal data can only be used in ways specified \\nby an explicit consent.In essence: We would need to know what the ML model delivers before we developing it.', metadata={'page': 26.0, 'source': 'spielwiese/test_pdf/3_RequirementsEngineering.pdf'})]\n"
     ]
    },
    {
     "data": {
      "text/plain": "                                              source  \\\n0  spielwiese/test_pdf/3_RequirementsEngineering.pdf   \n1  https://medium.com/dev-genius/top-10-architect...   \n2  spielwiese/test_pdf/3_RequirementsEngineering.pdf   \n3  spielwiese/test_pdf/3_RequirementsEngineering.pdf   \n4  spielwiese/test_pdf/3_RequirementsEngineering.pdf   \n5  https://medium.com/@nvashanin/documentation-in...   \n6  https://medium.com/dev-genius/top-10-architect...   \n7  spielwiese/test_pdf/3_RequirementsEngineering.pdf   \n8  spielwiese/test_pdf/3_RequirementsEngineering.pdf   \n9  spielwiese/test_pdf/3_RequirementsEngineering.pdf   \n\n                                        page content  \n0  Non-functional requirements: Specify all prope...  \n1  Architecture Characteristics / Non-Functional ...  \n2  Types of Requirements\\nFunctional requirements...  \n3  Non-functional / quality requirements: Define ...  \n4  omitted, vague \\nrequirements, volatile, confl...  \n5  In this article, the architectural documentati...  \n6  Member-only story\\n\\nTop 10 Architecture Chara...  \n7  Challenges:\\n- Customers not knowing or able t...  \n8  Requirements Specification\\nTurning diverse, a...  \n9  Examples: General Data Protection Regulation (...  ",
      "text/html": "<div>\n<style scoped>\n    .dataframe tbody tr th:only-of-type {\n        vertical-align: middle;\n    }\n\n    .dataframe tbody tr th {\n        vertical-align: top;\n    }\n\n    .dataframe thead th {\n        text-align: right;\n    }\n</style>\n<table border=\"1\" class=\"dataframe\">\n  <thead>\n    <tr style=\"text-align: right;\">\n      <th></th>\n      <th>source</th>\n      <th>page content</th>\n    </tr>\n  </thead>\n  <tbody>\n    <tr>\n      <th>0</th>\n      <td>spielwiese/test_pdf/3_RequirementsEngineering.pdf</td>\n      <td>Non-functional requirements: Specify all prope...</td>\n    </tr>\n    <tr>\n      <th>1</th>\n      <td>https://medium.com/dev-genius/top-10-architect...</td>\n      <td>Architecture Characteristics / Non-Functional ...</td>\n    </tr>\n    <tr>\n      <th>2</th>\n      <td>spielwiese/test_pdf/3_RequirementsEngineering.pdf</td>\n      <td>Types of Requirements\\nFunctional requirements...</td>\n    </tr>\n    <tr>\n      <th>3</th>\n      <td>spielwiese/test_pdf/3_RequirementsEngineering.pdf</td>\n      <td>Non-functional / quality requirements: Define ...</td>\n    </tr>\n    <tr>\n      <th>4</th>\n      <td>spielwiese/test_pdf/3_RequirementsEngineering.pdf</td>\n      <td>omitted, vague \\nrequirements, volatile, confl...</td>\n    </tr>\n    <tr>\n      <th>5</th>\n      <td>https://medium.com/@nvashanin/documentation-in...</td>\n      <td>In this article, the architectural documentati...</td>\n    </tr>\n    <tr>\n      <th>6</th>\n      <td>https://medium.com/dev-genius/top-10-architect...</td>\n      <td>Member-only story\\n\\nTop 10 Architecture Chara...</td>\n    </tr>\n    <tr>\n      <th>7</th>\n      <td>spielwiese/test_pdf/3_RequirementsEngineering.pdf</td>\n      <td>Challenges:\\n- Customers not knowing or able t...</td>\n    </tr>\n    <tr>\n      <th>8</th>\n      <td>spielwiese/test_pdf/3_RequirementsEngineering.pdf</td>\n      <td>Requirements Specification\\nTurning diverse, a...</td>\n    </tr>\n    <tr>\n      <th>9</th>\n      <td>spielwiese/test_pdf/3_RequirementsEngineering.pdf</td>\n      <td>Examples: General Data Protection Regulation (...</td>\n    </tr>\n  </tbody>\n</table>\n</div>"
     },
     "execution_count": 12,
     "metadata": {},
     "output_type": "execute_result"
    }
   ],
   "source": [
    "query_results = vectorstore_controller.query_vectorstore(\n",
    "    query=\"What is an example for a non-functional requirement?\", k=10, get_raw_text=False)\n",
    "pd.DataFrame.from_dict({'source': [r.metadata['source'] for r in query_results], 'page content': [r.page_content for r in query_results]})"
   ]
  }
 ],
 "metadata": {
  "kernelspec": {
   "display_name": "Python 3.9.5 64-bit",
   "language": "python",
   "name": "python3"
  },
  "language_info": {
   "codemirror_mode": {
    "name": "ipython",
    "version": 3
   },
   "file_extension": ".py",
   "mimetype": "text/x-python",
   "name": "python",
   "nbconvert_exporter": "python",
   "pygments_lexer": "ipython3",
   "version": "3.8.10"
  },
  "orig_nbformat": 4,
  "vscode": {
   "interpreter": {
    "hash": "542bad02869b321a73a7da5260ee6f5456fa9b86f73b69a004054f84e7b0338b"
   }
  }
 },
 "nbformat": 4,
 "nbformat_minor": 2
}
