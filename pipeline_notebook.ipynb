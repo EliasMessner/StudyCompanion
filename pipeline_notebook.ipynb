{
 "cells": [
  {
   "cell_type": "code",
   "execution_count": 2,
   "metadata": {},
   "outputs": [
    {
     "name": "stderr",
     "output_type": "stream",
     "text": [
      "/home/mmatkowi/Uni Leipzig/SE_for_AI/regQA/env/lib/python3.8/site-packages/pinecone/index.py:4: TqdmWarning: IProgress not found. Please update jupyter and ipywidgets. See https://ipywidgets.readthedocs.io/en/stable/user_install.html\n",
      "  from tqdm.autonotebook import tqdm\n"
     ]
    }
   ],
   "source": [
    "from pdf_and_text_utils import load_pdf, split_pdf\n",
    "from keyword_extraction_tfidf import get_search_terms, pdf_docs_to_str\n",
    "from scraper import load_web_content\n",
    "from vectorstore_controller import VectorstoreController\n",
    "\n",
    "# create pipeline\n",
    "vectorstore_controller = VectorstoreController()\n"
   ]
  },
  {
   "cell_type": "code",
   "execution_count": 3,
   "metadata": {},
   "outputs": [],
   "source": [
    "# load a pdf document\n",
    "pdf_pages = load_pdf(\"3_ProjectManagement.pdf\")\n"
   ]
  },
  {
   "cell_type": "code",
   "execution_count": 6,
   "metadata": {},
   "outputs": [
    {
     "ename": "SessionNotCreatedException",
     "evalue": "Message: Failed to start browser /snap/firefox/current/firefox.launcher: no such file or directory\n",
     "output_type": "error",
     "traceback": [
      "\u001B[0;31m---------------------------------------------------------------------------\u001B[0m",
      "\u001B[0;31mSessionNotCreatedException\u001B[0m                Traceback (most recent call last)",
      "Cell \u001B[0;32mIn[6], line 1\u001B[0m\n\u001B[0;32m----> 1\u001B[0m web_content \u001B[39m=\u001B[39m pipeline\u001B[39m.\u001B[39;49mload_web_content(\u001B[39m\"\u001B[39;49m\u001B[39msoftware testing\u001B[39;49m\u001B[39m\"\u001B[39;49m)\n",
      "File \u001B[0;32m~/Uni Leipzig/SE_for_AI/regQA/data_integration_pipeline.py:46\u001B[0m, in \u001B[0;36mDataIntegrationPipeline.load_web_content\u001B[0;34m(self, query)\u001B[0m\n\u001B[1;32m     45\u001B[0m \u001B[39mdef\u001B[39;00m \u001B[39mload_web_content\u001B[39m(\u001B[39mself\u001B[39m, query: \u001B[39mstr\u001B[39m):\n\u001B[0;32m---> 46\u001B[0m     scraper \u001B[39m=\u001B[39m Scraper(browser\u001B[39m=\u001B[39;49m\u001B[39m\"\u001B[39;49m\u001B[39mfirefox\u001B[39;49m\u001B[39m\"\u001B[39;49m)\n\u001B[1;32m     48\u001B[0m     medium_post_urls \u001B[39m=\u001B[39m scraper\u001B[39m.\u001B[39mget_medium_search_results(query\u001B[39m=\u001B[39mquery)\n\u001B[1;32m     50\u001B[0m     web_loader \u001B[39m=\u001B[39m SeleniumURLLoader(urls\u001B[39m=\u001B[39mmedium_post_urls, browser\u001B[39m=\u001B[39m\u001B[39m\"\u001B[39m\u001B[39mfirefox\u001B[39m\u001B[39m\"\u001B[39m)\n",
      "File \u001B[0;32m~/Uni Leipzig/SE_for_AI/regQA/scraper.py:12\u001B[0m, in \u001B[0;36mScraper.__init__\u001B[0;34m(self, browser)\u001B[0m\n\u001B[1;32m     10\u001B[0m     options  \u001B[39m=\u001B[39m Options()\n\u001B[1;32m     11\u001B[0m     options\u001B[39m.\u001B[39mheadless \u001B[39m=\u001B[39m \u001B[39mTrue\u001B[39;00m\n\u001B[0;32m---> 12\u001B[0m     \u001B[39mself\u001B[39m\u001B[39m.\u001B[39mbrowser \u001B[39m=\u001B[39m webdriver\u001B[39m.\u001B[39;49mFirefox(options\u001B[39m=\u001B[39;49moptions)\n\u001B[1;32m     13\u001B[0m \u001B[39melif\u001B[39;00m browser \u001B[39m==\u001B[39m \u001B[39m\"\u001B[39m\u001B[39mchrome\u001B[39m\u001B[39m\"\u001B[39m:\n\u001B[1;32m     14\u001B[0m     \u001B[39mfrom\u001B[39;00m \u001B[39mselenium\u001B[39;00m\u001B[39m.\u001B[39;00m\u001B[39mwebdriver\u001B[39;00m\u001B[39m.\u001B[39;00m\u001B[39mchrome\u001B[39;00m\u001B[39m.\u001B[39;00m\u001B[39moptions\u001B[39;00m \u001B[39mimport\u001B[39;00m Options\n",
      "File \u001B[0;32m~/Uni Leipzig/SE_for_AI/regQA/env/lib/python3.8/site-packages/selenium/webdriver/firefox/webdriver.py:201\u001B[0m, in \u001B[0;36mWebDriver.__init__\u001B[0;34m(self, firefox_profile, firefox_binary, capabilities, proxy, executable_path, options, service_log_path, service_args, service, desired_capabilities, log_path, keep_alive)\u001B[0m\n\u001B[1;32m    196\u001B[0m \u001B[39mself\u001B[39m\u001B[39m.\u001B[39mservice\u001B[39m.\u001B[39mstart()\n\u001B[1;32m    198\u001B[0m executor \u001B[39m=\u001B[39m FirefoxRemoteConnection(\n\u001B[1;32m    199\u001B[0m     remote_server_addr\u001B[39m=\u001B[39m\u001B[39mself\u001B[39m\u001B[39m.\u001B[39mservice\u001B[39m.\u001B[39mservice_url, ignore_proxy\u001B[39m=\u001B[39moptions\u001B[39m.\u001B[39m_ignore_local_proxy\n\u001B[1;32m    200\u001B[0m )\n\u001B[0;32m--> 201\u001B[0m \u001B[39msuper\u001B[39;49m()\u001B[39m.\u001B[39;49m\u001B[39m__init__\u001B[39;49m(command_executor\u001B[39m=\u001B[39;49mexecutor, options\u001B[39m=\u001B[39;49moptions, keep_alive\u001B[39m=\u001B[39;49m\u001B[39mTrue\u001B[39;49;00m)\n\u001B[1;32m    203\u001B[0m \u001B[39mself\u001B[39m\u001B[39m.\u001B[39m_is_remote \u001B[39m=\u001B[39m \u001B[39mFalse\u001B[39;00m\n",
      "File \u001B[0;32m~/Uni Leipzig/SE_for_AI/regQA/env/lib/python3.8/site-packages/selenium/webdriver/remote/webdriver.py:286\u001B[0m, in \u001B[0;36mWebDriver.__init__\u001B[0;34m(self, command_executor, desired_capabilities, browser_profile, proxy, keep_alive, file_detector, options)\u001B[0m\n\u001B[1;32m    284\u001B[0m \u001B[39mself\u001B[39m\u001B[39m.\u001B[39m_authenticator_id \u001B[39m=\u001B[39m \u001B[39mNone\u001B[39;00m\n\u001B[1;32m    285\u001B[0m \u001B[39mself\u001B[39m\u001B[39m.\u001B[39mstart_client()\n\u001B[0;32m--> 286\u001B[0m \u001B[39mself\u001B[39;49m\u001B[39m.\u001B[39;49mstart_session(capabilities, browser_profile)\n",
      "File \u001B[0;32m~/Uni Leipzig/SE_for_AI/regQA/env/lib/python3.8/site-packages/selenium/webdriver/remote/webdriver.py:378\u001B[0m, in \u001B[0;36mWebDriver.start_session\u001B[0;34m(self, capabilities, browser_profile)\u001B[0m\n\u001B[1;32m    376\u001B[0m w3c_caps \u001B[39m=\u001B[39m _make_w3c_caps(capabilities)\n\u001B[1;32m    377\u001B[0m parameters \u001B[39m=\u001B[39m {\u001B[39m\"\u001B[39m\u001B[39mcapabilities\u001B[39m\u001B[39m\"\u001B[39m: w3c_caps}\n\u001B[0;32m--> 378\u001B[0m response \u001B[39m=\u001B[39m \u001B[39mself\u001B[39;49m\u001B[39m.\u001B[39;49mexecute(Command\u001B[39m.\u001B[39;49mNEW_SESSION, parameters)\n\u001B[1;32m    379\u001B[0m \u001B[39mif\u001B[39;00m \u001B[39m\"\u001B[39m\u001B[39msessionId\u001B[39m\u001B[39m\"\u001B[39m \u001B[39mnot\u001B[39;00m \u001B[39min\u001B[39;00m response:\n\u001B[1;32m    380\u001B[0m     response \u001B[39m=\u001B[39m response[\u001B[39m\"\u001B[39m\u001B[39mvalue\u001B[39m\u001B[39m\"\u001B[39m]\n",
      "File \u001B[0;32m~/Uni Leipzig/SE_for_AI/regQA/env/lib/python3.8/site-packages/selenium/webdriver/remote/webdriver.py:440\u001B[0m, in \u001B[0;36mWebDriver.execute\u001B[0;34m(self, driver_command, params)\u001B[0m\n\u001B[1;32m    438\u001B[0m response \u001B[39m=\u001B[39m \u001B[39mself\u001B[39m\u001B[39m.\u001B[39mcommand_executor\u001B[39m.\u001B[39mexecute(driver_command, params)\n\u001B[1;32m    439\u001B[0m \u001B[39mif\u001B[39;00m response:\n\u001B[0;32m--> 440\u001B[0m     \u001B[39mself\u001B[39;49m\u001B[39m.\u001B[39;49merror_handler\u001B[39m.\u001B[39;49mcheck_response(response)\n\u001B[1;32m    441\u001B[0m     response[\u001B[39m\"\u001B[39m\u001B[39mvalue\u001B[39m\u001B[39m\"\u001B[39m] \u001B[39m=\u001B[39m \u001B[39mself\u001B[39m\u001B[39m.\u001B[39m_unwrap_value(response\u001B[39m.\u001B[39mget(\u001B[39m\"\u001B[39m\u001B[39mvalue\u001B[39m\u001B[39m\"\u001B[39m, \u001B[39mNone\u001B[39;00m))\n\u001B[1;32m    442\u001B[0m     \u001B[39mreturn\u001B[39;00m response\n",
      "File \u001B[0;32m~/Uni Leipzig/SE_for_AI/regQA/env/lib/python3.8/site-packages/selenium/webdriver/remote/errorhandler.py:245\u001B[0m, in \u001B[0;36mErrorHandler.check_response\u001B[0;34m(self, response)\u001B[0m\n\u001B[1;32m    243\u001B[0m         alert_text \u001B[39m=\u001B[39m value[\u001B[39m\"\u001B[39m\u001B[39malert\u001B[39m\u001B[39m\"\u001B[39m]\u001B[39m.\u001B[39mget(\u001B[39m\"\u001B[39m\u001B[39mtext\u001B[39m\u001B[39m\"\u001B[39m)\n\u001B[1;32m    244\u001B[0m     \u001B[39mraise\u001B[39;00m exception_class(message, screen, stacktrace, alert_text)  \u001B[39m# type: ignore[call-arg]  # mypy is not smart enough here\u001B[39;00m\n\u001B[0;32m--> 245\u001B[0m \u001B[39mraise\u001B[39;00m exception_class(message, screen, stacktrace)\n",
      "\u001B[0;31mSessionNotCreatedException\u001B[0m: Message: Failed to start browser /snap/firefox/current/firefox.launcher: no such file or directory\n"
     ]
    }
   ],
   "source": [
    "web_content = load_web_content(query=\"software testing\")"
   ]
  },
  {
   "cell_type": "code",
   "execution_count": 17,
   "metadata": {},
   "outputs": [
    {
     "name": "stderr",
     "output_type": "stream",
     "text": [
      "Created a chunk of size 463, which is longer than the specified 200\n",
      "Created a chunk of size 248, which is longer than the specified 200\n",
      "Created a chunk of size 208, which is longer than the specified 200\n",
      "Created a chunk of size 221, which is longer than the specified 200\n",
      "Created a chunk of size 208, which is longer than the specified 200\n",
      "Created a chunk of size 610, which is longer than the specified 200\n",
      "Created a chunk of size 237, which is longer than the specified 200\n"
     ]
    }
   ],
   "source": [
    "# split pdf document\n",
    "splits = split_pdf(pdf_pages)\n"
   ]
  },
  {
   "cell_type": "code",
   "execution_count": 18,
   "metadata": {},
   "outputs": [
    {
     "data": {
      "application/vnd.jupyter.widget-view+json": {
       "model_id": "9ee81030551d42dc9448b0908c1c63a8",
       "version_major": 2,
       "version_minor": 0
      },
      "text/plain": [
       "Upserted vectors:   0%|          | 0/25 [00:00<?, ?it/s]"
      ]
     },
     "metadata": {},
     "output_type": "display_data"
    },
    {
     "data": {
      "text/plain": [
       "['06636815-22f6-4c90-9317-614bdee75a11',\n",
       " '0d8eb6f2-d892-4003-9f5e-d6b9694635f2',\n",
       " 'ba2a4922-30f5-4334-82d1-48ab758e0139',\n",
       " 'a5b739fd-1fe6-43de-bdc3-c939ba1241b1',\n",
       " '4cbb64a5-ee73-4729-bdea-eb4a10ec015d',\n",
       " '68a82cf7-0ff6-406d-9930-87ef40ad33cd',\n",
       " 'e57f9b6f-9ef5-4f13-9b80-c26b04d0dfe6',\n",
       " 'da74dcb0-69ae-4b2d-ad01-b6803b456337',\n",
       " 'af0c6116-5b23-4792-91fb-cad2c65db17d',\n",
       " '8f1443e0-6ec2-4a0f-8179-0c701b321c95',\n",
       " '9592c1b9-a619-42a6-a113-da538e691832',\n",
       " 'd64d15f5-3a0c-4dd6-b2a2-96ca88aa8725',\n",
       " 'fbb1bd53-300f-4f0e-abb1-3a08726cc1c8',\n",
       " 'fe11869d-df39-452b-b7f4-d090933831a3',\n",
       " 'e5662f86-05cf-45d7-bc41-8dadca9b701b',\n",
       " '68d9c44e-27bc-45c9-84d0-4201bcd035aa',\n",
       " 'b474f127-3d19-45e4-9902-c939ebb0b5d3',\n",
       " 'b78b5fa8-82ee-4531-bc3b-acbadb59a9d2',\n",
       " '6d90352d-af3d-45c2-a827-65d603974f7a',\n",
       " 'ce0d60a9-3039-44f0-b2be-76bab18a537f',\n",
       " '2f6cc448-9757-46dd-a13e-9b86c5e94344',\n",
       " 'e303a508-3e43-45d5-9722-0e6b3078612a',\n",
       " '7953c352-3fb0-4daf-a2c9-d6e816b8f0ab',\n",
       " 'ad64b733-1240-47be-a92d-0d29c1eea613',\n",
       " 'd2ff5926-19a4-4e22-8256-8c4c435762f8']"
      ]
     },
     "execution_count": 18,
     "metadata": {},
     "output_type": "execute_result"
    }
   ],
   "source": [
    "# store embeddings to vectorstore\n",
    "vectorstore_controller.add_documents_to_vectorstore(documents=splits)\n"
   ]
  },
  {
   "cell_type": "code",
   "execution_count": 27,
   "metadata": {},
   "outputs": [],
   "source": [
    "# similarity search\n",
    "query_results = vectorstore_controller.query_vectorstore(\n",
    "    query=\"When was Langchain released?\", k=2, get_raw_text=True)\n"
   ]
  },
  {
   "cell_type": "code",
   "execution_count": 28,
   "metadata": {},
   "outputs": [
    {
     "name": "stdout",
     "output_type": "stream",
     "text": [
      "[1]\n",
      "LangChain was launched in October 2022 as an\n",
      "open source project by Harrison Chase, while\n",
      "working at machine learning startup Robust\n",
      "Intelligence. \n",
      "\n",
      "LangChain\n",
      "Developer(s)Harrison Chase\n",
      "Initial releaseOctober 2022\n",
      "Repository github.com/hwchase17/langchain\n",
      "(https://github.com/hwchase17/la\n",
      "ngchain)\n",
      "Written in Python and JavaScript\n",
      "Type Software framework for large\n",
      "language model application\n",
      "development\n",
      "License MIT License\n",
      "Website LangChain.com (https://langchai\n",
      "n.com/)LangChain\n",
      "LangChain is a software development framework\n",
      "designed to simplify the creation of applications using\n",
      "large language models (LLMs). \n",
      "\n"
     ]
    }
   ],
   "source": [
    "# print results\n",
    "for r in query_results:\n",
    "    print(r, \"\\n\")\n"
   ]
  },
  {
   "cell_type": "markdown",
   "metadata": {},
   "source": [
    "# Split paragraphs of blog post"
   ]
  },
  {
   "cell_type": "code",
   "execution_count": 5,
   "metadata": {},
   "outputs": [],
   "source": [
    "# extract from https://uxdesign.cc/how-i-used-midjourney-to-design-a-brand-identity-394cf9ddaeed\n",
    "blog_test = \"\"\"4. Post editing\n",
    "\n",
    "MidJourney isnt perfect. There will be situations where further editing is needed. Whether its fine-tuning colors or composition, I use Photoshop for the finishing touches.\n",
    "\n",
    "If youd like to continue to edit using Midjourney text prompts, Lars Nielsens prompt guide is a great beginners reference.\n",
    "\n",
    "In closing\n",
    "This exercise will by no means guarantee the same results for everyone. Rather, its to showcase an example of AIs power applied to design.\n",
    "\n",
    "Designers will ultimately need to consider how AI can be used purposefully. Using this technology can have an instrumental impact on streamlining tedious design workflows but also has the ability to compromise the quality of our work if were not careful.\n",
    "\n",
    "Moving forward, its important that we collectively build upon our AI knowledge as a community to guarantee success in our creative work.\n",
    "\n",
    "Happy blending!\n",
    "\"\"\"\n"
   ]
  },
  {
   "cell_type": "code",
   "execution_count": 7,
   "metadata": {},
   "outputs": [
    {
     "name": "stdout",
     "output_type": "stream",
     "text": [
      "----------------\n",
      "4. Post editing\n",
      "----------------\n",
      "MidJourney isnt perfect. There will be situations where further editing is needed. Whether its fine-tuning colors or composition, I use Photoshop for the finishing touches.\n",
      "----------------\n",
      "If youd like to continue to edit using Midjourney text prompts, Lars Nielsens prompt guide is a great beginners reference.\n",
      "----------------\n",
      "In closing\n",
      "This exercise will by no means guarantee the same results for everyone. Rather, its to showcase an example of AIs power applied to design.\n",
      "----------------\n",
      "Designers will ultimately need to consider how AI can be used purposefully. Using this technology can have an instrumental impact on streamlining tedious design workflows but also has the ability to compromise the quality of our work if were not careful.\n",
      "----------------\n",
      "Moving forward, its important that we collectively build upon our AI knowledge as a community to guarantee success in our creative work.\n",
      "----------------\n",
      "Happy blending!'\n",
      "\n"
     ]
    }
   ],
   "source": [
    "parts = vectorstore_controller.split_paragraphs(blog_test)\n",
    "for p in parts:\n",
    "    print(\"----------------\")\n",
    "    print(p)\n"
   ]
  }
 ],
 "metadata": {
  "kernelspec": {
   "display_name": "Python 3.9.5 64-bit",
   "language": "python",
   "name": "python3"
  },
  "language_info": {
   "codemirror_mode": {
    "name": "ipython",
    "version": 3
   },
   "file_extension": ".py",
   "mimetype": "text/x-python",
   "name": "python",
   "nbconvert_exporter": "python",
   "pygments_lexer": "ipython3",
   "version": "3.8.10"
  },
  "orig_nbformat": 4,
  "vscode": {
   "interpreter": {
    "hash": "542bad02869b321a73a7da5260ee6f5456fa9b86f73b69a004054f84e7b0338b"
   }
  }
 },
 "nbformat": 4,
 "nbformat_minor": 2
}
