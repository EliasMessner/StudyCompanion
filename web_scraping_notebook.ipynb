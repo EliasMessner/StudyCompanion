{
 "cells": [
  {
   "cell_type": "code",
   "execution_count": 1,
   "metadata": {
    "ExecuteTime": {
     "end_time": "2023-06-03T08:24:32.532066312Z",
     "start_time": "2023-06-03T08:24:25.051399339Z"
    }
   },
   "outputs": [
    {
     "name": "stderr",
     "output_type": "stream",
     "text": [
      "/home/mmatkowi/miniconda3/envs/chatbot/lib/python3.10/site-packages/pinecone/index.py:4: TqdmExperimentalWarning: Using `tqdm.autonotebook.tqdm` in notebook mode. Use `tqdm.tqdm` instead to force console mode (e.g. in jupyter console)\n",
      "  from tqdm.autonotebook import tqdm\n",
      "INFO:sentence_transformers.SentenceTransformer:Load pretrained SentenceTransformer: all-MiniLM-L6-v2\n",
      "INFO:sentence_transformers.SentenceTransformer:Use pytorch device: cpu\n",
      "INFO:scraper:Using browser firefox\n",
      "INFO:scraper:Using browser binary location /usr/bin/firefox\n",
      "INFO:selenium.webdriver.common.selenium_manager:Applicable driver not found; attempting to install with Selenium Manager (Beta)\n"
     ]
    }
   ],
   "source": [
    "from scraper import Scraper\n",
    "from vectorstore_controller import VectorstoreController\n",
    "from pdf_and_text_utils import split_into_chunks\n",
    "import requests\n",
    "\n",
    "import logging\n",
    "logging.basicConfig(level=logging.INFO)\n",
    "\n",
    "vectorstoreController = VectorstoreController()\n",
    "scraper = Scraper()"
   ]
  },
  {
   "attachments": {},
   "cell_type": "markdown",
   "metadata": {},
   "source": [
    "# Get posts via duckduckgo"
   ]
  },
  {
   "cell_type": "code",
   "execution_count": 2,
   "metadata": {
    "ExecuteTime": {
     "end_time": "2023-06-03T08:25:01.546355934Z",
     "start_time": "2023-06-03T08:24:32.535250346Z"
    }
   },
   "outputs": [
    {
     "name": "stderr",
     "output_type": "stream",
     "text": [
      "INFO:scraper:Found 23 pages for site medium.com\n",
      "https://medium.com/analytics-vidhya/machine-learning-is-requirements-engineering-8957aee55ef4\n",
      "https://ckaestne.medium.com/gathering-requirements-for-ml-enabled-systems-4f0a7a23730f\n",
      "https://medium.com/@luan.home/trustworthy-ai-dont-trust-verify-a0952c288fc6\n",
      "https://medium.com/@edgargrimaldi/requirements-engineering-methods-and-techniques-802a20efaac7\n",
      "https://medium.com/omarelgabrys-blog/requirements-engineering-introduction-part-1-6d49001526d3\n",
      "https://medium.com/swlh/ai-driven-software-engineering-669f21742e91\n",
      "https://medium.com/@bhbenam/system-engineering-process-for-ai-development-a2c0937c8484\n",
      "https://medium.com/analytics-vidhya/7-important-advices-for-the-new-and-aspiring-ai-engineers-1f4bd565704d\n",
      "https://medium.com/edureka/become-artificial-intelligence-engineer-5ac2ede99907\n",
      "https://medium.com/aiche-iitr/ai-in-chemical-engineering-be629e465216\n",
      "https://medium.com/spreadai/augmented-engineering-intelligence-89253695aafd\n",
      "https://chisoftware.medium.com/how-to-build-ai-software-3576e1a295d3\n",
      "https://medium.com/fullstackai/building-ml-driven-applications-4e83cb95c0c\n",
      "https://medium.com/people-ai-engineering/design-documents-for-ml-models-bbcd30402ff7\n",
      "https://hugomsbarona.medium.com/microsoft-certified-azure-ai-engineer-associate-study-guide-ai-100-ai-102-355b7d2e7b86\n",
      "https://medium.com/school-of-ai-trivandrum/how-to-become-an-ai-engineer-8f6416ef5ca4\n",
      "https://lea-waniek.medium.com/why-data-science-and-ai-initiatives-fail-da0e9687839d\n",
      "https://medium.com/@marias_martin/can-ai-write-a-prd-product-requirement-document-for-me-34146264b101\n",
      "https://medium.com/codex/9-essential-steps-to-building-a-successful-ai-startup-899286b59331\n",
      "https://medium.com/autodesk-university/the-rise-of-ai-and-machine-learning-in-construction-219f95342f5c\n",
      "https://medium.com/dataseries/an-overview-of-ubers-impressive-contributions-to-open-source-machine-learning-cfb6eabd12ac\n",
      "https://medium.com/@upGrad/career-opportunities-in-artificial-intelligence-list-of-various-job-roles-cc10bf56455\n",
      "https://inaccel.medium.com/simplify-ai-deployment-at-scale-on-fpga-clusters-2398de6df489\n",
      "INFO:scraper:Filtered page https://medium.com/analytics-vidhya/machine-learning-is-requirements-engineering-8957aee55ef4 for site medium.com\n",
      "INFO:scraper:Html Preprocessing reduced page https://ckaestne.medium.com/gathering-requirements-for-ml-enabled-systems-4f0a7a23730f for site medium.com from 342641 to 258293 characters\n",
      "INFO:unstructured:Reading document from string ...\n",
      "INFO:unstructured:Reading document ...\n",
      "INFO:scraper:Html Preprocessing reduced page https://medium.com/@luan.home/trustworthy-ai-dont-trust-verify-a0952c288fc6 for site medium.com from 283150 to 201195 characters\n",
      "INFO:unstructured:Reading document from string ...\n",
      "INFO:unstructured:Reading document ...\n",
      "INFO:scraper:Html Preprocessing reduced page https://medium.com/@edgargrimaldi/requirements-engineering-methods-and-techniques-802a20efaac7 for site medium.com from 253521 to 193207 characters\n",
      "INFO:unstructured:Reading document from string ...\n",
      "INFO:unstructured:Reading document ...\n",
      "INFO:scraper:Html Preprocessing reduced page https://medium.com/omarelgabrys-blog/requirements-engineering-introduction-part-1-6d49001526d3 for site medium.com from 260224 to 171624 characters\n",
      "INFO:unstructured:Reading document from string ...\n",
      "INFO:unstructured:Reading document ...\n",
      "INFO:scraper:Html Preprocessing reduced page https://medium.com/swlh/ai-driven-software-engineering-669f21742e91 for site medium.com from 251153 to 162170 characters\n",
      "INFO:unstructured:Reading document from string ...\n",
      "INFO:unstructured:Reading document ...\n"
     ]
    }
   ],
   "source": [
    "scraped = scraper.scrape(\"ai requirements engineering\", n_per_site=5)"
   ]
  },
  {
   "cell_type": "code",
   "execution_count": 4,
   "metadata": {},
   "outputs": [
    {
     "name": "stderr",
     "output_type": "stream",
     "text": [
      "WARNING:langchain.text_splitter:Created a chunk of size 1160, which is longer than the specified 1000\n",
      "WARNING:langchain.text_splitter:Created a chunk of size 1157, which is longer than the specified 1000\n",
      "WARNING:langchain.text_splitter:Created a chunk of size 1160, which is longer than the specified 1000\n",
      "WARNING:langchain.text_splitter:Created a chunk of size 1086, which is longer than the specified 1000\n",
      "WARNING:langchain.text_splitter:Created a chunk of size 1514, which is longer than the specified 1000\n",
      "WARNING:langchain.text_splitter:Created a chunk of size 1160, which is longer than the specified 1000\n",
      "WARNING:langchain.text_splitter:Created a chunk of size 1115, which is longer than the specified 1000\n",
      "WARNING:langchain.text_splitter:Created a chunk of size 2120, which is longer than the specified 1000\n"
     ]
    },
    {
     "data": {
      "text/plain": [
       "[Document(page_content='Gathering Requirements ML -Enabled Systems This post covers content “ Requirements Risk ” lectures Machine Learning Production course . For chapters see table content . Much software engineering focused generally simply getting engineers think plan little diving coding, avoid investing lots effort building things work solve right problem . In machine learning, different traditional software engineering, often motivated shiny technology interesting ideas, may fail step back understand actual problem might solve, users interact product, possible problems anticipate may result product . As consequence, often build software without much planning end products really fit user ’ needs.', metadata={'source': 'https://ckaestne.medium.com/gathering-requirements-for-ml-enabled-systems-4f0a7a23730f'}),\n",
       " Document(page_content='Requirements engineering fits theme encouraging upfront thinking actual problem, users really need, complications could arise . Whether use machine learning software system, often turns user needs might quite different developers initially thought might . Developers often make assumptions simply hold production system . Among others, developers often underestimate important certain qualities users, low response time, intuitive user interface, feeling agency using system . Some upfront investment thinking requirements avoid many, often costly problems later.', metadata={'source': 'https://ckaestne.medium.com/gathering-requirements-for-ml-enabled-systems-4f0a7a23730f'}),\n",
       " Document(page_content='After validating whether machine learning good match problem understanding overall system goals last two chapters, provide overview basics eliciting documenting requirements . This provide foundation subsequent chapters exploring anticipate mitigate mistakes, design ML non-ML components meet needs system, responsibly build systems safe, fair, secure.', metadata={'source': 'https://ckaestne.medium.com/gathering-requirements-for-ml-enabled-systems-4f0a7a23730f'}),\n",
       " Document(page_content='Admittedly, requirements engineering often poor reputation among software developers; traditional approaches commonly seen tedious bureaucratic . However, requirements engineering all-or-nothing approach following specific rules; even lightweight requirements analysis early phase surface insights help improve product . Given challenges raised machine learning software systems, believe many developers benefit taking requirements engineering seriously, least selectively critical parts system, especially comes anticipating potential problems.', metadata={'source': 'https://ckaestne.medium.com/gathering-requirements-for-ml-enabled-systems-4f0a7a23730f'}),\n",
       " Document(page_content='For elderly people, falling serious risk health may problems getting . In past personal emergency response systems deployed devices users could use request help fall, wearing devices often associated stigma . More recently, many companies proposed discrete devices detect fall take automated actions — including smart watches wall-mounted sensors . Let us consider software component smartwatch detect fall based watch ’ gyrometer contact emergency services connected mobile phone.', metadata={'source': 'https://ckaestne.medium.com/gathering-requirements-for-ml-enabled-systems-4f0a7a23730f'}),\n",
       " Document(page_content='Software developers often feel comfortable thinking logic, abstractions, models, ignore many challenges occur software interacts real world — user interfaces, sensors, actuators . Software almost always built affect real world . Unfortunately, real world always behave software developers hope — fall detection scenario, software may display message asking user whether okay, user may ignore; software may recognize falling person machine learning, sometimes recognizes gestures like swatting fly fall; software may send command contact emergency responders, nobody shows bad weather interrupted phone services.', metadata={'source': 'https://ckaestne.medium.com/gathering-requirements-for-ml-enabled-systems-4f0a7a23730f'}),\n",
       " Document(page_content='To untangle concerns, useful deliberate statements real world (“ world ”) statements software (“ machine ”), relate . In software engineering distinction often discussed label “ The World Machine ” influential paper title . Untangling requirements discussions distinction bring lot clarity.', metadata={'source': 'https://ckaestne.medium.com/gathering-requirements-for-ml-enabled-systems-4f0a7a23730f'}),\n",
       " Document(page_content='Fundamentally, software goals user requirements statements real world — things want achieve real world software . Therefore, goals requirements system expressed desired states world: For example, might want sell smartwatches help humans receive help fall, affecting real world . Software, without machine learning, created interpret parts world manipulate world toward desired state, either directly sensors actuators indirectly mediated human actions.', metadata={'source': 'https://ckaestne.medium.com/gathering-requirements-for-ml-enabled-systems-4f0a7a23730f'}),\n",
       " Document(page_content='The somewhat obvious, easily ignored key problem software directly reason real world . Software takes input data, processes, produces output data . The input data often relates things real world, always necessarily mediated sensors humans entering data . For example, software direct insight whether human fallen smartwatch moves physical space, rely humans pressing buttons (less reliably) sensors sensing movement (less accurately). Similarly, output data immediately affect real world, interpreted humans take action controls actuator . In fall-detection scenario, actuator may automatically activate light sound may initiate phone call, upon humans may take actions help fallen person . Importantly, software reason world far real-world phenomena translated less reliably inputs affect real world far output data acted upon intended way.', metadata={'source': 'https://ckaestne.medium.com/gathering-requirements-for-ml-enabled-systems-4f0a7a23730f'}),\n",
       " Document(page_content='Importantly, thinking clearly world machine machine interact world mediated sensors actuators allows us distinguish: System requirements (REQ) describe system operate, expressed entirely terms concepts world . For example, smartwatch call emergency responders wearer fallen . System requirements capture happen real world, software process data.', metadata={'source': 'https://ckaestne.medium.com/gathering-requirements-for-ml-enabled-systems-4f0a7a23730f'}),\n",
       " Document(page_content='Specifications (SPEC) describe expected behavior software component terms input data output data . For example, expect model report “ fall detected ” output sensor inputs similar previously provided training data; controller component output “ call emergency responder ” output 30 seconds “ fall detected ” input received model, unless input data indicates user pressed “ I ’ fine ” button . Specifications refer concepts software world, like input output data, concepts real world . Specifications sometimes called software requirements component requirements contrast system requirements.', metadata={'source': 'https://ckaestne.medium.com/gathering-requirements-for-ml-enabled-systems-4f0a7a23730f'}),\n",
       " Document(page_content='Assumptions (ASM) express relationship real-world concepts software inputs outputs . For example, assume gyro sensor correctly represents smartwatch ’ movement, GPS coordinates represent location fall, manually entered contact address emergency responders correctly represents user ’ intention, emergency responders actually respond call . Assumptions links real-world concepts system requirements software concepts specifications.', metadata={'source': 'https://ckaestne.medium.com/gathering-requirements-for-ml-enabled-systems-4f0a7a23730f'}),\n",
       " Document(page_content='Implementations (IMPL) provide actual behavior software system supposed align specification (SPEC), usually given code executable model . A detected mismatch implementation specification considered bug . For example, buffer overflow controller crashes system “ call emergency responder ” output command (output) produced input values representing gyro sensor readings exceed certain value (e.g., unusually hard fall). Logically, expect assumptions software specifications together assure required system behavior real world (ASM ∧ SPEC ⊨ REQ) specification implemented correctly (IMPL ⊨ SPEC). However, problems occur when… … system requirements (REQ) flat wrong . For example, forget capture smartwatch call emergency responders user ’ home fall detected outside home.', metadata={'source': 'https://ckaestne.medium.com/gathering-requirements-for-ml-enabled-systems-4f0a7a23730f'}),\n",
       " Document(page_content='… assumptions (ASM) incorrect, unrealistic, changing, missing . For example, (implicitly) assumed GPS sensor reliable within buildings users always enter contact information emergency responders correctly, later find always case . As result system may meet system requirements even implementation perfectly matches specification . … software specification (SPEC) wrong . For example, specification forgets indicate “ call emergency responder ” output produced input representing user pressed cancel button detected . Again, implementation may perfectly match specification result behavior fulfill system requirements.', metadata={'source': 'https://ckaestne.medium.com/gathering-requirements-for-ml-enabled-systems-4f0a7a23730f'}),\n",
       " Document(page_content='… one parts internally inconsistent inconsistent others . For example, software specification (SPEC) together assumptions (ASM) sufficient guarantee system requirements (REQ) specified logic issue calls (SPEC) account retry mechanism redundant communication channel possible communication issues (ASM) ensure emergency responders actually contacted (REQ). … system implemented (IMPL) incorrectly, differing specified behavior (SPEC), buffer overflows incorrect expressions control logic, actually waiting 120 seconds rather specified 30 seconds.', metadata={'source': 'https://ckaestne.medium.com/gathering-requirements-for-ml-enabled-systems-4f0a7a23730f'}),\n",
       " Document(page_content='Any parts cause problems leading incorrect behavior real world (i.e., violating system requirements). In practice, software engineers typically focus attention finding issues last category, implementation mistakes, plenty testing tools . In practice though, incorrect assumptions seem much pressing problem almost discussions around safety, security, fairness, feedback loops, without machine learning . A classic (non-ML) example incorrect assumptions (ASM) lead catastrophe Lufthansa Flight 2904 crashed Warsaw overran runway pilot could engage thrust reversers time landing.', metadata={'source': 'https://ckaestne.medium.com/gathering-requirements-for-ml-enabled-systems-4f0a7a23730f'}),\n",
       " Document(page_content='The airplane ’ software designed achieve simple safety requirement (REQ): Do engage thrust reversers plane air . Doing would extremely dangerous, hence software ensure thrust reversers engaged break plane touched runway.', metadata={'source': 'https://ckaestne.medium.com/gathering-requirements-for-ml-enabled-systems-4f0a7a23730f'}),\n",
       " Document(page_content='In typical world versus machine manner, key issue safety requirement written terms real-world phenomena (“ plane air ”), software simply know whether plane air rely sensor inputs make sense world . To end, Airbus software plane senses weight landing gear speed plane ’ wheels turning . The idea — assumption (ASM) — plane ground least 6.3 tons weight landing gear wheels turning faster 72 knots . Both seemed pretty safe bets make sense world terms available sensor inputs, providing even redundancy confident interpret world ’ state . The software ’ specification (SPEC) simply output command block thrust reversers unless either conditions hold sensed values.', metadata={'source': 'https://ckaestne.medium.com/gathering-requirements-for-ml-enabled-systems-4f0a7a23730f'}),\n",
       " Document(page_content='Unfortunately, fatal day 1993, due rain strong winds, neither condition fulfilled several seconds Lufthansa flight 2904 landed Warsaw . After landing, due aquaplaning wheels turn fast enough due wind one landing gear loaded weight . The assumption means ground simply correct matching status real world sensor inputs . The software hence determined based inputs plane still air thus (exactly specified) indicated thrust reversers must engaged . Here real world software assumed real world simply ’ match . In addition, system designed trust software ’ output (assumption actuator) hence allow pilot overwrite software.', metadata={'source': 'https://ckaestne.medium.com/gathering-requirements-for-ml-enabled-systems-4f0a7a23730f'}),\n",
       " Document(page_content='In summary, system requirements (REQ) good — plane really engage thrust reversers air . The implementation (IMPL) correctly matched specification (SPEC) — system produced expected output given inputs . The problem assumptions (ASM), system would interpret real world — whether thought plane air.', metadata={'source': 'https://ckaestne.medium.com/gathering-requirements-for-ml-enabled-systems-4f0a7a23730f'})]"
      ]
     },
     "execution_count": 4,
     "metadata": {},
     "output_type": "execute_result"
    }
   ],
   "source": [
    "from document_preprocessing import remove_short_paragraphs_from_documents ,split_documents, clean\n",
    "\n",
    "filtered = remove_short_paragraphs_from_documents(scraped)\n",
    "splitted = split_documents(filtered)\n",
    "without_stopwords = clean(splitted)\n",
    "\n",
    "without_stopwords[0:20]"
   ]
  }
 ],
 "metadata": {
  "kernelspec": {
   "display_name": "Python 3.9.5 64-bit",
   "language": "python",
   "name": "python3"
  },
  "language_info": {
   "codemirror_mode": {
    "name": "ipython",
    "version": 3
   },
   "file_extension": ".py",
   "mimetype": "text/x-python",
   "name": "python",
   "nbconvert_exporter": "python",
   "pygments_lexer": "ipython3",
   "version": "3.10.11"
  },
  "orig_nbformat": 4,
  "vscode": {
   "interpreter": {
    "hash": "542bad02869b321a73a7da5260ee6f5456fa9b86f73b69a004054f84e7b0338b"
   }
  }
 },
 "nbformat": 4,
 "nbformat_minor": 2
}
