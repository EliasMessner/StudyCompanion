{
 "cells": [
  {
   "cell_type": "code",
   "execution_count": 11,
   "metadata": {},
   "outputs": [],
   "source": [
    "from pdf_and_text_utils import load_pdf, split_into_chunks\n",
    "from keyword_extraction_tfidf import get_search_terms, pdf_docs_to_str\n",
    "from scraper import load_web_content\n",
    "from vectorstore_controller import VectorstoreController\n",
    "import pandas as pd\n",
    "import tiktoken"
   ]
  },
  {
   "attachments": {},
   "cell_type": "markdown",
   "metadata": {},
   "source": [
    "to run some tests on the prompt length we will be using 5 different pdfs and 3 questions for each pdf.\n",
    "Below, we will store the given pdfs in our main vector database. The procedure will be the same as in our data integration pipeline."
   ]
  },
  {
   "cell_type": "code",
   "execution_count": 6,
   "metadata": {},
   "outputs": [
    {
     "name": "stderr",
     "output_type": "stream",
     "text": [
      "Created a chunk of size 342, which is longer than the specified 200\n",
      "Created a chunk of size 354, which is longer than the specified 200\n",
      "Created a chunk of size 488, which is longer than the specified 200\n",
      "Created a chunk of size 571, which is longer than the specified 200\n",
      "Created a chunk of size 256, which is longer than the specified 200\n",
      "Created a chunk of size 717, which is longer than the specified 200\n",
      "Created a chunk of size 285, which is longer than the specified 200\n",
      "Created a chunk of size 366, which is longer than the specified 200\n",
      "Created a chunk of size 351, which is longer than the specified 200\n",
      "Created a chunk of size 291, which is longer than the specified 200\n",
      "Created a chunk of size 254, which is longer than the specified 200\n",
      "Created a chunk of size 241, which is longer than the specified 200\n",
      "Created a chunk of size 225, which is longer than the specified 200\n",
      "Created a chunk of size 419, which is longer than the specified 200\n",
      "Created a chunk of size 572, which is longer than the specified 200\n",
      "Created a chunk of size 882, which is longer than the specified 200\n",
      "Created a chunk of size 227, which is longer than the specified 200\n",
      "Created a chunk of size 324, which is longer than the specified 200\n",
      "Created a chunk of size 213, which is longer than the specified 200\n",
      "Created a chunk of size 224, which is longer than the specified 200\n",
      "Created a chunk of size 437, which is longer than the specified 200\n",
      "Created a chunk of size 215, which is longer than the specified 200\n",
      "Created a chunk of size 294, which is longer than the specified 200\n",
      "Created a chunk of size 220, which is longer than the specified 200\n",
      "Created a chunk of size 313, which is longer than the specified 200\n",
      "Created a chunk of size 204, which is longer than the specified 200\n",
      "Created a chunk of size 276, which is longer than the specified 200\n",
      "Created a chunk of size 534, which is longer than the specified 200\n",
      "Created a chunk of size 219, which is longer than the specified 200\n",
      "Created a chunk of size 296, which is longer than the specified 200\n",
      "Created a chunk of size 203, which is longer than the specified 200\n",
      "Created a chunk of size 475, which is longer than the specified 200\n",
      "Created a chunk of size 209, which is longer than the specified 200\n",
      "Created a chunk of size 210, which is longer than the specified 200\n",
      "Created a chunk of size 266, which is longer than the specified 200\n",
      "Created a chunk of size 567, which is longer than the specified 200\n",
      "Created a chunk of size 202, which is longer than the specified 200\n",
      "Created a chunk of size 764, which is longer than the specified 200\n",
      "Created a chunk of size 285, which is longer than the specified 200\n",
      "Created a chunk of size 214, which is longer than the specified 200\n",
      "Created a chunk of size 438, which is longer than the specified 200\n",
      "Created a chunk of size 429, which is longer than the specified 200\n",
      "Created a chunk of size 365, which is longer than the specified 200\n",
      "Created a chunk of size 362, which is longer than the specified 200\n",
      "Created a chunk of size 452, which is longer than the specified 200\n",
      "Created a chunk of size 298, which is longer than the specified 200\n",
      "Created a chunk of size 201, which is longer than the specified 200\n",
      "Created a chunk of size 202, which is longer than the specified 200\n",
      "Created a chunk of size 242, which is longer than the specified 200\n",
      "Created a chunk of size 213, which is longer than the specified 200\n",
      "Created a chunk of size 435, which is longer than the specified 200\n",
      "Created a chunk of size 217, which is longer than the specified 200\n",
      "Created a chunk of size 483, which is longer than the specified 200\n",
      "Created a chunk of size 319, which is longer than the specified 200\n",
      "Created a chunk of size 522, which is longer than the specified 200\n",
      "Created a chunk of size 320, which is longer than the specified 200\n",
      "Created a chunk of size 210, which is longer than the specified 200\n",
      "Created a chunk of size 207, which is longer than the specified 200\n",
      "Created a chunk of size 518, which is longer than the specified 200\n",
      "Created a chunk of size 220, which is longer than the specified 200\n",
      "Created a chunk of size 333, which is longer than the specified 200\n",
      "Created a chunk of size 295, which is longer than the specified 200\n",
      "Created a chunk of size 334, which is longer than the specified 200\n",
      "Created a chunk of size 260, which is longer than the specified 200\n",
      "Created a chunk of size 462, which is longer than the specified 200\n",
      "Created a chunk of size 203, which is longer than the specified 200\n",
      "Created a chunk of size 258, which is longer than the specified 200\n",
      "Created a chunk of size 207, which is longer than the specified 200\n",
      "Created a chunk of size 241, which is longer than the specified 200\n",
      "Created a chunk of size 472, which is longer than the specified 200\n",
      "Created a chunk of size 217, which is longer than the specified 200\n",
      "Created a chunk of size 238, which is longer than the specified 200\n",
      "Created a chunk of size 206, which is longer than the specified 200\n",
      "Created a chunk of size 214, which is longer than the specified 200\n",
      "Created a chunk of size 207, which is longer than the specified 200\n",
      "Created a chunk of size 221, which is longer than the specified 200\n",
      "Created a chunk of size 268, which is longer than the specified 200\n",
      "Created a chunk of size 231, which is longer than the specified 200\n",
      "Created a chunk of size 224, which is longer than the specified 200\n",
      "Created a chunk of size 219, which is longer than the specified 200\n",
      "Created a chunk of size 755, which is longer than the specified 200\n",
      "Created a chunk of size 814, which is longer than the specified 200\n",
      "Created a chunk of size 591, which is longer than the specified 200\n",
      "Created a chunk of size 230, which is longer than the specified 200\n",
      "Created a chunk of size 228, which is longer than the specified 200\n",
      "Created a chunk of size 249, which is longer than the specified 200\n",
      "Created a chunk of size 293, which is longer than the specified 200\n",
      "Created a chunk of size 201, which is longer than the specified 200\n",
      "Created a chunk of size 237, which is longer than the specified 200\n",
      "Created a chunk of size 287, which is longer than the specified 200\n",
      "Created a chunk of size 209, which is longer than the specified 200\n",
      "Created a chunk of size 243, which is longer than the specified 200\n",
      "Created a chunk of size 255, which is longer than the specified 200\n",
      "Created a chunk of size 319, which is longer than the specified 200\n",
      "Created a chunk of size 266, which is longer than the specified 200\n",
      "Created a chunk of size 331, which is longer than the specified 200\n",
      "Created a chunk of size 231, which is longer than the specified 200\n",
      "Created a chunk of size 289, which is longer than the specified 200\n",
      "Created a chunk of size 381, which is longer than the specified 200\n",
      "Created a chunk of size 202, which is longer than the specified 200\n",
      "Created a chunk of size 203, which is longer than the specified 200\n",
      "Created a chunk of size 260, which is longer than the specified 200\n",
      "Created a chunk of size 431, which is longer than the specified 200\n",
      "Created a chunk of size 222, which is longer than the specified 200\n",
      "Created a chunk of size 253, which is longer than the specified 200\n",
      "Created a chunk of size 340, which is longer than the specified 200\n",
      "Created a chunk of size 246, which is longer than the specified 200\n",
      "Created a chunk of size 244, which is longer than the specified 200\n",
      "Created a chunk of size 212, which is longer than the specified 200\n",
      "Created a chunk of size 207, which is longer than the specified 200\n",
      "Created a chunk of size 212, which is longer than the specified 200\n",
      "Created a chunk of size 262, which is longer than the specified 200\n",
      "Created a chunk of size 244, which is longer than the specified 200\n",
      "Created a chunk of size 210, which is longer than the specified 200\n",
      "Created a chunk of size 249, which is longer than the specified 200\n",
      "Created a chunk of size 221, which is longer than the specified 200\n",
      "Created a chunk of size 210, which is longer than the specified 200\n",
      "Created a chunk of size 439, which is longer than the specified 200\n",
      "Created a chunk of size 352, which is longer than the specified 200\n",
      "Created a chunk of size 282, which is longer than the specified 200\n",
      "Created a chunk of size 214, which is longer than the specified 200\n",
      "Created a chunk of size 222, which is longer than the specified 200\n",
      "Created a chunk of size 252, which is longer than the specified 200\n",
      "Created a chunk of size 236, which is longer than the specified 200\n",
      "Created a chunk of size 283, which is longer than the specified 200\n",
      "Created a chunk of size 243, which is longer than the specified 200\n",
      "Created a chunk of size 222, which is longer than the specified 200\n",
      "Created a chunk of size 260, which is longer than the specified 200\n",
      "Created a chunk of size 253, which is longer than the specified 200\n",
      "Created a chunk of size 506, which is longer than the specified 200\n",
      "Created a chunk of size 236, which is longer than the specified 200\n",
      "Created a chunk of size 2939, which is longer than the specified 200\n",
      "Created a chunk of size 201, which is longer than the specified 200\n",
      "Created a chunk of size 215, which is longer than the specified 200\n",
      "Created a chunk of size 219, which is longer than the specified 200\n",
      "Created a chunk of size 268, which is longer than the specified 200\n",
      "Created a chunk of size 410, which is longer than the specified 200\n",
      "Created a chunk of size 266, which is longer than the specified 200\n",
      "Created a chunk of size 283, which is longer than the specified 200\n",
      "Created a chunk of size 369, which is longer than the specified 200\n",
      "Created a chunk of size 201, which is longer than the specified 200\n",
      "Created a chunk of size 281, which is longer than the specified 200\n",
      "Created a chunk of size 285, which is longer than the specified 200\n",
      "Created a chunk of size 324, which is longer than the specified 200\n",
      "Created a chunk of size 447, which is longer than the specified 200\n",
      "Created a chunk of size 250, which is longer than the specified 200\n",
      "Created a chunk of size 364, which is longer than the specified 200\n",
      "Created a chunk of size 371, which is longer than the specified 200\n",
      "Created a chunk of size 278, which is longer than the specified 200\n",
      "Created a chunk of size 205, which is longer than the specified 200\n",
      "Created a chunk of size 258, which is longer than the specified 200\n",
      "Created a chunk of size 469, which is longer than the specified 200\n",
      "Created a chunk of size 246, which is longer than the specified 200\n",
      "Created a chunk of size 226, which is longer than the specified 200\n",
      "Created a chunk of size 278, which is longer than the specified 200\n",
      "Created a chunk of size 245, which is longer than the specified 200\n",
      "Created a chunk of size 452, which is longer than the specified 200\n",
      "Created a chunk of size 415, which is longer than the specified 200\n",
      "Created a chunk of size 416, which is longer than the specified 200\n",
      "Created a chunk of size 417, which is longer than the specified 200\n",
      "Created a chunk of size 224, which is longer than the specified 200\n",
      "Created a chunk of size 224, which is longer than the specified 200\n",
      "Created a chunk of size 238, which is longer than the specified 200\n",
      "Created a chunk of size 239, which is longer than the specified 200\n",
      "Created a chunk of size 251, which is longer than the specified 200\n",
      "Created a chunk of size 232, which is longer than the specified 200\n",
      "Created a chunk of size 232, which is longer than the specified 200\n",
      "[nltk_data] Downloading package stopwords to /home/moritz/nltk_data...\n",
      "[nltk_data]   Package stopwords is already up-to-date!\n",
      "[nltk_data] Downloading package stopwords to /home/moritz/nltk_data...\n",
      "[nltk_data]   Package stopwords is already up-to-date!\n",
      "[nltk_data] Downloading package stopwords to /home/moritz/nltk_data...\n",
      "[nltk_data]   Package stopwords is already up-to-date!\n",
      "[nltk_data] Downloading package stopwords to /home/moritz/nltk_data...\n",
      "[nltk_data]   Package stopwords is already up-to-date!\n",
      "[nltk_data] Downloading package stopwords to /home/moritz/nltk_data...\n",
      "[nltk_data]   Package stopwords is already up-to-date!\n"
     ]
    },
    {
     "data": {
      "text/plain": [
       "['data model requirements specification non functional ai component research attempts',\n",
       " 'model team ml projects data science data scientists anti patterns',\n",
       " 'data mlops community https www com watch youtube com',\n",
       " 'layer function fd xi zd xi xi fd neural networks',\n",
       " 'turingmaschine qb qb qa qa q0 qa qb q0']"
      ]
     },
     "execution_count": 6,
     "metadata": {},
     "output_type": "execute_result"
    }
   ],
   "source": [
    "pdf_path_collection = [\"spielwiese/test_pdf/3_RequirementsEngineering.pdf\",\n",
    "                        \"spielwiese/test_pdf/3_ProjectManagement.pdf\",\n",
    "                        \"spielwiese/test_pdf/socio-technical-anti-patterns-icse2023.pdf\",\n",
    "                        \"spielwiese/test_pdf/pml_neural_networks.pdf\",\n",
    "                        \"spielwiese/test_pdf/berechenbarkeit_turing_maschinen.pdf\"]\n",
    "question_collection = [ \"What is an example for a non-functional requirement?\",\n",
    "                            \"What challenges do AI Systems pose to traditional requirements engineering?\",\n",
    "                            \"Give some examples for Ethical Requirements for AI systems.\",\n",
    "                        \"How can I ensure feasibility for my AI project?\",\n",
    "                            \"What points should I put on the scorecards for my AI project?\",\n",
    "                            \"What are the responsibilities in AI Team Management?\",\n",
    "                        \"Give a short summary of this paper.\",\n",
    "                            \"What is an organizational leadership vacuum?\",\n",
    "                            \"What is the MLOps Community and how many members does it have?\",\n",
    "                        \"What is a perceptron?\",\n",
    "                            \"Why can't the unit step function be used as an activation function for backpropagation?\",\n",
    "                            \"What is a universal approximator?\",\n",
    "                        \"Wer war Alan Turing?\",\n",
    "                            \"Was ist eine Turing-Maschine?\",\n",
    "                            \"Wann akzeptiert eine Turing-Maschine eine Eingabe?\"]\n",
    "pdf_docs = []\n",
    "for pdf in pdf_path_collection:\n",
    "    pdf_docs.append(load_pdf(pdf))\n",
    "splits = []\n",
    "for pdf in pdf_docs:\n",
    "    splits.append(split_into_chunks(pdf))\n",
    "vectorstore_controller = VectorstoreController()\n",
    "#vectorstore_controller.add_documents_to_vectorstore(splits)\n",
    "pdf_str = []\n",
    "for pdf in pdf_docs: \n",
    "    pdf_str.append(pdf_docs_to_str(pdf))\n",
    "search_query = []\n",
    "for str in pdf_str:\n",
    "    search_query.append(get_search_terms(text=str))"
   ]
  },
  {
   "attachments": {},
   "cell_type": "markdown",
   "metadata": {},
   "source": [
    "now, we will scrape the web for additional information on the topics of these lectures:"
   ]
  },
  {
   "cell_type": "code",
   "execution_count": 8,
   "metadata": {},
   "outputs": [
    {
     "name": "stdout",
     "output_type": "stream",
     "text": [
      "Scraping: https://medium.com/@genovevavargassolar/designing-and-enacting-data-science-pipelines-as-queries-8e12bccea4e7?source=search_post---------5----------------------------\n",
      "Scraping: https://medium.com/@purvanshimehta/interview-resources-ml-data-science-ai-research-engineer-4703518d208e?source=search_post---------7----------------------------\n",
      "Scraping: https://medium.com/@purvanshimehta/coding-interview-resources-ml-data-science-ai-research-engineer-b7cc2fbf81ab?source=search_post---------8----------------------------\n",
      "Scraping: https://medium.com/real-ventures/canadas-artificial-intelligence-ecosystem-4798b0517016?source=search_post---------3----------------------------\n",
      "Scraping: https://medium.com/neuri-ai/wattnet-learning-to-trade-fx-with-hierarchical-spatio-temporal-representations-of-highly-bbd0f02c812f?source=search_post---------1----------------------------\n",
      "Scraping: https://medium.com/@dassanawijesekara/non-performance-requirements-of-consumer-data-standards-specification-open-banking-in-australia-f947ee013578?source=search_post---------0----------------------------\n",
      "Scraping: https://medium.com/dev-genius/top-10-architecture-characteristics-non-functional-requirements-with-cheatsheat-7ad14bbb0a9b?source=search_post---------9----------------------------\n",
      "Scraping: https://medium.com/towards-data-science/why-robustness-is-not-enough-for-safety-and-security-in-machine-learning-1a35f6706601?source=search_post---------2----------------------------\n",
      "Scraping: https://medium.com/analytics-vidhya/nonlinear-regression-tutorial-with-radial-basis-functions-cdb7650104e7?source=search_post---------6----------------------------\n",
      "Scraping: https://medium.com/towards-artificial-intelligence/openai-brings-introspection-to-reinforcement-learning-agents-39cbe4cf2af3?source=search_post---------4----------------------------\n"
     ]
    },
    {
     "name": "stderr",
     "output_type": "stream",
     "text": [
      "WARNING:langchain.text_splitter:Created a chunk of size 983, which is longer than the specified 500\n",
      "WARNING:langchain.text_splitter:Created a chunk of size 558, which is longer than the specified 500\n",
      "WARNING:langchain.text_splitter:Created a chunk of size 869, which is longer than the specified 500\n",
      "WARNING:langchain.text_splitter:Created a chunk of size 783, which is longer than the specified 500\n",
      "WARNING:langchain.text_splitter:Created a chunk of size 517, which is longer than the specified 500\n",
      "WARNING:langchain.text_splitter:Created a chunk of size 646, which is longer than the specified 500\n",
      "WARNING:langchain.text_splitter:Created a chunk of size 1061, which is longer than the specified 500\n",
      "WARNING:langchain.text_splitter:Created a chunk of size 800, which is longer than the specified 500\n",
      "WARNING:langchain.text_splitter:Created a chunk of size 552, which is longer than the specified 500\n",
      "WARNING:langchain.text_splitter:Created a chunk of size 673, which is longer than the specified 500\n",
      "WARNING:langchain.text_splitter:Created a chunk of size 749, which is longer than the specified 500\n",
      "WARNING:langchain.text_splitter:Created a chunk of size 799, which is longer than the specified 500\n",
      "WARNING:langchain.text_splitter:Created a chunk of size 562, which is longer than the specified 500\n",
      "WARNING:langchain.text_splitter:Created a chunk of size 646, which is longer than the specified 500\n",
      "WARNING:langchain.text_splitter:Created a chunk of size 1067, which is longer than the specified 500\n",
      "WARNING:langchain.text_splitter:Created a chunk of size 524, which is longer than the specified 500\n",
      "WARNING:langchain.text_splitter:Created a chunk of size 504, which is longer than the specified 500\n",
      "WARNING:langchain.text_splitter:Created a chunk of size 547, which is longer than the specified 500\n",
      "WARNING:langchain.text_splitter:Created a chunk of size 921, which is longer than the specified 500\n"
     ]
    },
    {
     "name": "stdout",
     "output_type": "stream",
     "text": [
      "Removing (Member-only): https://medium.com/@genovevavargassolar/designing-and-enacting-data-science-pipelines-as-queries-8e12bccea4e7?source=search_post---------5----------------------------\n"
     ]
    },
    {
     "data": {
      "application/vnd.jupyter.widget-view+json": {
       "model_id": "d80e991294f049789ec6d0209509bb88",
       "version_major": 2,
       "version_minor": 0
      },
      "text/plain": [
       "Upserted vectors:   0%|          | 0/237 [00:00<?, ?it/s]"
      ]
     },
     "metadata": {},
     "output_type": "display_data"
    },
    {
     "name": "stdout",
     "output_type": "stream",
     "text": [
      "Scraping: https://medium.com/towards-data-science/git-workflow-for-data-scientists-c75445f23f44?source=search_post---------1----------------------------\n",
      "Scraping: https://medium.com/towards-data-science/build-low-latency-and-scalable-ml-model-prediction-pipelines-using-spark-structured-streaming-and-535ae5244877?source=search_post---------5----------------------------\n",
      "Scraping: https://medium.com/towards-data-science/productionising-ml-projects-with-google-bigquery-and-pyspark-predicting-hotel-cancellations-8bf94fdc4af?source=search_post---------2----------------------------\n",
      "Scraping: https://medium.com/towards-data-science/guide-to-successful-ml-model-deployment-for-data-analysts-e5b893260926?source=search_post---------4----------------------------\n",
      "Scraping: https://medium.com/towards-data-science/ai-in-social-analysis-and-crowd-control-c2497a1f33e0?source=search_post---------8----------------------------\n",
      "Scraping: https://medium.com/@analytics/avbytes-facebook-ibm-face-recognition-ml-news-2019b784d5bb?source=search_post---------0----------------------------\n",
      "Scraping: https://medium.com/towards-data-science/why-model-explainability-is-the-next-data-science-superpower-b11b6102a5e0?source=search_post---------9----------------------------\n",
      "Scraping: https://medium.com/towards-data-science/web-app-development-for-data-scientists-48e445e54d7b?source=search_post---------3----------------------------\n",
      "Scraping: https://medium.com/towards-data-science/do-you-need-to-manage-a-team-of-data-scientists-aac3ad401ab4?source=search_post---------7----------------------------\n",
      "Scraping: https://medium.com/ssdr-book/why-creating-ml-model-features-is-challenging-in-the-real-world-79c8e6cd91d9?source=search_post---------6----------------------------\n"
     ]
    },
    {
     "name": "stderr",
     "output_type": "stream",
     "text": [
      "WARNING:langchain.text_splitter:Created a chunk of size 694, which is longer than the specified 500\n",
      "WARNING:langchain.text_splitter:Created a chunk of size 1082, which is longer than the specified 500\n",
      "WARNING:langchain.text_splitter:Created a chunk of size 916, which is longer than the specified 500\n",
      "WARNING:langchain.text_splitter:Created a chunk of size 799, which is longer than the specified 500\n"
     ]
    },
    {
     "name": "stdout",
     "output_type": "stream",
     "text": [
      "Removing (Member-only): https://medium.com/towards-data-science/build-low-latency-and-scalable-ml-model-prediction-pipelines-using-spark-structured-streaming-and-535ae5244877?source=search_post---------5----------------------------\n",
      "Removing (Member-only): https://medium.com/towards-data-science/productionising-ml-projects-with-google-bigquery-and-pyspark-predicting-hotel-cancellations-8bf94fdc4af?source=search_post---------2----------------------------\n",
      "Removing (Member-only): https://medium.com/towards-data-science/guide-to-successful-ml-model-deployment-for-data-analysts-e5b893260926?source=search_post---------4----------------------------\n",
      "Removing (Member-only): https://medium.com/towards-data-science/web-app-development-for-data-scientists-48e445e54d7b?source=search_post---------3----------------------------\n",
      "Removing (Member-only): https://medium.com/towards-data-science/do-you-need-to-manage-a-team-of-data-scientists-aac3ad401ab4?source=search_post---------7----------------------------\n",
      "Removing (Member-only): https://medium.com/ssdr-book/why-creating-ml-model-features-is-challenging-in-the-real-world-79c8e6cd91d9?source=search_post---------6----------------------------\n"
     ]
    },
    {
     "data": {
      "application/vnd.jupyter.widget-view+json": {
       "model_id": "7dfd0168036d43a8ae6d4ee97e16167c",
       "version_major": 2,
       "version_minor": 0
      },
      "text/plain": [
       "Upserted vectors:   0%|          | 0/47 [00:00<?, ?it/s]"
      ]
     },
     "metadata": {},
     "output_type": "display_data"
    },
    {
     "name": "stdout",
     "output_type": "stream",
     "text": [
      "Scraping: https://medium.com/@rochellesilva418/yup-the-tamil-community-makes-these-we-just-call-it-laddu-though-7fd822376703?source=search_post---------6----------------------------\n",
      "Scraping: https://medium.com/@theLFshow/ferguson-to-detroit-community-building-from-the-barbershop-to-the-polls-3de1c017953f?source=search_post---------4----------------------------\n",
      "Scraping: https://medium.com/bitdegree/bitdegree-on-hitbtc-first-gamified-course-community-q-a-monthly-roundup-002-878afd349bb6?source=search_post---------3----------------------------\n",
      "Scraping: https://medium.com/@olafusimichael/recorded-video-of-the-webinar-on-what-if-analysis-goal-seek-scenario-manager-data-table-and-7d6e76d38b57?source=search_post---------2----------------------------\n",
      "Scraping: https://medium.com/@noelito/owning-the-future-how-to-take-a-community-wealth-building-approach-71bec93e9945?source=search_post---------8----------------------------\n",
      "Scraping: https://medium.com/@mediavsreality/the-pua-community-have-addressed-this-topic-https-www-youtube-com-watch-v-dlfnncwu6c0-dfa98a809244?source=search_post---------0----------------------------\n",
      "Scraping: https://medium.com/@elye-project/thanks-for-sharing-zachary-good-pointers-172008d5f0e8?source=search_post---------1----------------------------\n",
      "Scraping: https://medium.com/@olafusimichael/february-2018-webinar-45-mins-crash-course-on-power-bi-78a391baf462?source=search_post---------9----------------------------\n",
      "Scraping: https://medium.com/@theLFshow/making-data-shift-power-bex-hong-hurwitz-and-rashida-richardson-f400c3eee3e0?source=search_post---------7----------------------------\n",
      "Scraping: https://medium.com/@rmchase/proactive-policy-making-community-action-needed-to-make-it-happen-fec8c2fffeb0?source=search_post---------5----------------------------\n"
     ]
    },
    {
     "name": "stderr",
     "output_type": "stream",
     "text": [
      "WARNING:langchain.text_splitter:Created a chunk of size 702, which is longer than the specified 500\n",
      "WARNING:langchain.text_splitter:Created a chunk of size 534, which is longer than the specified 500\n",
      "WARNING:langchain.text_splitter:Created a chunk of size 991, which is longer than the specified 500\n",
      "WARNING:langchain.text_splitter:Created a chunk of size 624, which is longer than the specified 500\n",
      "WARNING:langchain.text_splitter:Created a chunk of size 697, which is longer than the specified 500\n",
      "WARNING:langchain.text_splitter:Created a chunk of size 568, which is longer than the specified 500\n"
     ]
    },
    {
     "data": {
      "application/vnd.jupyter.widget-view+json": {
       "model_id": "4818ce2679a24f0c86713665d3ad7550",
       "version_major": 2,
       "version_minor": 0
      },
      "text/plain": [
       "Upserted vectors:   0%|          | 0/72 [00:00<?, ?it/s]"
      ]
     },
     "metadata": {},
     "output_type": "display_data"
    },
    {
     "name": "stdout",
     "output_type": "stream",
     "text": [
      "Scraping: https://medium.com/nerd-for-tech/first-look-at-reinforcement-learning-67688f36413d?source=search_post---------2----------------------------\n",
      "Scraping: https://medium.com/@rusty6kimo/if-you-perform-n-trials-of-the-same-process-then-those-random-variables-xi-will-become-2e0bf2899768?source=search_post---------4----------------------------\n",
      "Scraping: https://medium.com/cracking-the-code/deep-learning-study-group-xi-recurrent-neural-networks-including-grus-and-lstms-22c17fa36deb?source=search_post---------0----------------------------\n",
      "Scraping: https://medium.com/@chengxi600/classifying-league-of-legends-champion-archetypes-with-neural-networks-7e8f680c1efe?source=search_post---------3----------------------------\n",
      "Scraping: https://medium.com/towards-data-science/multi-layer-neural-networks-with-sigmoid-function-deep-learning-for-rookies-2-bf464f09eb7f?source=search_post---------5----------------------------\n",
      "Scraping: https://medium.com/data-science-365/what-happens-if-you-do-not-use-any-activation-function-in-a-neural-networks-hidden-layer-s-f3ce089e4508?source=search_post---------6----------------------------\n",
      "Scraping: https://medium.com/towards-data-science/deep-learning-which-loss-and-activation-functions-should-i-use-ac02f1c56aa8?source=search_post---------7----------------------------\n",
      "Scraping: https://medium.com/towards-data-science/why-do-neural-networks-need-an-activation-function-3a5f6a5f00a?source=search_post---------8----------------------------\n",
      "Scraping: https://medium.com/syncedreview/interview-with-dr-zhou-xi-from-voice-to-image-hope-technology-really-useful-70bd6643ede5?source=search_post---------9----------------------------\n",
      "Scraping: https://medium.com/@the-geeks-of-the-round-table/introduction-to-deep-learning-training-a-neural-network-part1-755641772ec1?source=search_post---------1----------------------------\n"
     ]
    },
    {
     "name": "stderr",
     "output_type": "stream",
     "text": [
      "ERROR:langchain.document_loaders.url_selenium:Error fetching or processing https://medium.com/cracking-the-code/deep-learning-study-group-xi-recurrent-neural-networks-including-grus-and-lstms-22c17fa36deb?source=search_post---------0----------------------------, exception: Message: unknown error: net::ERR_NAME_NOT_RESOLVED\n",
      "  (Session info: headless chrome=114.0.5735.106)\n",
      "Stacktrace:\n",
      "#0 0x55e3035d44e3 <unknown>\n",
      "#1 0x55e303303c76 <unknown>\n",
      "#2 0x55e3032fbc7f <unknown>\n",
      "#3 0x55e3032edca2 <unknown>\n",
      "#4 0x55e3032ef412 <unknown>\n",
      "#5 0x55e3032ee0ca <unknown>\n",
      "#6 0x55e3032ed168 <unknown>\n",
      "#7 0x55e3032ecfa0 <unknown>\n",
      "#8 0x55e3032eb9bf <unknown>\n",
      "#9 0x55e3032ebfed <unknown>\n",
      "#10 0x55e303305b06 <unknown>\n",
      "#11 0x55e3033779e5 <unknown>\n",
      "#12 0x55e30335f012 <unknown>\n",
      "#13 0x55e30337730e <unknown>\n",
      "#14 0x55e30335ede3 <unknown>\n",
      "#15 0x55e3033342dd <unknown>\n",
      "#16 0x55e30333534e <unknown>\n",
      "#17 0x55e3035943e4 <unknown>\n",
      "#18 0x55e3035983d7 <unknown>\n",
      "#19 0x55e3035a2b20 <unknown>\n",
      "#20 0x55e303599023 <unknown>\n",
      "#21 0x55e3035671aa <unknown>\n",
      "#22 0x55e3035bd6b8 <unknown>\n",
      "#23 0x55e3035bd847 <unknown>\n",
      "#24 0x55e3035cd243 <unknown>\n",
      "#25 0x7f59691b0b43 <unknown>\n",
      "\n",
      "WARNING:langchain.text_splitter:Created a chunk of size 943, which is longer than the specified 500\n",
      "WARNING:langchain.text_splitter:Created a chunk of size 1181, which is longer than the specified 500\n",
      "WARNING:langchain.text_splitter:Created a chunk of size 660, which is longer than the specified 500\n",
      "WARNING:langchain.text_splitter:Created a chunk of size 505, which is longer than the specified 500\n",
      "WARNING:langchain.text_splitter:Created a chunk of size 633, which is longer than the specified 500\n",
      "WARNING:langchain.text_splitter:Created a chunk of size 655, which is longer than the specified 500\n",
      "WARNING:langchain.text_splitter:Created a chunk of size 1246, which is longer than the specified 500\n",
      "WARNING:langchain.text_splitter:Created a chunk of size 1389, which is longer than the specified 500\n",
      "WARNING:langchain.text_splitter:Created a chunk of size 856, which is longer than the specified 500\n",
      "WARNING:langchain.text_splitter:Created a chunk of size 1000, which is longer than the specified 500\n",
      "WARNING:langchain.text_splitter:Created a chunk of size 567, which is longer than the specified 500\n",
      "WARNING:langchain.text_splitter:Created a chunk of size 722, which is longer than the specified 500\n",
      "WARNING:langchain.text_splitter:Created a chunk of size 600, which is longer than the specified 500\n",
      "WARNING:langchain.text_splitter:Created a chunk of size 520, which is longer than the specified 500\n"
     ]
    },
    {
     "name": "stdout",
     "output_type": "stream",
     "text": [
      "Removing (Member-only): https://medium.com/data-science-365/what-happens-if-you-do-not-use-any-activation-function-in-a-neural-networks-hidden-layer-s-f3ce089e4508?source=search_post---------6----------------------------\n"
     ]
    },
    {
     "data": {
      "application/vnd.jupyter.widget-view+json": {
       "model_id": "94233960b06b49b79367e5e55883d6f4",
       "version_major": 2,
       "version_minor": 0
      },
      "text/plain": [
       "Upserted vectors:   0%|          | 0/216 [00:00<?, ?it/s]"
      ]
     },
     "metadata": {},
     "output_type": "display_data"
    },
    {
     "name": "stdout",
     "output_type": "stream",
     "text": [
      "Scraping: https://medium.com/@Apiumhub/qa-engineer-organizing-a-qa-workflow-apiumhub-187119175c24?source=search_post---------9----------------------------\n",
      "Scraping: https://medium.com/managing-digital-products/how-to-upgrade-your-qa-team-to-qa-automation-engineers-with-java-the-real-case-83cab3a56f17?source=search_post---------4----------------------------\n",
      "Scraping: https://medium.com/@qausa/how-does-qa-automation-work-and-what-are-its-advantages-9d86769bb869?source=search_post---------3----------------------------\n",
      "Scraping: https://medium.com/@BagusRamadhan/followed-ijin-menyimak-qaqa-8bc7686ce732?source=search_post---------1----------------------------\n",
      "Scraping: https://medium.com/swlh/developers-and-qas-a-match-made-in-heaven-9f9e1e8e3c4f?source=search_post---------8----------------------------\n",
      "Scraping: https://medium.com/@jocatorres/qa-or-not-qa-thats-not-the-right-question-97219ee028fa?source=search_post---------7----------------------------\n",
      "Scraping: https://medium.com/@Saslow/problem-2-32-df9bafcbeaba?source=search_post---------0----------------------------\n",
      "Scraping: https://medium.com/@victor.ronin/the-dark-side-of-a-cross-functional-team-e0d379e37c70?source=search_post---------2----------------------------\n",
      "Scraping: https://medium.com/@qausa/5-reasons-to-join-testing-today-5e4ed73db176?source=search_post---------5----------------------------\n",
      "Scraping: https://medium.com/@strv/whats-the-difference-between-qa-analysts-vs-qa-testers-6d5d8d8ef41b?source=search_post---------6----------------------------\n"
     ]
    },
    {
     "name": "stderr",
     "output_type": "stream",
     "text": [
      "WARNING:langchain.text_splitter:Created a chunk of size 501, which is longer than the specified 500\n",
      "WARNING:langchain.text_splitter:Created a chunk of size 567, which is longer than the specified 500\n",
      "WARNING:langchain.text_splitter:Created a chunk of size 793, which is longer than the specified 500\n",
      "WARNING:langchain.text_splitter:Created a chunk of size 568, which is longer than the specified 500\n",
      "WARNING:langchain.text_splitter:Created a chunk of size 522, which is longer than the specified 500\n"
     ]
    },
    {
     "name": "stdout",
     "output_type": "stream",
     "text": [
      "Removing (Member-only): https://medium.com/@qausa/how-does-qa-automation-work-and-what-are-its-advantages-9d86769bb869?source=search_post---------3----------------------------\n",
      "Removing (Member-only): https://medium.com/swlh/developers-and-qas-a-match-made-in-heaven-9f9e1e8e3c4f?source=search_post---------8----------------------------\n",
      "Removing (Member-only): https://medium.com/@Saslow/problem-2-32-df9bafcbeaba?source=search_post---------0----------------------------\n",
      "Removing (Member-only): https://medium.com/@qausa/5-reasons-to-join-testing-today-5e4ed73db176?source=search_post---------5----------------------------\n"
     ]
    },
    {
     "data": {
      "application/vnd.jupyter.widget-view+json": {
       "model_id": "4f14d4f04eb84080b4194f92bcbcd62d",
       "version_major": 2,
       "version_minor": 0
      },
      "text/plain": [
       "Upserted vectors:   0%|          | 0/111 [00:00<?, ?it/s]"
      ]
     },
     "metadata": {},
     "output_type": "display_data"
    }
   ],
   "source": [
    "for query in search_query:\n",
    "    web_content = load_web_content('chrome', query)\n",
    "    web_content_splits = split_into_chunks(web_content, chunk_size=500)\n",
    "    vectorstore_controller.add_documents_to_vectorstore(web_content_splits)\n"
   ]
  },
  {
   "attachments": {},
   "cell_type": "markdown",
   "metadata": {},
   "source": [
    "here we will somehow query the questions and get the results"
   ]
  },
  {
   "cell_type": "code",
   "execution_count": 12,
   "metadata": {},
   "outputs": [
    {
     "name": "stdout",
     "output_type": "stream",
     "text": [
      "[Document(page_content='Non-functional requirements: Specify all properties, abilities, conditions, and behaviors of the system that are \\nnot associated with a functionality\\nExamples: Performance, energy consumption, privacy, safety, security, reliability, development cost\\nConstraints: Specify restrictions on the implementation of the system\\nExamples: Must run on system X; must deliver a result in X seconds; must finish dev in 180 days\\n6', metadata={'page': 5.0, 'source': 'spielwiese/test_pdf/3_RequirementsEngineering.pdf'}), Document(page_content='Non-functional requirements: Specify all properties, abilities, conditions, and behaviors of the system that are \\nnot associated with a functionality\\nExamples: Performance, energy consumption, privacy, safety, security, reliability, development cost\\nConstraints: Specify restrictions on the implementation of the system\\nExamples: Must run on system X; must deliver a result in X seconds; must finish dev in 180 days\\n6', metadata={'page': 5.0, 'source': 'spielwiese/test_pdf/3_RequirementsEngineering.pdf'}), Document(page_content='Non-functional requirements: Specify all properties, abilities, conditions, and behaviors of the system that are \\nnot associated with a functionality\\nExamples: Performance, energy consumption, privacy, safety, security, reliability, development cost\\nConstraints: Specify restrictions on the implementation of the system\\nExamples: Must run on system X; must deliver a result in X seconds; must finish dev in 180 days\\n6', metadata={'page': 5.0, 'source': 'spielwiese/test_pdf/3_RequirementsEngineering.pdf'}), Document(page_content='Be it a website, a mobile or a desktop app; it should have a set of quality attributes to meet end-user needs.\\n\\nArchitecture Characteristics / Non-Functional Requirements Briefly, functional requirements define what a system is supposed to do, like in the case of a car, take a person from A to B, and non-functional requirements stipulate how a system is supposed to be.', metadata={'source': 'https://medium.com/dev-genius/top-10-architecture-characteristics-non-functional-requirements-with-cheatsheat-7ad14bbb0a9b?source=search_post---------9----------------------------'}), Document(page_content='Be it a website, a mobile or a desktop app; it should have a set of quality attributes to meet end-user needs.\\n\\nArchitecture Characteristics / Non-Functional Requirements Briefly, functional requirements define what a system is supposed to do, like in the case of a car, take a person from A to B, and non-functional requirements stipulate how a system is supposed to be.', metadata={'source': 'https://medium.com/dev-genius/top-10-architecture-characteristics-non-functional-requirements-with-cheatsheat-7ad14bbb0a9b?source=search_post---------8----------------------------'}), Document(page_content='Types of Requirements\\nFunctional requirements: Specify function (features) of a system\\nExamples: Interface to a payment system, email notification, order system, logistics, management, etc.', metadata={'page': 5.0, 'source': 'spielwiese/test_pdf/3_RequirementsEngineering.pdf'}), Document(page_content='Types of Requirements\\nFunctional requirements: Specify function (features) of a system\\nExamples: Interface to a payment system, email notification, order system, logistics, management, etc.', metadata={'page': 5.0, 'source': 'spielwiese/test_pdf/3_RequirementsEngineering.pdf'}), Document(page_content='Types of Requirements\\nFunctional requirements: Specify function (features) of a system\\nExamples: Interface to a payment system, email notification, order system, logistics, management, etc.', metadata={'page': 5.0, 'source': 'spielwiese/test_pdf/3_RequirementsEngineering.pdf'}), Document(page_content='Quality is a non-functional requirement, that is, a requirement that specifies a criterion to assess the operation of a software product, which is different from the functional requirement, which specifies a behavior of the software.\\n\\nPerformance, scalability, operability, monitorability are some examples of non-functional software requirements that are just as important as quality.', metadata={'source': 'https://medium.com/@jocatorres/qa-or-not-qa-thats-not-the-right-question-97219ee028fa?source=search_post---------7----------------------------'}), Document(page_content='Non-functional / quality requirements: Define requirements on quality attributes (explainability, legal req.)\\n\\nHardware requirements: Specify the HW systems the AI component trains and inferences on.', metadata={'page': 14.0, 'source': 'spielwiese/test_pdf/3_RequirementsEngineering.pdf'})]\n",
      "[Document(page_content='Topic II: \\nRequirements Engineering for AI-Enabled Systems \\nRequirements engineering might be the most difficult activity for \\nthe development of ML -based systems.\\n\\n*\\n12', metadata={'page': 11.0, 'source': 'spielwiese/test_pdf/3_RequirementsEngineering.pdf'}), Document(page_content='Topic II: \\nRequirements Engineering for AI-Enabled Systems \\nRequirements engineering might be the most difficult activity for \\nthe development of ML -based systems.\\n\\n*\\n12', metadata={'page': 11.0, 'source': 'spielwiese/test_pdf/3_RequirementsEngineering.pdf'}), Document(page_content='Topic II: \\nRequirements Engineering for AI-Enabled Systems \\nRequirements engineering might be the most difficult activity for \\nthe development of ML -based systems.\\n\\n*\\n12', metadata={'page': 11.0, 'source': 'spielwiese/test_pdf/3_RequirementsEngineering.pdf'}), Document(page_content='Vogelsang & Borg: Requirements Engineering for Machine Learning: Perspectives from Data Scientists\\nIshikawa & Yoshioka: How do engineers perceive difficulties in engineering of machine -learning systems?', metadata={'page': 46.0, 'source': 'spielwiese/test_pdf/3_RequirementsEngineering.pdf'}), Document(page_content='Vogelsang & Borg: Requirements Engineering for Machine Learning: Perspectives from Data Scientists\\nIshikawa & Yoshioka: How do engineers perceive difficulties in engineering of machine -learning systems?', metadata={'page': 46.0, 'source': 'spielwiese/test_pdf/3_RequirementsEngineering.pdf'}), Document(page_content='Vogelsang & Borg: Requirements Engineering for Machine Learning: Perspectives from Data Scientists\\nIshikawa & Yoshioka: How do engineers perceive difficulties in engineering of machine -learning systems?', metadata={'page': 46.0, 'source': 'spielwiese/test_pdf/3_RequirementsEngineering.pdf'}), Document(page_content=\": Requirements Engineering of AI -intensive Systems at WAIN'21 1st Workshop on AI Engineering\\nIEEE Spectrum: How IBM Watson overpromised and underdelivered on AI health- care.\\n\\nRahimi et al.\", metadata={'page': 46.0, 'source': 'spielwiese/test_pdf/3_RequirementsEngineering.pdf'}), Document(page_content=\": Requirements Engineering of AI -intensive Systems at WAIN'21 1st Workshop on AI Engineering\\nIEEE Spectrum: How IBM Watson overpromised and underdelivered on AI health- care.\\n\\nRahimi et al.\", metadata={'page': 46.0, 'source': 'spielwiese/test_pdf/3_RequirementsEngineering.pdf'}), Document(page_content=\": Requirements Engineering of AI -intensive Systems at WAIN'21 1st Workshop on AI Engineering\\nIEEE Spectrum: How IBM Watson overpromised and underdelivered on AI health- care.\\n\\nRahimi et al.\", metadata={'page': 46.0, 'source': 'spielwiese/test_pdf/3_RequirementsEngineering.pdf'}), Document(page_content='AI-Specific Challenges for RE\\nAccording to practitioners, AI pose challenges due to:\\n- Missing oracle: No ground truth or trustworthy tool, failing to be able to define what is the correctness criteria for \\nsystem outputs\\n- Imperfection: An AI system is never 100% accurate\\n- Uncertainty of untested data: Uncertainty on how the AI system behaves for unseen data (see, for example, \\nadversarial examples)\\n- High dependency of behavior on training data: System behaves in dependence on what data is fed during training \\nand not how the behavior is (formally) specified\\nLeads to typical characteristics of AI systems:\\n- Erosion of determinism\\n- Unpredictability and unexplainability of individual outputs (Scully et al.', metadata={'page': 13.0, 'source': 'spielwiese/test_pdf/3_RequirementsEngineering.pdf'})]\n",
      "[Document(page_content='Requirements for AI systems must be derived from ethical principles and codes.', metadata={'page': 28.0, 'source': 'spielwiese/test_pdf/3_RequirementsEngineering.pdf'}), Document(page_content='Requirements for AI systems must be derived from ethical principles and codes.', metadata={'page': 28.0, 'source': 'spielwiese/test_pdf/3_RequirementsEngineering.pdf'}), Document(page_content='Requirements for AI systems must be derived from ethical principles and codes.', metadata={'page': 28.0, 'source': 'spielwiese/test_pdf/3_RequirementsEngineering.pdf'}), Document(page_content='Seshia et al.\\n\\nVerified AI at arxiv, 2020.\\n\\nGuizzardi et al.\\n\\n: Ethical Requirements of AI Systems at 23rd Canadian Conference on Artificial Intelligence 2020.', metadata={'page': 46.0, 'source': 'spielwiese/test_pdf/3_RequirementsEngineering.pdf'}), Document(page_content='Seshia et al.\\n\\nVerified AI at arxiv, 2020.\\n\\nGuizzardi et al.\\n\\n: Ethical Requirements of AI Systems at 23rd Canadian Conference on Artificial Intelligence 2020.', metadata={'page': 46.0, 'source': 'spielwiese/test_pdf/3_RequirementsEngineering.pdf'}), Document(page_content='Seshia et al.\\n\\nVerified AI at arxiv, 2020.\\n\\nGuizzardi et al.\\n\\n: Ethical Requirements of AI Systems at 23rd Canadian Conference on Artificial Intelligence 2020.', metadata={'page': 46.0, 'source': 'spielwiese/test_pdf/3_RequirementsEngineering.pdf'}), Document(page_content='Enables to validate whether the produced system adds to the ethical requirements.\\n\\nExample:\\n- EU Ethics guidelines for trustworthy AI\\n- Fairness and bias wrt.\\n\\nminorities, genders, etc.', metadata={'page': 28.0, 'source': 'spielwiese/test_pdf/3_RequirementsEngineering.pdf'}), Document(page_content='Enables to validate whether the produced system adds to the ethical requirements.\\n\\nExample:\\n- EU Ethics guidelines for trustworthy AI\\n- Fairness and bias wrt.\\n\\nminorities, genders, etc.', metadata={'page': 28.0, 'source': 'spielwiese/test_pdf/3_RequirementsEngineering.pdf'}), Document(page_content='Enables to validate whether the produced system adds to the ethical requirements.\\n\\nExample:\\n- EU Ethics guidelines for trustworthy AI\\n- Fairness and bias wrt.\\n\\nminorities, genders, etc.', metadata={'page': 28.0, 'source': 'spielwiese/test_pdf/3_RequirementsEngineering.pdf'}), Document(page_content='Ethical Requirements & Specification\\nThe purpose of ML is to discriminate data and learn patterns.\\n\\nHowever, some forms of discrimination are \\nunethical and must be avoided.', metadata={'page': 28.0, 'source': 'spielwiese/test_pdf/3_RequirementsEngineering.pdf'})]\n",
      "[Document(page_content='- How to start an AI/ML project based on requirements?\\n\\n- How to select suitable metrics to optimize for?\\n\\n- How to build teams and organize your company/project to productionize the AI/ML model?\\n\\n4', metadata={'page': 3.0, 'source': 'spielwiese/test_pdf/3_ProjectManagement.pdf'}), Document(page_content='- How to start an AI/ML project based on requirements?\\n\\n- How to select suitable metrics to optimize for?\\n\\n- How to build teams and organize your company/project to productionize the AI/ML model?\\n\\n4', metadata={'page': 3.0, 'source': 'spielwiese/test_pdf/3_ProjectManagement.pdf'}), Document(page_content='Prioritize Projects\\nHigh priority\\nValue of AI solution\\nSee Feasibility & ValueHigh\\nLow\\nFeasibilty\\nTechnical challenge, cost requirements, etc.High LowImpact\\n20', metadata={'page': 19.0, 'source': 'spielwiese/test_pdf/3_ProjectManagement.pdf'}), Document(page_content='Prioritize Projects\\nHigh priority\\nValue of AI solution\\nSee Feasibility & ValueHigh\\nLow\\nFeasibilty\\nTechnical challenge, cost requirements, etc.High LowImpact\\n20', metadata={'page': 19.0, 'source': 'spielwiese/test_pdf/3_ProjectManagement.pdf'}), Document(page_content='Do you need really AI?', metadata={'page': 7.0, 'source': 'spielwiese/test_pdf/3_ProjectManagement.pdf'}), Document(page_content='Do you need really AI?', metadata={'page': 7.0, 'source': 'spielwiese/test_pdf/3_ProjectManagement.pdf'}), Document(page_content='Techniques for improving feasibility:\\n-Consider safeguards in the interface with the model (e.g., show suggestions only when a certain \\nconfidence threshold is reached)\\n-Do not rely solely on one model (e.g., use suggestions from other sources, such as heuristics ---favorite \\nproduct of today --- to increase value)\\n-Communicate to users of an experimental state or provide means for feedback (e.g., use up- /down \\nvotes, comments, etc.)', metadata={'page': 28.0, 'source': 'spielwiese/test_pdf/3_ProjectManagement.pdf'}), Document(page_content='Techniques for improving feasibility:\\n-Consider safeguards in the interface with the model (e.g., show suggestions only when a certain \\nconfidence threshold is reached)\\n-Do not rely solely on one model (e.g., use suggestions from other sources, such as heuristics ---favorite \\nproduct of today --- to increase value)\\n-Communicate to users of an experimental state or provide means for feedback (e.g., use up- /down \\nvotes, comments, etc.)', metadata={'page': 28.0, 'source': 'spielwiese/test_pdf/3_ProjectManagement.pdf'}), Document(page_content='Legal and Regulatory Requirements\\nThe use of AI systems gets more and more regulated.\\n\\nIt is paramount to define the project regulatory boundaries to \\ndeploy a legal product.', metadata={'page': 26.0, 'source': 'spielwiese/test_pdf/3_RequirementsEngineering.pdf'}), Document(page_content='Legal and Regulatory Requirements\\nThe use of AI systems gets more and more regulated.\\n\\nIt is paramount to define the project regulatory boundaries to \\ndeploy a legal product.', metadata={'page': 26.0, 'source': 'spielwiese/test_pdf/3_RequirementsEngineering.pdf'})]\n",
      "[Document(page_content='Scorecards: Summary\\nSummarizes key results of the individual scorecards\\nScorecards can and should be customized to the organization, team, domain, and project at hand.', metadata={'page': 34.0, 'source': 'spielwiese/test_pdf/3_ProjectManagement.pdf'}), Document(page_content='Scorecards: Summary\\nSummarizes key results of the individual scorecards\\nScorecards can and should be customized to the organization, team, domain, and project at hand.', metadata={'page': 34.0, 'source': 'spielwiese/test_pdf/3_ProjectManagement.pdf'}), Document(page_content='Scorecards: Finance\\nCost and benefits of the problem to be \\nsolved by AI/ML, including the surrounding \\nsoftware system\\n32', metadata={'page': 31.0, 'source': 'spielwiese/test_pdf/3_ProjectManagement.pdf'}), Document(page_content='Scorecards: Finance\\nCost and benefits of the problem to be \\nsolved by AI/ML, including the surrounding \\nsoftware system\\n32', metadata={'page': 31.0, 'source': 'spielwiese/test_pdf/3_ProjectManagement.pdf'}), Document(page_content='-Questionnaire survey\\nLaura Pullum: Verification and Validation of Systems in Which AI is a Key Element at SEBOOK\\nSculley et al.\\n\\n:.Machine Learning: the high interest credit card of technical debt.', metadata={'page': 46.0, 'source': 'spielwiese/test_pdf/3_RequirementsEngineering.pdf'}), Document(page_content='-Questionnaire survey\\nLaura Pullum: Verification and Validation of Systems in Which AI is a Key Element at SEBOOK\\nSculley et al.\\n\\n:.Machine Learning: the high interest credit card of technical debt.', metadata={'page': 46.0, 'source': 'spielwiese/test_pdf/3_RequirementsEngineering.pdf'}), Document(page_content='-Questionnaire survey\\nLaura Pullum: Verification and Validation of Systems in Which AI is a Key Element at SEBOOK\\nSculley et al.\\n\\n:.Machine Learning: the high interest credit card of technical debt.', metadata={'page': 46.0, 'source': 'spielwiese/test_pdf/3_RequirementsEngineering.pdf'}), Document(page_content='22Be certain to understand your business model and how AI/ML contributes to it.\\n\\nHave a \\nclear vision not only what to reach for, but also how to measure the success of AI/ML!', metadata={'page': 21.0, 'source': 'spielwiese/test_pdf/3_ProjectManagement.pdf'}), Document(page_content='22Be certain to understand your business model and how AI/ML contributes to it.\\n\\nHave a \\nclear vision not only what to reach for, but also how to measure the success of AI/ML!', metadata={'page': 21.0, 'source': 'spielwiese/test_pdf/3_ProjectManagement.pdf'}), Document(page_content='Do you need really AI?', metadata={'page': 7.0, 'source': 'spielwiese/test_pdf/3_ProjectManagement.pdf'})]\n",
      "[Document(page_content=\"Responsibilities ofAI Team Management\\nResponsibilities\\n- Hire the right people \\n- Manage and develop people\\n- Managing teams' output and align goals\\n- Good long -term decisions and technical debt \\nreduction\\n- Manage expectations from leadershipObstacles\\n- Education, composition, scarcity of people and \\nlimited budget\\n- Diverse roles, technology- hyped, CV -driven\\n- Timelines and uncertainty\\n- Technical debt (pipeline erosion), unclear technological trend\\n- Management level often have a limited or false understanding of „artificial intelligence“\\n62\", metadata={'page': 61.0, 'source': 'spielwiese/test_pdf/3_ProjectManagement.pdf'}), Document(page_content=\"Responsibilities ofAI Team Management\\nResponsibilities\\n- Hire the right people \\n- Manage and develop people\\n- Managing teams' output and align goals\\n- Good long -term decisions and technical debt \\nreduction\\n- Manage expectations from leadershipObstacles\\n- Education, composition, scarcity of people and \\nlimited budget\\n- Diverse roles, technology- hyped, CV -driven\\n- Timelines and uncertainty\\n- Technical debt (pipeline erosion), unclear technological trend\\n- Management level often have a limited or false understanding of „artificial intelligence“\\n62\", metadata={'page': 61.0, 'source': 'spielwiese/test_pdf/3_ProjectManagement.pdf'}), Document(page_content='Learning Goals\\nKnow the expected responsibilities of roles in ML project teams\\nEvaluate advantages and drawbacks of different team and organization compositionsApply best practices of team management\\n52', metadata={'page': 51.0, 'source': 'spielwiese/test_pdf/3_ProjectManagement.pdf'}), Document(page_content='Learning Goals\\nKnow the expected responsibilities of roles in ML project teams\\nEvaluate advantages and drawbacks of different team and organization compositionsApply best practices of team management\\n52', metadata={'page': 51.0, 'source': 'spielwiese/test_pdf/3_ProjectManagement.pdf'}), Document(page_content='Project Management of AI Systems\\nTL;DR: \\n- Scoping the project\\n- Setting the g oal of the project, product, or system to be developed\\n- Roles & team management\\n- Project life cycle\\n3', metadata={'page': 2.0, 'source': 'spielwiese/test_pdf/3_ProjectManagement.pdf'}), Document(page_content='Project Management of AI Systems\\nTL;DR: \\n- Scoping the project\\n- Setting the g oal of the project, product, or system to be developed\\n- Roles & team management\\n- Project life cycle\\n3', metadata={'page': 2.0, 'source': 'spielwiese/test_pdf/3_ProjectManagement.pdf'}), Document(page_content='- How to start an AI/ML project based on requirements?\\n\\n- How to select suitable metrics to optimize for?\\n\\n- How to build teams and organize your company/project to productionize the AI/ML model?\\n\\n4', metadata={'page': 3.0, 'source': 'spielwiese/test_pdf/3_ProjectManagement.pdf'}), Document(page_content='- How to start an AI/ML project based on requirements?\\n\\n- How to select suitable metrics to optimize for?\\n\\n- How to build teams and organize your company/project to productionize the AI/ML model?\\n\\n4', metadata={'page': 3.0, 'source': 'spielwiese/test_pdf/3_ProjectManagement.pdf'}), Document(page_content='Hints for team functioning\\nTrust them; strategic not tactical direction\\nReduce bureaucracy, protect teamPhysical colocation, time for interactionAvoid in -team competition (bonuses etc.)', metadata={'page': 100.0, 'source': 'spielwiese/test_pdf/3_ProjectManagement.pdf'}), Document(page_content='Hints for team functioning\\nTrust them; strategic not tactical direction\\nReduce bureaucracy, protect teamPhysical colocation, time for interactionAvoid in -team competition (bonuses etc.)', metadata={'page': 100.0, 'source': 'spielwiese/test_pdf/3_ProjectManagement.pdf'})]\n",
      "[Document(page_content='9 min read·Mar 15 59 - 59', metadata={'source': 'https://medium.com/@rusty6kimo/if-you-perform-n-trials-of-the-same-process-then-those-random-variables-xi-will-become-2e0bf2899768?source=search_post---------4----------------------------'}), Document(page_content='them with ours.\\n\\nThe result of this process is shown in Table III,\\nwhere each heading indicates the related paper with its section\\nand context, in which challenges have been reported.', metadata={'page': 10.0, 'source': 'spielwiese/test_pdf/socio-technical-anti-patterns-icse2023.pdf'}), Document(page_content='Only few papers address the socio-technical challenges.', metadata={'page': 0.0, 'source': 'spielwiese/test_pdf/socio-technical-anti-patterns-icse2023.pdf'}), Document(page_content='LECTURE 17.', metadata={'page': 2.0, 'source': 'spielwiese/test_pdf/pml_neural_networks.pdf'}), Document(page_content='Some of them just\\ndescribed issues that we identify as causes.\\n\\nThe initial themes\\ndeveloped to be the seven contexts and development activities\\npresented in this paper.', metadata={'page': 2.0, 'source': 'spielwiese/test_pdf/socio-technical-anti-patterns-icse2023.pdf'}), Document(page_content='With its over 11,000 members, spanning\\nseveral continents, we are convinced that this represents one\\nof the most generalizable sources available, especially when\\ncompared to singular company papers.', metadata={'page': 3.0, 'source': 'spielwiese/test_pdf/socio-technical-anti-patterns-icse2023.pdf'}), Document(page_content='Many papers have focused on specific, and purely technical\\naspects, such as testing and pipelines, but only few on socio-\\ntechnical aspects.', metadata={'page': 0.0, 'source': 'spielwiese/test_pdf/socio-technical-anti-patterns-icse2023.pdf'}), Document(page_content=\"It's a parabolic function, hence its continuous and differentiable throughout its domain.\\n\\n2) KL LossFor classification problems, KL Score is the commonly used loss.\\n\\nIt shows how much 2 probability distributions differ from each other.\\n\\nThe intuition for the KL divergence score is that when the probability for an event from P is large, but the probability for the same event in Q is small, there is a large divergence.\", metadata={'source': 'https://medium.com/@the-geeks-of-the-round-table/introduction-to-deep-learning-training-a-neural-network-part1-755641772ec1?source=search_post---------1----------------------------'}), Document(page_content='Requires guarantees for their prediction accuracy and convergences\\n44', metadata={'page': 42.0, 'source': 'spielwiese/test_pdf/3_RequirementsEngineering.pdf'}), Document(page_content='Requires guarantees for their prediction accuracy and convergences\\n44', metadata={'page': 42.0, 'source': 'spielwiese/test_pdf/3_RequirementsEngineering.pdf'})]\n",
      "[Document(page_content='Results Overview\\nWe group our findings into three main areas: organizational\\nsilos, communication within an organization, and organiza-\\ntional leadership vacuum.', metadata={'page': 3.0, 'source': 'spielwiese/test_pdf/socio-technical-anti-patterns-icse2023.pdf'}), Document(page_content='” CS21\\nV. L EADERSHIP VACUUM\\nWe identified that many stated problems are due to a\\nleadership vacuum.', metadata={'page': 7.0, 'source': 'spielwiese/test_pdf/socio-technical-anti-patterns-icse2023.pdf'}), Document(page_content='Leadership Vacuum I\\n(A)Headless -Chicking Hiring\\nAnti-Patterns (AP)\\nAP12: Staff with insufficient skills\\nStaff with ML background cannot build and maintain pipelines or applications\\nAP13: No product for data scientists\\nHired DS for a specific task become obsolete after the task is completed; if use case is solvable \\nwithout DS, the social structures and productivity can be negatively impacted\\n78', metadata={'page': 73.0, 'source': 'spielwiese/test_pdf/3_ProjectManagement.pdf'}), Document(page_content='Leadership Vacuum I\\n(A)Headless -Chicking Hiring\\nAnti-Patterns (AP)\\nAP12: Staff with insufficient skills\\nStaff with ML background cannot build and maintain pipelines or applications\\nAP13: No product for data scientists\\nHired DS for a specific task become obsolete after the task is completed; if use case is solvable \\nwithout DS, the social structures and productivity can be negatively impacted\\n78', metadata={'page': 73.0, 'source': 'spielwiese/test_pdf/3_ProjectManagement.pdf'}), Document(page_content='Leadership Vacuum III\\n(B) Résumé -driven development\\nAnti-Patterns (AP)\\nAP14: Developed tools and models do not match the team or product goals\\nDecision process about which tools and libraries to use is highly driven by individuals; lack of authority \\nand limited experience in the team may lead to decisions driven by personal benefits\\nCauses (C)\\nC11: Data scientists do not identify with the business value\\nDisconnection of technology- focused people with company outcome\\nC11: Missing decision maker\\nUnclear who makes the final decision, enables strong opinions on tools of people in a team\\nRecommendations (R)\\nR12: Rely on organization knowledge\\nRely on existing technologies used by other teams as a fallback guideline if no authority is present80', metadata={'page': 75.0, 'source': 'spielwiese/test_pdf/3_ProjectManagement.pdf'}), Document(page_content='Leadership Vacuum III\\n(B) Résumé -driven development\\nAnti-Patterns (AP)\\nAP14: Developed tools and models do not match the team or product goals\\nDecision process about which tools and libraries to use is highly driven by individuals; lack of authority \\nand limited experience in the team may lead to decisions driven by personal benefits\\nCauses (C)\\nC11: Data scientists do not identify with the business value\\nDisconnection of technology- focused people with company outcome\\nC11: Missing decision maker\\nUnclear who makes the final decision, enables strong opinions on tools of people in a team\\nRecommendations (R)\\nR12: Rely on organization knowledge\\nRely on existing technologies used by other teams as a fallback guideline if no authority is present80', metadata={'page': 75.0, 'source': 'spielwiese/test_pdf/3_ProjectManagement.pdf'}), Document(page_content='Leadership Vacuum II\\n(A)Headless -Chicking Hiring\\nAnti-Patterns (AP)\\nC8: Unclear roles and titles\\nRoles and titles are consistently undefined; the same job title can imply different tasks and required \\nskills depending on the company\\nC9: Uneducated hiring\\nHiring managers require more knowledge about the needed skills; missing communication about \\nactually needed skills may lead to fallback hiring of general purpose “data scientist”\\nC10: Skill shortage on the market\\nFast growing industry raises demand on specialized skills, possibly leading to hiring people with the \\nwrong skills because people with the right skills are absent\\nRecommendations (R)\\nR11: Hiring for skill and potential rather than role\\nProviding a clear definition of the task and the relevant skills to solve it, enables hiring the right \\npeople79', metadata={'page': 74.0, 'source': 'spielwiese/test_pdf/3_ProjectManagement.pdf'}), Document(page_content='Leadership Vacuum II\\n(A)Headless -Chicking Hiring\\nAnti-Patterns (AP)\\nC8: Unclear roles and titles\\nRoles and titles are consistently undefined; the same job title can imply different tasks and required \\nskills depending on the company\\nC9: Uneducated hiring\\nHiring managers require more knowledge about the needed skills; missing communication about \\nactually needed skills may lead to fallback hiring of general purpose “data scientist”\\nC10: Skill shortage on the market\\nFast growing industry raises demand on specialized skills, possibly leading to hiring people with the \\nwrong skills because people with the right skills are absent\\nRecommendations (R)\\nR11: Hiring for skill and potential rather than role\\nProviding a clear definition of the task and the relevant skills to solve it, enables hiring the right \\npeople79', metadata={'page': 74.0, 'source': 'spielwiese/test_pdf/3_ProjectManagement.pdf'}), Document(page_content='Leadership Vacuum VI\\n(C) Hype -driven Development\\nRecommendations (R)\\nR13: Process to identify feasible use cases and product roadmap\\nRaising awareness of increased complexity due to ML; resort to traditional engineering methods and \\nheuristics; identify use cases before starting to iterate on the problem; write proposals about feasibility estimates, data \\navailability, and which organizational units should evaluate the product\\nR14: Understand customers and keep them close\\nDS should communicate with customers and understand their requirements\\nR15: Education\\nEducation through workshops that emphasize data available\\n85', metadata={'page': 78.0, 'source': 'spielwiese/test_pdf/3_ProjectManagement.pdf'}), Document(page_content='Leadership Vacuum VI\\n(C) Hype -driven Development\\nRecommendations (R)\\nR13: Process to identify feasible use cases and product roadmap\\nRaising awareness of increased complexity due to ML; resort to traditional engineering methods and \\nheuristics; identify use cases before starting to iterate on the problem; write proposals about feasibility estimates, data \\navailability, and which organizational units should evaluate the product\\nR14: Understand customers and keep them close\\nDS should communicate with customers and understand their requirements\\nR15: Education\\nEducation through workshops that emphasize data available\\n85', metadata={'page': 78.0, 'source': 'spielwiese/test_pdf/3_ProjectManagement.pdf'})]\n",
      "[Document(page_content='The MLOps community\\nThe MLOps community is an interest group founded in\\n2020 that is centered around knowledge sharing.', metadata={'page': 2.0, 'source': 'spielwiese/test_pdf/socio-technical-anti-patterns-icse2023.pdf'}), Document(page_content='I. I NTRODUCTION\\n“So many guests have come on [at MLOps Community Chan-\\nnel] and said that MLOps is an organizational problem.', metadata={'page': 0.0, 'source': 'spielwiese/test_pdf/socio-technical-anti-patterns-icse2023.pdf'}), Document(page_content='The\\nbiggest interest group that fulfills all of these criteria is the\\nMLOps.community1.', metadata={'page': 1.0, 'source': 'spielwiese/test_pdf/socio-technical-anti-patterns-icse2023.pdf'}), Document(page_content='[M59] MLOps.community “MLOps Community 1 Year Anniversary!”,\\nYouTube , Apr 9, 2021. https://www.youtube.com/watch?v=\\nWmyvj1WYxUE.', metadata={'page': 11.0, 'source': 'spielwiese/test_pdf/socio-technical-anti-patterns-icse2023.pdf'}), Document(page_content='A community with more than 11,000\\nprofessional members dedicated to share experiences when\\nputting ML into production.', metadata={'page': 1.0, 'source': 'spielwiese/test_pdf/socio-technical-anti-patterns-icse2023.pdf'}), Document(page_content='[CS38] MLOps.community “Organisational Challenges of MLOps”, YouTube ,\\nMay 7, 2021. https://www.youtube.com/watch?v=xe3-ImbPkT0.', metadata={'page': 12.0, 'source': 'spielwiese/test_pdf/socio-technical-anti-patterns-icse2023.pdf'}), Document(page_content='[M43] MLOps.community “The Current MLOps Landscape”, YouTube , Nov\\n23, 2020. https://www.youtube.com/watch?v=i6HZ2vjFLIs.', metadata={'page': 11.0, 'source': 'spielwiese/test_pdf/socio-technical-anti-patterns-icse2023.pdf'}), Document(page_content='[M22] MLOps.community “Feature Stores: An Essential Part of the ML Stack\\nto Build Great Data”, YouTube , Jul 13, 2020. https://www.youtube.com/\\nwatch?v=IjO8VUCIZxc.', metadata={'page': 11.0, 'source': 'spielwiese/test_pdf/socio-technical-anti-patterns-icse2023.pdf'}), Document(page_content='[CS56] MLOps.community “A Few Learnings from Building a Bootstrapped\\nMLOps Services Startup”, YouTube , Sep 27, 2021. https://www.youtube.\\n\\ncom/watch?v=VqMGn6CyRpA.', metadata={'page': 12.0, 'source': 'spielwiese/test_pdf/socio-technical-anti-patterns-icse2023.pdf'}), Document(page_content='[CS39] MLOps.community “MLOps: A Leader’s Perspective”, YouTube , May\\n18, 2021. https://www.youtube.com/watch?v=LoKMLW1v4EY.', metadata={'page': 12.0, 'source': 'spielwiese/test_pdf/socio-technical-anti-patterns-icse2023.pdf'})]\n",
      "[Document(page_content='The perceptron performs three operations:\\n1) each input element is multiplied by a weight: {u1=w1⇥1,u2=w2⇥x1,u3=\\nw3⇥x2,.\\n\\n.\\n\\n.\\n\\n.}', metadata={'page': 0.0, 'source': 'spielwiese/test_pdf/pml_neural_networks.pdf'}), Document(page_content='The multi-layer perceptron is a\\nfeedforward architecture which we consider as a composition of functions.', metadata={'page': 2.0, 'source': 'spielwiese/test_pdf/pml_neural_networks.pdf'}), Document(page_content='The perceptron is the most primitive version of a neural network that still does\\nsomething useful.\\n\\nBackpropogation is the algorithm that is the conceptual basis\\nfor training modern neural networks.', metadata={'page': 0.0, 'source': 'spielwiese/test_pdf/pml_neural_networks.pdf'}), Document(page_content='.\\n\\n.\\n\\nn\\nyiwTxi>\\x00 .\\n\\nPeople were excited by the perceptron and it was used in classiﬁcation.\\n\\nThe\\nMinsky and Papert put a kibosh on the perceptron via what was called the x-or\\n(exclusive or problem).', metadata={'page': 1.0, 'source': 'spielwiese/test_pdf/pml_neural_networks.pdf'}), Document(page_content='Key concepts: input data, weights, summation and adding bias, activation function (specifically step function), and then output.\\n\\nBored yet?\\n\\nNo worries :) I promise there will be……more jargons coming up!\\n\\nBut you’ll get used to them soon.\\n\\nI promise.\\n\\nBack in the 1950s and 1960s, people had no effective learning algorithm for a single-layer perceptron to learn and identify non-linear patterns (remember the XOR gate problem?).\\n\\nAnd the public lost interest in perceptron.', metadata={'source': 'https://medium.com/towards-data-science/multi-layer-neural-networks-with-sigmoid-function-deep-learning-for-rookies-2-bf464f09eb7f?source=search_post---------5----------------------------'}), Document(page_content='The perceptron came with the following training algorithm which given n\\nobeservations ( xi,yi)n\\ni=1outputs a set of weights for which the perceptron would\\ncorrectly classiﬁes all of the inputs ( xi)n\\ni=1:\\n1) Initialize weights wrandomly\\n2) While any input is incorrectly classiﬁed do:\\ni) Select an input-output pair k2{1,. .', metadata={'page': 1.0, 'source': 'spielwiese/test_pdf/pml_neural_networks.pdf'}), Document(page_content='.\\n\\n,n }\\nii) If yk= 1 and wTxk<0t h e n\\nw=w+x\\nElse if yk= 0 and wTxk>0t h e n\\nw=w\\x00x\\nThe idea above is that the perceptron algorithm only updates the weights when an\\nerror is made on the observations.', metadata={'page': 1.0, 'source': 'spielwiese/test_pdf/pml_neural_networks.pdf'}), Document(page_content='128 S. MUKHERJEE, PROBABILISTIC MACHINE LEARNING\\nfunction at each layer as fwiand the multi-layer perceptron can be written as\\nyi=fwd(fwd\\x001(fwd\\x002(···fw1(xi)))) = fwd\\x00fwd\\x001\\x00···\\x00 fw1(xi).', metadata={'page': 3.0, 'source': 'spielwiese/test_pdf/pml_neural_networks.pdf'}), Document(page_content='So given a pdimensional input (again appended with a 1) and two hidden layers\\nthe multi-perceptron architecture would be\\nyi=U\\x00\\nwT\\n2⇥\\nU(wT\\n11xi) U(wT\\n12xi)⇤\\x00\\n.', metadata={'page': 2.0, 'source': 'spielwiese/test_pdf/pml_neural_networks.pdf'}), Document(page_content='If the observations can be perfectly classiﬁed by\\na linear function then an upper bound on the number of steps that the perceptron\\nalgorithm will take to correctly classify all the points is\\nO✓R2\\n\\x002◆\\nwhere Ris the largest norm of any observation R= max i=1,...,n{kxik}and\\x00is the\\nmargin satisﬁed (recall the SVM) or the assumption that there exists a \\x00such that\\nfor some weights wall points will be classiﬁed correctly with margin \\x00or for all\\ni=1,.', metadata={'page': 1.0, 'source': 'spielwiese/test_pdf/pml_neural_networks.pdf'})]\n",
      "[Document(page_content='This was one reason why Deep Learning didn’t take off until the past few years, when we began producing much better hardware that could handle the memory-consuming deep neural networks.\\n\\nSigmoid Neurons: An Introduction So now we have a more sophisticatedly structured neural network with hidden layers.\\n\\nBut we haven’t solved the activation problem with the step function.', metadata={'source': 'https://medium.com/towards-data-science/multi-layer-neural-networks-with-sigmoid-function-deep-learning-for-rookies-2-bf464f09eb7f?source=search_post---------5----------------------------'}), Document(page_content='The problem with the derivative operation above is that our\\nactivation functions are unit step functions which are non-di↵erentiable.', metadata={'page': 3.0, 'source': 'spielwiese/test_pdf/pml_neural_networks.pdf'}), Document(page_content='linear combination make sure you read this link Meanwhile, step function also has no useful derivative (its derivative is 0 everywhere or undefined at the 0 point on x-axis).\\n\\nIt doesn’t work for backpropagation, which we will definitely talk about in the next post!\\n\\nWell, here’s another problem: Perceptron with step function isn’t very “stable” as a “relationship candidate” for neural networks.\\n\\nThink about it: this girl (or boy) has got some serious bipolar issues!', metadata={'source': 'https://medium.com/towards-data-science/multi-layer-neural-networks-with-sigmoid-function-deep-learning-for-rookies-2-bf464f09eb7f?source=search_post---------5----------------------------'}), Document(page_content='The idea behind the backpropogation algorithm is implement equation (17.1)\\nrecursively using the sigmoid as the activation function.', metadata={'page': 3.0, 'source': 'spielwiese/test_pdf/pml_neural_networks.pdf'}), Document(page_content='Now in modern neural network architectures one does not use the above\\nactivation functions at the hidden units instead one uses a rectiﬁed linear unit\\n(ReLU) or leaky ReLU\\nf(X)=(\\n0i fx<0,\\nxifx\\x000,f(X)=(\\n0i f↵x < 0,↵=.01\\nxifx\\x000.', metadata={'page': 5.0, 'source': 'spielwiese/test_pdf/pml_neural_networks.pdf'}), Document(page_content='If we can’t use step function to gradually change the weights, then it shouldn’t be the choice.\\n\\nSay goodbye to perceptron with step function now.\\n\\nWe are finding a new partner for our neural network, the sigmoid neuron, which comes with sigmoid function (duh).\\n\\nBut no worries: The only thing that will change is the activation function, and everything else we’ve learned so far about neural networks still works for this new type of neuron!', metadata={'source': 'https://medium.com/towards-data-science/multi-layer-neural-networks-with-sigmoid-function-deep-learning-for-rookies-2-bf464f09eb7f?source=search_post---------5----------------------------'}), Document(page_content=\"But since the gradient of a step function is zero everywhere except at x=t, where t is the threshold, it's impossible to learn and optimize using a threshold activation.\\n\\nWe will be varying the weights a lot without reducing the error.\\n\\n2) Sigmoid ActivationTo solve the above issue, we need the activation function to be differentiable, with non-zero gradients over most of its domain.\", metadata={'source': 'https://medium.com/@the-geeks-of-the-round-table/introduction-to-deep-learning-training-a-neural-network-part1-755641772ec1?source=search_post---------1----------------------------'}), Document(page_content='Backpropogation\\nThe idea behind the backpropogation algorithm was to use derivatives and the chain\\nrule to optimize the weights or update weights.', metadata={'page': 2.0, 'source': 'spielwiese/test_pdf/pml_neural_networks.pdf'}), Document(page_content='As you see, it approaches 1 as x approaches infinity, and approaches 0 if x approaches minus infinity.\\n\\nIt is also symmetrical, and has a value of 1/2 when its input is 0.\\n\\nSince it takes values between 0 and 1, this function is extremely useful as an output if you want to model a probability.\\n\\nIt’s also helpful if you wish to apply a “filter” to partially keep a certain value (like in an LSTM’s forget gate).\\n\\nWhy do Neural Networks Need an Activation Function?', metadata={'source': 'https://medium.com/towards-data-science/why-do-neural-networks-need-an-activation-function-3a5f6a5f00a?source=search_post---------8----------------------------'}), Document(page_content='The reason this algorithm is called backpropogation is that the chain rule is\\ntaking the error at the output and passing it back through the network recursively\\nto update the weights.', metadata={'page': 4.0, 'source': 'spielwiese/test_pdf/pml_neural_networks.pdf'})]\n",
      "[Document(page_content='A a universal approximator\\nis a function f:I Rp!I R that can approximate any continuous function on a\\ncompact subset of I Rparbitrarily well.', metadata={'page': 5.0, 'source': 'spielwiese/test_pdf/pml_neural_networks.pdf'}), Document(page_content='The idea of a universal approximator is one\\nof the main arguments for while deep neural networks are successful.\\n\\n17.1.1.', metadata={'page': 0.0, 'source': 'spielwiese/test_pdf/pml_neural_networks.pdf'}), Document(page_content='The idea of universal approximators goes back to Hilbert’s 13-th conjecture that\\nhe presented in the Second International Congress of Mathematicians in 1900.', metadata={'page': 5.0, 'source': 'spielwiese/test_pdf/pml_neural_networks.pdf'}), Document(page_content='17.1.3.\\n\\nUniversal approximator\\nMathematical arguments for why neural networks work well often take the perspec-\\ntive of a neural network as a universal approximator.', metadata={'page': 5.0, 'source': 'spielwiese/test_pdf/pml_neural_networks.pdf'}), Document(page_content='Requires guarantees for their prediction accuracy and convergences\\n44', metadata={'page': 42.0, 'source': 'spielwiese/test_pdf/3_RequirementsEngineering.pdf'}), Document(page_content='Requires guarantees for their prediction accuracy and convergences\\n44', metadata={'page': 42.0, 'source': 'spielwiese/test_pdf/3_RequirementsEngineering.pdf'}), Document(page_content='Requires guarantees for their prediction accuracy and convergences\\n44', metadata={'page': 42.0, 'source': 'spielwiese/test_pdf/3_RequirementsEngineering.pdf'}), Document(page_content='Earlier models\\nThe ideas that gave rise to deep convolutional networks that we will cover are the\\nperceptron algorithm, the idea of backpropogation, and universal approximators.', metadata={'page': 0.0, 'source': 'spielwiese/test_pdf/pml_neural_networks.pdf'}), Document(page_content='Note that this definition does not require any information about what the correct prediction for f(x) or f(x’) is, we simply reason about the fact that the prediction shall stay consistent (whether correct or not) within a neighborhood.', metadata={'source': 'https://medium.com/towards-data-science/why-robustness-is-not-enough-for-safety-and-security-in-machine-learning-1a35f6706601?source=search_post---------2----------------------------'}), Document(page_content='What this means is, given a set of observed instances with certain values we wish to predict, and some data we have on each instance, it will try to generalize those data so that it can predict the values correctly for new instances of the problem.\\n\\nAs an example, we may be designing an image classifier (typically with a Convolutional Neural Network).\\n\\nHere, the inputs are a vector of pixels.\\n\\nThe output could be a numerical class label (for instance, 1 for dogs, 0 for cats).', metadata={'source': 'https://medium.com/towards-data-science/why-do-neural-networks-need-an-activation-function-3a5f6a5f00a?source=search_post---------8----------------------------'})]\n",
      "[Document(page_content='Turingmaschine\\n···□□abbaabba□□···\\nq\\nNotizen\\nBeidseitig unbeschränktes Arbeitsband\\nEndliche Kontrolle (zustandsgesteuert)\\nMobiler Lese- & Schreibkopf\\nEingabe auf Band; Symbole überschreibbar (Speicher)\\nAlan Turing (∗1912;†1954)\\nEngl.', metadata={'page': 54.0, 'source': 'spielwiese/test_pdf/berechenbarkeit_turing_maschinen.pdf'}), Document(page_content='Turingmaschine\\n···□□abbaabba□□···\\nq\\nNotizen\\nBeidseitig unbeschränktes Arbeitsband\\nEndliche Kontrolle (zustandsgesteuert)\\nMobiler Lese- & Schreibkopf\\nEingabe auf Band; Symbole überschreibbar (Speicher)\\nAlan Turing (∗1912;†1954)\\nEngl.', metadata={'page': 55.0, 'source': 'spielwiese/test_pdf/berechenbarkeit_turing_maschinen.pdf'}), Document(page_content='Zusammenfassung\\nIntuitive Berechenbarkeit\\nGrundlagen Turingmaschinen\\nErste Übungsserie bereits im Moodle\\n127', metadata={'page': 126.0, 'source': 'spielwiese/test_pdf/berechenbarkeit_turing_maschinen.pdf'}), Document(page_content='Berechenbarkeit\\nVorlesung 2: Grundlagen Turingmaschinen\\n13.\\n\\nApril 2023\\n1', metadata={'page': 0.0, 'source': 'spielwiese/test_pdf/berechenbarkeit_turing_maschinen.pdf'}), Document(page_content='Termine — Modul Berechenbarkeit\\nÜbungen Vorlesung\\n11.4.\\n\\n13.4.\\n\\nTuringmaschine I\\n(Übungsblatt 1)\\n18.4.\\n\\nÜbung 1\\nB-Woche20.4.\\n\\nTuringmaschine II\\n25.4.\\n\\nÜbung 1\\nA-Woche27.4.', metadata={'page': 1.0, 'source': 'spielwiese/test_pdf/berechenbarkeit_turing_maschinen.pdf'}), Document(page_content='Turingmaschine\\n§2.7 Definition (akzeptierte Sprache; engl.', metadata={'page': 121.0, 'source': 'spielwiese/test_pdf/berechenbarkeit_turing_maschinen.pdf'}), Document(page_content='Turingmaschine\\n§2.7 Definition (akzeptierte Sprache; engl.', metadata={'page': 120.0, 'source': 'spielwiese/test_pdf/berechenbarkeit_turing_maschinen.pdf'}), Document(page_content='DeepMind, Princeton & Stanford’s LATM Enables LLMs to Make Their Own ToolsThe 19th-century British philosopher Thomas Carlyle ascribed human progress to a key historical development: “Man is a tool-using animal… 3 min read·May 31 34 Youssef Hosni in Towards AI How to Read Machine Learning Papers EffectivelyThe field of machine and deep learning is evolving very fast, and there are new research outputs every day.', metadata={'source': 'https://medium.com/syncedreview/interview-with-dr-zhou-xi-from-voice-to-image-hope-technology-really-useful-70bd6643ede5?source=search_post---------9----------------------------'}), Document(page_content='Turingmaschine\\nDamit programmieren?\\n\\nEinfaches Modell (vereinfacht Beweise Nichtberechenbarkeit)\\nGleichmächtig wie gebräuchliche Programmiersprachen\\n(C++, Java, Perl, Python, etc.)', metadata={'page': 58.0, 'source': 'spielwiese/test_pdf/berechenbarkeit_turing_maschinen.pdf'}), Document(page_content='Turingmaschine\\nDamit programmieren?\\n\\nEinfaches Modell (vereinfacht Beweise Nichtberechenbarkeit)\\nGleichmächtig wie gebräuchliche Programmiersprachen\\n(C++, Java, Perl, Python, etc.)', metadata={'page': 57.0, 'source': 'spielwiese/test_pdf/berechenbarkeit_turing_maschinen.pdf'})]\n",
      "[Document(page_content='Turingmaschine\\n···□□abbaabba□□···\\nq\\nNotizen\\nBeidseitig unbeschränktes Arbeitsband\\nEndliche Kontrolle (zustandsgesteuert)\\nMobiler Lese- & Schreibkopf\\nEingabe auf Band; Symbole überschreibbar (Speicher)\\nAlan Turing (∗1912;†1954)\\nEngl.', metadata={'page': 55.0, 'source': 'spielwiese/test_pdf/berechenbarkeit_turing_maschinen.pdf'}), Document(page_content='Turingmaschine\\n···□□abbaabba□□···\\nq\\nNotizen\\nBeidseitig unbeschränktes Arbeitsband\\nEndliche Kontrolle (zustandsgesteuert)\\nMobiler Lese- & Schreibkopf\\nEingabe auf Band; Symbole überschreibbar (Speicher)\\nAlan Turing (∗1912;†1954)\\nEngl.', metadata={'page': 54.0, 'source': 'spielwiese/test_pdf/berechenbarkeit_turing_maschinen.pdf'}), Document(page_content='Turingmaschine\\n§2.6 Definition (Ableitungsrelation — keine Bewegung)\\nu qγw⊢Mu q′γ′w\\nfalls(q, γ)→(q′, γ′,⋄)∈∆\\n··· □□ u1··· ukγ w1··· wn□□···\\nq\\n⊢M\\n··· □□ u1··· ukγ′w1··· wn□□···\\nq′\\n118', metadata={'page': 117.0, 'source': 'spielwiese/test_pdf/berechenbarkeit_turing_maschinen.pdf'}), Document(page_content='Turingmaschine\\n§2.6 Definition (Ableitungsrelation — Schritt nach rechts)\\nu qγw⊢M(\\nuγ′q′□falls w=ε\\nuγ′q′wsonst\\nfalls(q, γ)→(q′, γ′, ▷)∈∆\\n··· □□ u1··· ukγ w1··· wn□□···\\nq\\n⊢M\\n··· □□ u1··· ukγ′w1··· wn□□···\\nq′\\n120', metadata={'page': 119.0, 'source': 'spielwiese/test_pdf/berechenbarkeit_turing_maschinen.pdf'}), Document(page_content='Turingmaschine\\n§2.6 Definition (Ableitungsrelation — Schritt nach links)\\nu qγw⊢M(\\nεq′□γ′w falls u=ε\\nu′q′γ′′γ′wfalls u=u′γ′′mitγ′′∈Γ\\nfalls(q, γ)→(q′, γ′, ◁)∈∆\\n··· □□ u1··· ukγ w1··· wn□□···\\nq\\n⊢M\\n··· □□ u1··· ukγ′w1··· wn□□···\\nq′\\n119', metadata={'page': 118.0, 'source': 'spielwiese/test_pdf/berechenbarkeit_turing_maschinen.pdf'}), Document(page_content='Zusammenfassung\\nIntuitive Berechenbarkeit\\nGrundlagen Turingmaschinen\\nErste Übungsserie bereits im Moodle\\n127', metadata={'page': 126.0, 'source': 'spielwiese/test_pdf/berechenbarkeit_turing_maschinen.pdf'}), Document(page_content='Turingmaschine\\nDamit programmieren?\\n\\nEinfaches Modell (vereinfacht Beweise Nichtberechenbarkeit)\\nGleichmächtig wie gebräuchliche Programmiersprachen\\n(C++, Java, Perl, Python, etc.)', metadata={'page': 57.0, 'source': 'spielwiese/test_pdf/berechenbarkeit_turing_maschinen.pdf'}), Document(page_content='Turingmaschine\\nDamit programmieren?\\n\\nEinfaches Modell (vereinfacht Beweise Nichtberechenbarkeit)\\nGleichmächtig wie gebräuchliche Programmiersprachen\\n(C++, Java, Perl, Python, etc.)', metadata={'page': 58.0, 'source': 'spielwiese/test_pdf/berechenbarkeit_turing_maschinen.pdf'}), Document(page_content='Turingmaschine\\nq0 start fqa\\nqbq′\\na\\nq′\\nbq□/□⋄a/□▷\\nb/□▷a/a▷\\nb/b▷\\n□/□◁\\na/□◁\\na/a◁\\nb/b◁\\n□/□▷\\na/a▷\\nb/b▷□/□◁b/□◁(q0,a)→(qa,□, ▷)\\n64', metadata={'page': 63.0, 'source': 'spielwiese/test_pdf/berechenbarkeit_turing_maschinen.pdf'}), Document(page_content='Turingmaschine\\n§2.7 Definition (akzeptierte Sprache; engl.', metadata={'page': 121.0, 'source': 'spielwiese/test_pdf/berechenbarkeit_turing_maschinen.pdf'})]\n",
      "[Document(page_content='Turingmaschine\\nDamit programmieren?\\n\\nEinfaches Modell (vereinfacht Beweise Nichtberechenbarkeit)\\nGleichmächtig wie gebräuchliche Programmiersprachen\\n(C++, Java, Perl, Python, etc.)', metadata={'page': 58.0, 'source': 'spielwiese/test_pdf/berechenbarkeit_turing_maschinen.pdf'}), Document(page_content='Turingmaschine\\nDamit programmieren?\\n\\nEinfaches Modell (vereinfacht Beweise Nichtberechenbarkeit)\\nGleichmächtig wie gebräuchliche Programmiersprachen\\n(C++, Java, Perl, Python, etc.)', metadata={'page': 57.0, 'source': 'spielwiese/test_pdf/berechenbarkeit_turing_maschinen.pdf'}), Document(page_content='Turingmaschine\\n§2.7 Definition (akzeptierte Sprache; engl.', metadata={'page': 120.0, 'source': 'spielwiese/test_pdf/berechenbarkeit_turing_maschinen.pdf'}), Document(page_content='Turingmaschine\\n§2.7 Definition (akzeptierte Sprache; engl.', metadata={'page': 121.0, 'source': 'spielwiese/test_pdf/berechenbarkeit_turing_maschinen.pdf'}), Document(page_content='Turingmaschine\\n···□□abbaabba□□···\\nq\\nNotizen\\nBeidseitig unbeschränktes Arbeitsband\\nEndliche Kontrolle (zustandsgesteuert)\\nMobiler Lese- & Schreibkopf\\nEingabe auf Band; Symbole überschreibbar (Speicher)\\nAlan Turing (∗1912;†1954)\\nEngl.', metadata={'page': 55.0, 'source': 'spielwiese/test_pdf/berechenbarkeit_turing_maschinen.pdf'}), Document(page_content='Turingmaschine\\n···□□abbaabba□□···\\nq\\nNotizen\\nBeidseitig unbeschränktes Arbeitsband\\nEndliche Kontrolle (zustandsgesteuert)\\nMobiler Lese- & Schreibkopf\\nEingabe auf Band; Symbole überschreibbar (Speicher)\\nAlan Turing (∗1912;†1954)\\nEngl.', metadata={'page': 54.0, 'source': 'spielwiese/test_pdf/berechenbarkeit_turing_maschinen.pdf'}), Document(page_content='Turingmaschine\\n1Ausgangssituation\\n▶Eingabe auf Band (andere Zellen □)\\n▶TM in Startzustand q0\\n▶Kopf auf erstem Symbol der Eingabe (auf □falls Eingabe leer)\\n2Übergänge gemäß ∆\\n3Haltebedingung\\n▶Aktueller Zustand final; akzeptierend q+oder ablehnend q−\\n▶Kein passender Übergang →TM hält nicht ordnungsgemäß (Ausnahme)\\nAkzeptanz Eingabe\\nExistenz Übergänge von Ausgangssituation in akzeptierenden Zustand\\n67', metadata={'page': 66.0, 'source': 'spielwiese/test_pdf/berechenbarkeit_turing_maschinen.pdf'}), Document(page_content='Turingmaschine\\n1Ausgangssituation\\n▶Eingabe auf Band (andere Zellen □)\\n▶TM in Startzustand q0\\n▶Kopf auf erstem Symbol der Eingabe (auf □falls Eingabe leer)\\n2Übergänge gemäß ∆\\n3Haltebedingung\\n▶Aktueller Zustand final; akzeptierend q+oder ablehnend q−\\n▶Kein passender Übergang →TM hält nicht ordnungsgemäß (Ausnahme)Akzeptanz Eingabe\\nExistenz Übergänge von Ausgangssituation in akzeptierenden Zustand\\n68', metadata={'page': 67.0, 'source': 'spielwiese/test_pdf/berechenbarkeit_turing_maschinen.pdf'}), Document(page_content='Turingmaschine\\n1Ausgangssituation\\n▶Eingabe auf Band (andere Zellen □)\\n▶TM in Startzustand q0\\n▶Kopf auf erstem Symbol der Eingabe (auf □falls Eingabe leer)\\n2Übergänge gemäß ∆\\n3Haltebedingung\\n▶Aktueller Zustand final; akzeptierend q+oder ablehnend q−\\n▶Kein passender Übergang →TM hält nicht ordnungsgemäß (Ausnahme)\\nAkzeptanz Eingabe\\nExistenz Übergänge von Ausgangssituation in akzeptierenden Zustand\\n69', metadata={'page': 68.0, 'source': 'spielwiese/test_pdf/berechenbarkeit_turing_maschinen.pdf'}), Document(page_content='Turingmaschine\\n1Ausgangssituation\\n▶Eingabe auf Band (andere Zellen □)\\n▶TM in Startzustand q0\\n▶Kopf auf erstem Symbol der Eingabe (auf □falls Eingabe leer)\\n2Übergänge gemäß ∆\\n3Haltebedingung\\n▶Aktueller Zustand final; akzeptierend q+oder ablehnend q−\\n▶Kein passender Übergang →TM hält nicht ordnungsgemäß (Ausnahme)\\nAkzeptanz Eingabe\\nExistenz Übergänge von Ausgangssituation in akzeptierenden Zustand\\n66', metadata={'page': 65.0, 'source': 'spielwiese/test_pdf/berechenbarkeit_turing_maschinen.pdf'})]\n"
     ]
    },
    {
     "data": {
      "text/plain": [
       "[['Non-functional requirements: Specify all properties, abilities, conditions, and behaviors of the system that are \\nnot associated with a functionality\\nExamples: Performance, energy consumption, privacy, safety, security, reliability, development cost\\nConstraints: Specify restrictions on the implementation of the system\\nExamples: Must run on system X; must deliver a result in X seconds; must finish dev in 180 days\\n6',\n",
       "  'Non-functional requirements: Specify all properties, abilities, conditions, and behaviors of the system that are \\nnot associated with a functionality\\nExamples: Performance, energy consumption, privacy, safety, security, reliability, development cost\\nConstraints: Specify restrictions on the implementation of the system\\nExamples: Must run on system X; must deliver a result in X seconds; must finish dev in 180 days\\n6',\n",
       "  'Non-functional requirements: Specify all properties, abilities, conditions, and behaviors of the system that are \\nnot associated with a functionality\\nExamples: Performance, energy consumption, privacy, safety, security, reliability, development cost\\nConstraints: Specify restrictions on the implementation of the system\\nExamples: Must run on system X; must deliver a result in X seconds; must finish dev in 180 days\\n6',\n",
       "  'Be it a website, a mobile or a desktop app; it should have a set of quality attributes to meet end-user needs.\\n\\nArchitecture Characteristics / Non-Functional Requirements Briefly, functional requirements define what a system is supposed to do, like in the case of a car, take a person from A to B, and non-functional requirements stipulate how a system is supposed to be.',\n",
       "  'Be it a website, a mobile or a desktop app; it should have a set of quality attributes to meet end-user needs.\\n\\nArchitecture Characteristics / Non-Functional Requirements Briefly, functional requirements define what a system is supposed to do, like in the case of a car, take a person from A to B, and non-functional requirements stipulate how a system is supposed to be.',\n",
       "  'Types of Requirements\\nFunctional requirements: Specify function (features) of a system\\nExamples: Interface to a payment system, email notification, order system, logistics, management, etc.',\n",
       "  'Types of Requirements\\nFunctional requirements: Specify function (features) of a system\\nExamples: Interface to a payment system, email notification, order system, logistics, management, etc.',\n",
       "  'Types of Requirements\\nFunctional requirements: Specify function (features) of a system\\nExamples: Interface to a payment system, email notification, order system, logistics, management, etc.',\n",
       "  'Quality is a non-functional requirement, that is, a requirement that specifies a criterion to assess the operation of a software product, which is different from the functional requirement, which specifies a behavior of the software.\\n\\nPerformance, scalability, operability, monitorability are some examples of non-functional software requirements that are just as important as quality.',\n",
       "  'Non-functional / quality requirements: Define requirements on quality attributes (explainability, legal req.)\\n\\nHardware requirements: Specify the HW systems the AI component trains and inferences on.'],\n",
       " ['Topic II: \\nRequirements Engineering for AI-Enabled Systems \\nRequirements engineering might be the most difficult activity for \\nthe development of ML -based systems.\\n\\n*\\n12',\n",
       "  'Topic II: \\nRequirements Engineering for AI-Enabled Systems \\nRequirements engineering might be the most difficult activity for \\nthe development of ML -based systems.\\n\\n*\\n12',\n",
       "  'Topic II: \\nRequirements Engineering for AI-Enabled Systems \\nRequirements engineering might be the most difficult activity for \\nthe development of ML -based systems.\\n\\n*\\n12',\n",
       "  'Vogelsang & Borg: Requirements Engineering for Machine Learning: Perspectives from Data Scientists\\nIshikawa & Yoshioka: How do engineers perceive difficulties in engineering of machine -learning systems?',\n",
       "  'Vogelsang & Borg: Requirements Engineering for Machine Learning: Perspectives from Data Scientists\\nIshikawa & Yoshioka: How do engineers perceive difficulties in engineering of machine -learning systems?',\n",
       "  'Vogelsang & Borg: Requirements Engineering for Machine Learning: Perspectives from Data Scientists\\nIshikawa & Yoshioka: How do engineers perceive difficulties in engineering of machine -learning systems?',\n",
       "  \": Requirements Engineering of AI -intensive Systems at WAIN'21 1st Workshop on AI Engineering\\nIEEE Spectrum: How IBM Watson overpromised and underdelivered on AI health- care.\\n\\nRahimi et al.\",\n",
       "  \": Requirements Engineering of AI -intensive Systems at WAIN'21 1st Workshop on AI Engineering\\nIEEE Spectrum: How IBM Watson overpromised and underdelivered on AI health- care.\\n\\nRahimi et al.\",\n",
       "  \": Requirements Engineering of AI -intensive Systems at WAIN'21 1st Workshop on AI Engineering\\nIEEE Spectrum: How IBM Watson overpromised and underdelivered on AI health- care.\\n\\nRahimi et al.\",\n",
       "  'AI-Specific Challenges for RE\\nAccording to practitioners, AI pose challenges due to:\\n- Missing oracle: No ground truth or trustworthy tool, failing to be able to define what is the correctness criteria for \\nsystem outputs\\n- Imperfection: An AI system is never 100% accurate\\n- Uncertainty of untested data: Uncertainty on how the AI system behaves for unseen data (see, for example, \\nadversarial examples)\\n- High dependency of behavior on training data: System behaves in dependence on what data is fed during training \\nand not how the behavior is (formally) specified\\nLeads to typical characteristics of AI systems:\\n- Erosion of determinism\\n- Unpredictability and unexplainability of individual outputs (Scully et al.'],\n",
       " ['Requirements for AI systems must be derived from ethical principles and codes.',\n",
       "  'Requirements for AI systems must be derived from ethical principles and codes.',\n",
       "  'Requirements for AI systems must be derived from ethical principles and codes.',\n",
       "  'Seshia et al.\\n\\nVerified AI at arxiv, 2020.\\n\\nGuizzardi et al.\\n\\n: Ethical Requirements of AI Systems at 23rd Canadian Conference on Artificial Intelligence 2020.',\n",
       "  'Seshia et al.\\n\\nVerified AI at arxiv, 2020.\\n\\nGuizzardi et al.\\n\\n: Ethical Requirements of AI Systems at 23rd Canadian Conference on Artificial Intelligence 2020.',\n",
       "  'Seshia et al.\\n\\nVerified AI at arxiv, 2020.\\n\\nGuizzardi et al.\\n\\n: Ethical Requirements of AI Systems at 23rd Canadian Conference on Artificial Intelligence 2020.',\n",
       "  'Enables to validate whether the produced system adds to the ethical requirements.\\n\\nExample:\\n- EU Ethics guidelines for trustworthy AI\\n- Fairness and bias wrt.\\n\\nminorities, genders, etc.',\n",
       "  'Enables to validate whether the produced system adds to the ethical requirements.\\n\\nExample:\\n- EU Ethics guidelines for trustworthy AI\\n- Fairness and bias wrt.\\n\\nminorities, genders, etc.',\n",
       "  'Enables to validate whether the produced system adds to the ethical requirements.\\n\\nExample:\\n- EU Ethics guidelines for trustworthy AI\\n- Fairness and bias wrt.\\n\\nminorities, genders, etc.',\n",
       "  'Ethical Requirements & Specification\\nThe purpose of ML is to discriminate data and learn patterns.\\n\\nHowever, some forms of discrimination are \\nunethical and must be avoided.'],\n",
       " ['- How to start an AI/ML project based on requirements?\\n\\n- How to select suitable metrics to optimize for?\\n\\n- How to build teams and organize your company/project to productionize the AI/ML model?\\n\\n4',\n",
       "  '- How to start an AI/ML project based on requirements?\\n\\n- How to select suitable metrics to optimize for?\\n\\n- How to build teams and organize your company/project to productionize the AI/ML model?\\n\\n4',\n",
       "  'Prioritize Projects\\nHigh priority\\nValue of AI solution\\nSee Feasibility & ValueHigh\\nLow\\nFeasibilty\\nTechnical challenge, cost requirements, etc.High LowImpact\\n20',\n",
       "  'Prioritize Projects\\nHigh priority\\nValue of AI solution\\nSee Feasibility & ValueHigh\\nLow\\nFeasibilty\\nTechnical challenge, cost requirements, etc.High LowImpact\\n20',\n",
       "  'Do you need really AI?',\n",
       "  'Do you need really AI?',\n",
       "  'Techniques for improving feasibility:\\n-Consider safeguards in the interface with the model (e.g., show suggestions only when a certain \\nconfidence threshold is reached)\\n-Do not rely solely on one model (e.g., use suggestions from other sources, such as heuristics ---favorite \\nproduct of today --- to increase value)\\n-Communicate to users of an experimental state or provide means for feedback (e.g., use up- /down \\nvotes, comments, etc.)',\n",
       "  'Techniques for improving feasibility:\\n-Consider safeguards in the interface with the model (e.g., show suggestions only when a certain \\nconfidence threshold is reached)\\n-Do not rely solely on one model (e.g., use suggestions from other sources, such as heuristics ---favorite \\nproduct of today --- to increase value)\\n-Communicate to users of an experimental state or provide means for feedback (e.g., use up- /down \\nvotes, comments, etc.)',\n",
       "  'Legal and Regulatory Requirements\\nThe use of AI systems gets more and more regulated.\\n\\nIt is paramount to define the project regulatory boundaries to \\ndeploy a legal product.',\n",
       "  'Legal and Regulatory Requirements\\nThe use of AI systems gets more and more regulated.\\n\\nIt is paramount to define the project regulatory boundaries to \\ndeploy a legal product.'],\n",
       " ['Scorecards: Summary\\nSummarizes key results of the individual scorecards\\nScorecards can and should be customized to the organization, team, domain, and project at hand.',\n",
       "  'Scorecards: Summary\\nSummarizes key results of the individual scorecards\\nScorecards can and should be customized to the organization, team, domain, and project at hand.',\n",
       "  'Scorecards: Finance\\nCost and benefits of the problem to be \\nsolved by AI/ML, including the surrounding \\nsoftware system\\n32',\n",
       "  'Scorecards: Finance\\nCost and benefits of the problem to be \\nsolved by AI/ML, including the surrounding \\nsoftware system\\n32',\n",
       "  '-Questionnaire survey\\nLaura Pullum: Verification and Validation of Systems in Which AI is a Key Element at SEBOOK\\nSculley et al.\\n\\n:.Machine Learning: the high interest credit card of technical debt.',\n",
       "  '-Questionnaire survey\\nLaura Pullum: Verification and Validation of Systems in Which AI is a Key Element at SEBOOK\\nSculley et al.\\n\\n:.Machine Learning: the high interest credit card of technical debt.',\n",
       "  '-Questionnaire survey\\nLaura Pullum: Verification and Validation of Systems in Which AI is a Key Element at SEBOOK\\nSculley et al.\\n\\n:.Machine Learning: the high interest credit card of technical debt.',\n",
       "  '22Be certain to understand your business model and how AI/ML contributes to it.\\n\\nHave a \\nclear vision not only what to reach for, but also how to measure the success of AI/ML!',\n",
       "  '22Be certain to understand your business model and how AI/ML contributes to it.\\n\\nHave a \\nclear vision not only what to reach for, but also how to measure the success of AI/ML!',\n",
       "  'Do you need really AI?'],\n",
       " [\"Responsibilities ofAI Team Management\\nResponsibilities\\n- Hire the right people \\n- Manage and develop people\\n- Managing teams' output and align goals\\n- Good long -term decisions and technical debt \\nreduction\\n- Manage expectations from leadershipObstacles\\n- Education, composition, scarcity of people and \\nlimited budget\\n- Diverse roles, technology- hyped, CV -driven\\n- Timelines and uncertainty\\n- Technical debt (pipeline erosion), unclear technological trend\\n- Management level often have a limited or false understanding of „artificial intelligence“\\n62\",\n",
       "  \"Responsibilities ofAI Team Management\\nResponsibilities\\n- Hire the right people \\n- Manage and develop people\\n- Managing teams' output and align goals\\n- Good long -term decisions and technical debt \\nreduction\\n- Manage expectations from leadershipObstacles\\n- Education, composition, scarcity of people and \\nlimited budget\\n- Diverse roles, technology- hyped, CV -driven\\n- Timelines and uncertainty\\n- Technical debt (pipeline erosion), unclear technological trend\\n- Management level often have a limited or false understanding of „artificial intelligence“\\n62\",\n",
       "  'Learning Goals\\nKnow the expected responsibilities of roles in ML project teams\\nEvaluate advantages and drawbacks of different team and organization compositionsApply best practices of team management\\n52',\n",
       "  'Learning Goals\\nKnow the expected responsibilities of roles in ML project teams\\nEvaluate advantages and drawbacks of different team and organization compositionsApply best practices of team management\\n52',\n",
       "  'Project Management of AI Systems\\nTL;DR: \\n- Scoping the project\\n- Setting the g oal of the project, product, or system to be developed\\n- Roles & team management\\n- Project life cycle\\n3',\n",
       "  'Project Management of AI Systems\\nTL;DR: \\n- Scoping the project\\n- Setting the g oal of the project, product, or system to be developed\\n- Roles & team management\\n- Project life cycle\\n3',\n",
       "  '- How to start an AI/ML project based on requirements?\\n\\n- How to select suitable metrics to optimize for?\\n\\n- How to build teams and organize your company/project to productionize the AI/ML model?\\n\\n4',\n",
       "  '- How to start an AI/ML project based on requirements?\\n\\n- How to select suitable metrics to optimize for?\\n\\n- How to build teams and organize your company/project to productionize the AI/ML model?\\n\\n4',\n",
       "  'Hints for team functioning\\nTrust them; strategic not tactical direction\\nReduce bureaucracy, protect teamPhysical colocation, time for interactionAvoid in -team competition (bonuses etc.)',\n",
       "  'Hints for team functioning\\nTrust them; strategic not tactical direction\\nReduce bureaucracy, protect teamPhysical colocation, time for interactionAvoid in -team competition (bonuses etc.)'],\n",
       " ['9 min read·Mar 15 59 - 59',\n",
       "  'them with ours.\\n\\nThe result of this process is shown in Table III,\\nwhere each heading indicates the related paper with its section\\nand context, in which challenges have been reported.',\n",
       "  'Only few papers address the socio-technical challenges.',\n",
       "  'LECTURE 17.',\n",
       "  'Some of them just\\ndescribed issues that we identify as causes.\\n\\nThe initial themes\\ndeveloped to be the seven contexts and development activities\\npresented in this paper.',\n",
       "  'With its over 11,000 members, spanning\\nseveral continents, we are convinced that this represents one\\nof the most generalizable sources available, especially when\\ncompared to singular company papers.',\n",
       "  'Many papers have focused on specific, and purely technical\\naspects, such as testing and pipelines, but only few on socio-\\ntechnical aspects.',\n",
       "  \"It's a parabolic function, hence its continuous and differentiable throughout its domain.\\n\\n2) KL LossFor classification problems, KL Score is the commonly used loss.\\n\\nIt shows how much 2 probability distributions differ from each other.\\n\\nThe intuition for the KL divergence score is that when the probability for an event from P is large, but the probability for the same event in Q is small, there is a large divergence.\",\n",
       "  'Requires guarantees for their prediction accuracy and convergences\\n44',\n",
       "  'Requires guarantees for their prediction accuracy and convergences\\n44'],\n",
       " ['Results Overview\\nWe group our findings into three main areas: organizational\\nsilos, communication within an organization, and organiza-\\ntional leadership vacuum.',\n",
       "  '” CS21\\nV. L EADERSHIP VACUUM\\nWe identified that many stated problems are due to a\\nleadership vacuum.',\n",
       "  'Leadership Vacuum I\\n(A)Headless -Chicking Hiring\\nAnti-Patterns (AP)\\nAP12: Staff with insufficient skills\\nStaff with ML background cannot build and maintain pipelines or applications\\nAP13: No product for data scientists\\nHired DS for a specific task become obsolete after the task is completed; if use case is solvable \\nwithout DS, the social structures and productivity can be negatively impacted\\n78',\n",
       "  'Leadership Vacuum I\\n(A)Headless -Chicking Hiring\\nAnti-Patterns (AP)\\nAP12: Staff with insufficient skills\\nStaff with ML background cannot build and maintain pipelines or applications\\nAP13: No product for data scientists\\nHired DS for a specific task become obsolete after the task is completed; if use case is solvable \\nwithout DS, the social structures and productivity can be negatively impacted\\n78',\n",
       "  'Leadership Vacuum III\\n(B) Résumé -driven development\\nAnti-Patterns (AP)\\nAP14: Developed tools and models do not match the team or product goals\\nDecision process about which tools and libraries to use is highly driven by individuals; lack of authority \\nand limited experience in the team may lead to decisions driven by personal benefits\\nCauses (C)\\nC11: Data scientists do not identify with the business value\\nDisconnection of technology- focused people with company outcome\\nC11: Missing decision maker\\nUnclear who makes the final decision, enables strong opinions on tools of people in a team\\nRecommendations (R)\\nR12: Rely on organization knowledge\\nRely on existing technologies used by other teams as a fallback guideline if no authority is present80',\n",
       "  'Leadership Vacuum III\\n(B) Résumé -driven development\\nAnti-Patterns (AP)\\nAP14: Developed tools and models do not match the team or product goals\\nDecision process about which tools and libraries to use is highly driven by individuals; lack of authority \\nand limited experience in the team may lead to decisions driven by personal benefits\\nCauses (C)\\nC11: Data scientists do not identify with the business value\\nDisconnection of technology- focused people with company outcome\\nC11: Missing decision maker\\nUnclear who makes the final decision, enables strong opinions on tools of people in a team\\nRecommendations (R)\\nR12: Rely on organization knowledge\\nRely on existing technologies used by other teams as a fallback guideline if no authority is present80',\n",
       "  'Leadership Vacuum II\\n(A)Headless -Chicking Hiring\\nAnti-Patterns (AP)\\nC8: Unclear roles and titles\\nRoles and titles are consistently undefined; the same job title can imply different tasks and required \\nskills depending on the company\\nC9: Uneducated hiring\\nHiring managers require more knowledge about the needed skills; missing communication about \\nactually needed skills may lead to fallback hiring of general purpose “data scientist”\\nC10: Skill shortage on the market\\nFast growing industry raises demand on specialized skills, possibly leading to hiring people with the \\nwrong skills because people with the right skills are absent\\nRecommendations (R)\\nR11: Hiring for skill and potential rather than role\\nProviding a clear definition of the task and the relevant skills to solve it, enables hiring the right \\npeople79',\n",
       "  'Leadership Vacuum II\\n(A)Headless -Chicking Hiring\\nAnti-Patterns (AP)\\nC8: Unclear roles and titles\\nRoles and titles are consistently undefined; the same job title can imply different tasks and required \\nskills depending on the company\\nC9: Uneducated hiring\\nHiring managers require more knowledge about the needed skills; missing communication about \\nactually needed skills may lead to fallback hiring of general purpose “data scientist”\\nC10: Skill shortage on the market\\nFast growing industry raises demand on specialized skills, possibly leading to hiring people with the \\nwrong skills because people with the right skills are absent\\nRecommendations (R)\\nR11: Hiring for skill and potential rather than role\\nProviding a clear definition of the task and the relevant skills to solve it, enables hiring the right \\npeople79',\n",
       "  'Leadership Vacuum VI\\n(C) Hype -driven Development\\nRecommendations (R)\\nR13: Process to identify feasible use cases and product roadmap\\nRaising awareness of increased complexity due to ML; resort to traditional engineering methods and \\nheuristics; identify use cases before starting to iterate on the problem; write proposals about feasibility estimates, data \\navailability, and which organizational units should evaluate the product\\nR14: Understand customers and keep them close\\nDS should communicate with customers and understand their requirements\\nR15: Education\\nEducation through workshops that emphasize data available\\n85',\n",
       "  'Leadership Vacuum VI\\n(C) Hype -driven Development\\nRecommendations (R)\\nR13: Process to identify feasible use cases and product roadmap\\nRaising awareness of increased complexity due to ML; resort to traditional engineering methods and \\nheuristics; identify use cases before starting to iterate on the problem; write proposals about feasibility estimates, data \\navailability, and which organizational units should evaluate the product\\nR14: Understand customers and keep them close\\nDS should communicate with customers and understand their requirements\\nR15: Education\\nEducation through workshops that emphasize data available\\n85'],\n",
       " ['The MLOps community\\nThe MLOps community is an interest group founded in\\n2020 that is centered around knowledge sharing.',\n",
       "  'I. I NTRODUCTION\\n“So many guests have come on [at MLOps Community Chan-\\nnel] and said that MLOps is an organizational problem.',\n",
       "  'The\\nbiggest interest group that fulfills all of these criteria is the\\nMLOps.community1.',\n",
       "  '[M59] MLOps.community “MLOps Community 1 Year Anniversary!”,\\nYouTube , Apr 9, 2021. https://www.youtube.com/watch?v=\\nWmyvj1WYxUE.',\n",
       "  'A community with more than 11,000\\nprofessional members dedicated to share experiences when\\nputting ML into production.',\n",
       "  '[CS38] MLOps.community “Organisational Challenges of MLOps”, YouTube ,\\nMay 7, 2021. https://www.youtube.com/watch?v=xe3-ImbPkT0.',\n",
       "  '[M43] MLOps.community “The Current MLOps Landscape”, YouTube , Nov\\n23, 2020. https://www.youtube.com/watch?v=i6HZ2vjFLIs.',\n",
       "  '[M22] MLOps.community “Feature Stores: An Essential Part of the ML Stack\\nto Build Great Data”, YouTube , Jul 13, 2020. https://www.youtube.com/\\nwatch?v=IjO8VUCIZxc.',\n",
       "  '[CS56] MLOps.community “A Few Learnings from Building a Bootstrapped\\nMLOps Services Startup”, YouTube , Sep 27, 2021. https://www.youtube.\\n\\ncom/watch?v=VqMGn6CyRpA.',\n",
       "  '[CS39] MLOps.community “MLOps: A Leader’s Perspective”, YouTube , May\\n18, 2021. https://www.youtube.com/watch?v=LoKMLW1v4EY.'],\n",
       " ['The perceptron performs three operations:\\n1) each input element is multiplied by a weight: {u1=w1⇥1,u2=w2⇥x1,u3=\\nw3⇥x2,.\\n\\n.\\n\\n.\\n\\n.}',\n",
       "  'The multi-layer perceptron is a\\nfeedforward architecture which we consider as a composition of functions.',\n",
       "  'The perceptron is the most primitive version of a neural network that still does\\nsomething useful.\\n\\nBackpropogation is the algorithm that is the conceptual basis\\nfor training modern neural networks.',\n",
       "  '.\\n\\n.\\n\\nn\\nyiwTxi>\\x00 .\\n\\nPeople were excited by the perceptron and it was used in classiﬁcation.\\n\\nThe\\nMinsky and Papert put a kibosh on the perceptron via what was called the x-or\\n(exclusive or problem).',\n",
       "  'Key concepts: input data, weights, summation and adding bias, activation function (specifically step function), and then output.\\n\\nBored yet?\\n\\nNo worries :) I promise there will be……more jargons coming up!\\n\\nBut you’ll get used to them soon.\\n\\nI promise.\\n\\nBack in the 1950s and 1960s, people had no effective learning algorithm for a single-layer perceptron to learn and identify non-linear patterns (remember the XOR gate problem?).\\n\\nAnd the public lost interest in perceptron.',\n",
       "  'The perceptron came with the following training algorithm which given n\\nobeservations ( xi,yi)n\\ni=1outputs a set of weights for which the perceptron would\\ncorrectly classiﬁes all of the inputs ( xi)n\\ni=1:\\n1) Initialize weights wrandomly\\n2) While any input is incorrectly classiﬁed do:\\ni) Select an input-output pair k2{1,. .',\n",
       "  '.\\n\\n,n }\\nii) If yk= 1 and wTxk<0t h e n\\nw=w+x\\nElse if yk= 0 and wTxk>0t h e n\\nw=w\\x00x\\nThe idea above is that the perceptron algorithm only updates the weights when an\\nerror is made on the observations.',\n",
       "  '128 S. MUKHERJEE, PROBABILISTIC MACHINE LEARNING\\nfunction at each layer as fwiand the multi-layer perceptron can be written as\\nyi=fwd(fwd\\x001(fwd\\x002(···fw1(xi)))) = fwd\\x00fwd\\x001\\x00···\\x00 fw1(xi).',\n",
       "  'So given a pdimensional input (again appended with a 1) and two hidden layers\\nthe multi-perceptron architecture would be\\nyi=U\\x00\\nwT\\n2⇥\\nU(wT\\n11xi) U(wT\\n12xi)⇤\\x00\\n.',\n",
       "  'If the observations can be perfectly classiﬁed by\\na linear function then an upper bound on the number of steps that the perceptron\\nalgorithm will take to correctly classify all the points is\\nO✓R2\\n\\x002◆\\nwhere Ris the largest norm of any observation R= max i=1,...,n{kxik}and\\x00is the\\nmargin satisﬁed (recall the SVM) or the assumption that there exists a \\x00such that\\nfor some weights wall points will be classiﬁed correctly with margin \\x00or for all\\ni=1,.'],\n",
       " ['This was one reason why Deep Learning didn’t take off until the past few years, when we began producing much better hardware that could handle the memory-consuming deep neural networks.\\n\\nSigmoid Neurons: An Introduction So now we have a more sophisticatedly structured neural network with hidden layers.\\n\\nBut we haven’t solved the activation problem with the step function.',\n",
       "  'The problem with the derivative operation above is that our\\nactivation functions are unit step functions which are non-di↵erentiable.',\n",
       "  'linear combination make sure you read this link Meanwhile, step function also has no useful derivative (its derivative is 0 everywhere or undefined at the 0 point on x-axis).\\n\\nIt doesn’t work for backpropagation, which we will definitely talk about in the next post!\\n\\nWell, here’s another problem: Perceptron with step function isn’t very “stable” as a “relationship candidate” for neural networks.\\n\\nThink about it: this girl (or boy) has got some serious bipolar issues!',\n",
       "  'The idea behind the backpropogation algorithm is implement equation (17.1)\\nrecursively using the sigmoid as the activation function.',\n",
       "  'Now in modern neural network architectures one does not use the above\\nactivation functions at the hidden units instead one uses a rectiﬁed linear unit\\n(ReLU) or leaky ReLU\\nf(X)=(\\n0i fx<0,\\nxifx\\x000,f(X)=(\\n0i f↵x < 0,↵=.01\\nxifx\\x000.',\n",
       "  'If we can’t use step function to gradually change the weights, then it shouldn’t be the choice.\\n\\nSay goodbye to perceptron with step function now.\\n\\nWe are finding a new partner for our neural network, the sigmoid neuron, which comes with sigmoid function (duh).\\n\\nBut no worries: The only thing that will change is the activation function, and everything else we’ve learned so far about neural networks still works for this new type of neuron!',\n",
       "  \"But since the gradient of a step function is zero everywhere except at x=t, where t is the threshold, it's impossible to learn and optimize using a threshold activation.\\n\\nWe will be varying the weights a lot without reducing the error.\\n\\n2) Sigmoid ActivationTo solve the above issue, we need the activation function to be differentiable, with non-zero gradients over most of its domain.\",\n",
       "  'Backpropogation\\nThe idea behind the backpropogation algorithm was to use derivatives and the chain\\nrule to optimize the weights or update weights.',\n",
       "  'As you see, it approaches 1 as x approaches infinity, and approaches 0 if x approaches minus infinity.\\n\\nIt is also symmetrical, and has a value of 1/2 when its input is 0.\\n\\nSince it takes values between 0 and 1, this function is extremely useful as an output if you want to model a probability.\\n\\nIt’s also helpful if you wish to apply a “filter” to partially keep a certain value (like in an LSTM’s forget gate).\\n\\nWhy do Neural Networks Need an Activation Function?',\n",
       "  'The reason this algorithm is called backpropogation is that the chain rule is\\ntaking the error at the output and passing it back through the network recursively\\nto update the weights.'],\n",
       " ['A a universal approximator\\nis a function f:I Rp!I R that can approximate any continuous function on a\\ncompact subset of I Rparbitrarily well.',\n",
       "  'The idea of a universal approximator is one\\nof the main arguments for while deep neural networks are successful.\\n\\n17.1.1.',\n",
       "  'The idea of universal approximators goes back to Hilbert’s 13-th conjecture that\\nhe presented in the Second International Congress of Mathematicians in 1900.',\n",
       "  '17.1.3.\\n\\nUniversal approximator\\nMathematical arguments for why neural networks work well often take the perspec-\\ntive of a neural network as a universal approximator.',\n",
       "  'Requires guarantees for their prediction accuracy and convergences\\n44',\n",
       "  'Requires guarantees for their prediction accuracy and convergences\\n44',\n",
       "  'Requires guarantees for their prediction accuracy and convergences\\n44',\n",
       "  'Earlier models\\nThe ideas that gave rise to deep convolutional networks that we will cover are the\\nperceptron algorithm, the idea of backpropogation, and universal approximators.',\n",
       "  'Note that this definition does not require any information about what the correct prediction for f(x) or f(x’) is, we simply reason about the fact that the prediction shall stay consistent (whether correct or not) within a neighborhood.',\n",
       "  'What this means is, given a set of observed instances with certain values we wish to predict, and some data we have on each instance, it will try to generalize those data so that it can predict the values correctly for new instances of the problem.\\n\\nAs an example, we may be designing an image classifier (typically with a Convolutional Neural Network).\\n\\nHere, the inputs are a vector of pixels.\\n\\nThe output could be a numerical class label (for instance, 1 for dogs, 0 for cats).'],\n",
       " ['Turingmaschine\\n···□□abbaabba□□···\\nq\\nNotizen\\nBeidseitig unbeschränktes Arbeitsband\\nEndliche Kontrolle (zustandsgesteuert)\\nMobiler Lese- & Schreibkopf\\nEingabe auf Band; Symbole überschreibbar (Speicher)\\nAlan Turing (∗1912;†1954)\\nEngl.',\n",
       "  'Turingmaschine\\n···□□abbaabba□□···\\nq\\nNotizen\\nBeidseitig unbeschränktes Arbeitsband\\nEndliche Kontrolle (zustandsgesteuert)\\nMobiler Lese- & Schreibkopf\\nEingabe auf Band; Symbole überschreibbar (Speicher)\\nAlan Turing (∗1912;†1954)\\nEngl.',\n",
       "  'Zusammenfassung\\nIntuitive Berechenbarkeit\\nGrundlagen Turingmaschinen\\nErste Übungsserie bereits im Moodle\\n127',\n",
       "  'Berechenbarkeit\\nVorlesung 2: Grundlagen Turingmaschinen\\n13.\\n\\nApril 2023\\n1',\n",
       "  'Termine — Modul Berechenbarkeit\\nÜbungen Vorlesung\\n11.4.\\n\\n13.4.\\n\\nTuringmaschine I\\n(Übungsblatt 1)\\n18.4.\\n\\nÜbung 1\\nB-Woche20.4.\\n\\nTuringmaschine II\\n25.4.\\n\\nÜbung 1\\nA-Woche27.4.',\n",
       "  'Turingmaschine\\n§2.7 Definition (akzeptierte Sprache; engl.',\n",
       "  'Turingmaschine\\n§2.7 Definition (akzeptierte Sprache; engl.',\n",
       "  'DeepMind, Princeton & Stanford’s LATM Enables LLMs to Make Their Own ToolsThe 19th-century British philosopher Thomas Carlyle ascribed human progress to a key historical development: “Man is a tool-using animal… 3 min read·May 31 34 Youssef Hosni in Towards AI How to Read Machine Learning Papers EffectivelyThe field of machine and deep learning is evolving very fast, and there are new research outputs every day.',\n",
       "  'Turingmaschine\\nDamit programmieren?\\n\\nEinfaches Modell (vereinfacht Beweise Nichtberechenbarkeit)\\nGleichmächtig wie gebräuchliche Programmiersprachen\\n(C++, Java, Perl, Python, etc.)',\n",
       "  'Turingmaschine\\nDamit programmieren?\\n\\nEinfaches Modell (vereinfacht Beweise Nichtberechenbarkeit)\\nGleichmächtig wie gebräuchliche Programmiersprachen\\n(C++, Java, Perl, Python, etc.)'],\n",
       " ['Turingmaschine\\n···□□abbaabba□□···\\nq\\nNotizen\\nBeidseitig unbeschränktes Arbeitsband\\nEndliche Kontrolle (zustandsgesteuert)\\nMobiler Lese- & Schreibkopf\\nEingabe auf Band; Symbole überschreibbar (Speicher)\\nAlan Turing (∗1912;†1954)\\nEngl.',\n",
       "  'Turingmaschine\\n···□□abbaabba□□···\\nq\\nNotizen\\nBeidseitig unbeschränktes Arbeitsband\\nEndliche Kontrolle (zustandsgesteuert)\\nMobiler Lese- & Schreibkopf\\nEingabe auf Band; Symbole überschreibbar (Speicher)\\nAlan Turing (∗1912;†1954)\\nEngl.',\n",
       "  'Turingmaschine\\n§2.6 Definition (Ableitungsrelation — keine Bewegung)\\nu qγw⊢Mu q′γ′w\\nfalls(q, γ)→(q′, γ′,⋄)∈∆\\n··· □□ u1··· ukγ w1··· wn□□···\\nq\\n⊢M\\n··· □□ u1··· ukγ′w1··· wn□□···\\nq′\\n118',\n",
       "  'Turingmaschine\\n§2.6 Definition (Ableitungsrelation — Schritt nach rechts)\\nu qγw⊢M(\\nuγ′q′□falls w=ε\\nuγ′q′wsonst\\nfalls(q, γ)→(q′, γ′, ▷)∈∆\\n··· □□ u1··· ukγ w1··· wn□□···\\nq\\n⊢M\\n··· □□ u1··· ukγ′w1··· wn□□···\\nq′\\n120',\n",
       "  'Turingmaschine\\n§2.6 Definition (Ableitungsrelation — Schritt nach links)\\nu qγw⊢M(\\nεq′□γ′w falls u=ε\\nu′q′γ′′γ′wfalls u=u′γ′′mitγ′′∈Γ\\nfalls(q, γ)→(q′, γ′, ◁)∈∆\\n··· □□ u1··· ukγ w1··· wn□□···\\nq\\n⊢M\\n··· □□ u1··· ukγ′w1··· wn□□···\\nq′\\n119',\n",
       "  'Zusammenfassung\\nIntuitive Berechenbarkeit\\nGrundlagen Turingmaschinen\\nErste Übungsserie bereits im Moodle\\n127',\n",
       "  'Turingmaschine\\nDamit programmieren?\\n\\nEinfaches Modell (vereinfacht Beweise Nichtberechenbarkeit)\\nGleichmächtig wie gebräuchliche Programmiersprachen\\n(C++, Java, Perl, Python, etc.)',\n",
       "  'Turingmaschine\\nDamit programmieren?\\n\\nEinfaches Modell (vereinfacht Beweise Nichtberechenbarkeit)\\nGleichmächtig wie gebräuchliche Programmiersprachen\\n(C++, Java, Perl, Python, etc.)',\n",
       "  'Turingmaschine\\nq0 start fqa\\nqbq′\\na\\nq′\\nbq□/□⋄a/□▷\\nb/□▷a/a▷\\nb/b▷\\n□/□◁\\na/□◁\\na/a◁\\nb/b◁\\n□/□▷\\na/a▷\\nb/b▷□/□◁b/□◁(q0,a)→(qa,□, ▷)\\n64',\n",
       "  'Turingmaschine\\n§2.7 Definition (akzeptierte Sprache; engl.'],\n",
       " ['Turingmaschine\\nDamit programmieren?\\n\\nEinfaches Modell (vereinfacht Beweise Nichtberechenbarkeit)\\nGleichmächtig wie gebräuchliche Programmiersprachen\\n(C++, Java, Perl, Python, etc.)',\n",
       "  'Turingmaschine\\nDamit programmieren?\\n\\nEinfaches Modell (vereinfacht Beweise Nichtberechenbarkeit)\\nGleichmächtig wie gebräuchliche Programmiersprachen\\n(C++, Java, Perl, Python, etc.)',\n",
       "  'Turingmaschine\\n§2.7 Definition (akzeptierte Sprache; engl.',\n",
       "  'Turingmaschine\\n§2.7 Definition (akzeptierte Sprache; engl.',\n",
       "  'Turingmaschine\\n···□□abbaabba□□···\\nq\\nNotizen\\nBeidseitig unbeschränktes Arbeitsband\\nEndliche Kontrolle (zustandsgesteuert)\\nMobiler Lese- & Schreibkopf\\nEingabe auf Band; Symbole überschreibbar (Speicher)\\nAlan Turing (∗1912;†1954)\\nEngl.',\n",
       "  'Turingmaschine\\n···□□abbaabba□□···\\nq\\nNotizen\\nBeidseitig unbeschränktes Arbeitsband\\nEndliche Kontrolle (zustandsgesteuert)\\nMobiler Lese- & Schreibkopf\\nEingabe auf Band; Symbole überschreibbar (Speicher)\\nAlan Turing (∗1912;†1954)\\nEngl.',\n",
       "  'Turingmaschine\\n1Ausgangssituation\\n▶Eingabe auf Band (andere Zellen □)\\n▶TM in Startzustand q0\\n▶Kopf auf erstem Symbol der Eingabe (auf □falls Eingabe leer)\\n2Übergänge gemäß ∆\\n3Haltebedingung\\n▶Aktueller Zustand final; akzeptierend q+oder ablehnend q−\\n▶Kein passender Übergang →TM hält nicht ordnungsgemäß (Ausnahme)\\nAkzeptanz Eingabe\\nExistenz Übergänge von Ausgangssituation in akzeptierenden Zustand\\n67',\n",
       "  'Turingmaschine\\n1Ausgangssituation\\n▶Eingabe auf Band (andere Zellen □)\\n▶TM in Startzustand q0\\n▶Kopf auf erstem Symbol der Eingabe (auf □falls Eingabe leer)\\n2Übergänge gemäß ∆\\n3Haltebedingung\\n▶Aktueller Zustand final; akzeptierend q+oder ablehnend q−\\n▶Kein passender Übergang →TM hält nicht ordnungsgemäß (Ausnahme)Akzeptanz Eingabe\\nExistenz Übergänge von Ausgangssituation in akzeptierenden Zustand\\n68',\n",
       "  'Turingmaschine\\n1Ausgangssituation\\n▶Eingabe auf Band (andere Zellen □)\\n▶TM in Startzustand q0\\n▶Kopf auf erstem Symbol der Eingabe (auf □falls Eingabe leer)\\n2Übergänge gemäß ∆\\n3Haltebedingung\\n▶Aktueller Zustand final; akzeptierend q+oder ablehnend q−\\n▶Kein passender Übergang →TM hält nicht ordnungsgemäß (Ausnahme)\\nAkzeptanz Eingabe\\nExistenz Übergänge von Ausgangssituation in akzeptierenden Zustand\\n69',\n",
       "  'Turingmaschine\\n1Ausgangssituation\\n▶Eingabe auf Band (andere Zellen □)\\n▶TM in Startzustand q0\\n▶Kopf auf erstem Symbol der Eingabe (auf □falls Eingabe leer)\\n2Übergänge gemäß ∆\\n3Haltebedingung\\n▶Aktueller Zustand final; akzeptierend q+oder ablehnend q−\\n▶Kein passender Übergang →TM hält nicht ordnungsgemäß (Ausnahme)\\nAkzeptanz Eingabe\\nExistenz Übergänge von Ausgangssituation in akzeptierenden Zustand\\n66']]"
      ]
     },
     "execution_count": 12,
     "metadata": {},
     "output_type": "execute_result"
    }
   ],
   "source": [
    "queried_context = []\n",
    "for question in question_collection:\n",
    "    queried_context.append(vectorstore_controller.query_vectorstore(\n",
    "    query=question, k=10, get_raw_text=True))\n",
    "queried_context"
   ]
  },
  {
   "attachments": {},
   "cell_type": "markdown",
   "metadata": {},
   "source": [
    "Now, we will write a function to count the number of tokens in a string"
   ]
  },
  {
   "cell_type": "code",
   "execution_count": 19,
   "metadata": {},
   "outputs": [],
   "source": [
    "def num_tokens_from_string(string: str, encoding_name=\"cl100k_base\") -> int:\n",
    "    \"\"\"Returns the number of tokens in a text string.\n",
    "    defaults to the model for 3.5 GPT turbo\"\"\"\n",
    "    encoding = tiktoken.get_encoding(encoding_name)\n",
    "    num_tokens = len(encoding.encode(string))\n",
    "    return num_tokens"
   ]
  },
  {
   "cell_type": "code",
   "execution_count": 23,
   "metadata": {},
   "outputs": [
    {
     "name": "stdout",
     "output_type": "stream",
     "text": [
      "With the given example PDFs and questions the average context for a prompt would contain 57.6 tokens,\n",
      " and the average question would contain 10.3 tokens.\n"
     ]
    }
   ],
   "source": [
    "sum_question_tokens = 0\n",
    "for question in question_collection:\n",
    "    sum_question_tokens += num_tokens_from_string(question)\n",
    "average_question_length = sum_question_tokens/len(question_collection)\n",
    "sum_context_tokens = 0\n",
    "for pdf_context in queried_context:\n",
    "    for context in pdf_context:\n",
    "        sum_context_tokens += num_tokens_from_string(context)\n",
    "average_context_length = sum_context_tokens/(len(queried_context)*len(queried_context[0]))\n",
    "\n",
    "print(f\"With the given example PDFs and questions the average context for a prompt would contain {average_context_length:.1f} tokens,\\n and the average question would contain {average_question_length:.1f} tokens.\")"
   ]
  },
  {
   "attachments": {},
   "cell_type": "markdown",
   "metadata": {},
   "source": [
    "We have not yet chosen a prompt template for our requests to the API. For further calculations i will be using the following template: \"Question: {user_question}\\nContext: {additional_context}\\nAnswer:\"\n",
    "This contains 8 tokens which gives an average prompt length of 75.9 tokens per user request:"
   ]
  },
  {
   "cell_type": "code",
   "execution_count": 85,
   "metadata": {},
   "outputs": [
    {
     "name": "stdout",
     "output_type": "stream",
     "text": [
      "8\n",
      "75.86666666666666\n"
     ]
    }
   ],
   "source": [
    "print(num_tokens_from_string(\"Question: \\nContext: \\nAnswer:\"))\n",
    "prompt_token_usage = num_tokens_from_string(\"Question: \\nContext: \\nAnswer:\")+average_context_length+average_question_length\n",
    "print(prompt_token_usage)"
   ]
  },
  {
   "attachments": {},
   "cell_type": "markdown",
   "metadata": {},
   "source": [
    "However, we also need to include the length of the prompt because this is also included in the API pricing. We passed the example questions with their context to chatGPT to get an estimate even though it does not use the same model. The responses were the following:"
   ]
  },
  {
   "cell_type": "code",
   "execution_count": 86,
   "metadata": {},
   "outputs": [
    {
     "name": "stdout",
     "output_type": "stream",
     "text": [
      "349.40000000000003\n",
      "273.53333333333336\n"
     ]
    }
   ],
   "source": [
    "responses = [\"An example of a non-functional requirement is Performance. Performance refers to the speed, responsiveness, and efficiency of a system in carrying out its functions. It specifies the level of performance expected from the system, such as response time for user actions or processing speed for large data sets.\",\n",
    "             \"AI systems pose several challenges to traditional requirements engineering. Some of these challenges include: Missing oracle: Unlike traditional software systems, AI systems often lack a ground truth or a trustworthy tool to define the correctness criteria for system outputs. This makes it difficult to establish clear requirements and evaluate the system's performance. Imperfection: AI systems are not 100% accurate. They may make errors or provide suboptimal results, which can complicate the process of defining requirements that ensure desired levels of accuracy and reliability. Uncertainty of untested data: AI systems may behave unpredictably when faced with unseen or untested data. This uncertainty makes it challenging to anticipate how the system will perform in real-world scenarios and raises concerns about its robustness and generalization capabilities. High dependency on training data: The behavior of AI systems is highly dependent on the data used for training. This means that even small changes in the training data can lead to significant variations in system behavior. Defining requirements becomes complex when the desired behavior is not formally specified but instead emerges from the training process. These challenges give rise to some typical characteristics of AI systems, including erosion of determinism, unpredictability, and unexplainability of individual outputs. Traditional requirements engineering approaches may need to be adapted or supplemented to address these unique challenges posed by AI systems.\",\n",
    "             \"Here are some examples of ethical requirements for AI systems: 1. Transparency and Explainability: AI systems should be designed in a way that their decision-making process is transparent and explainable. Users should be able to understand how and why an AI system arrived at a particular decision or recommendation. 2. Fairness and Bias Mitigation: AI systems should be developed and deployed in a manner that avoids unfair discrimination and reduces biases. They should not favor or disadvantage certain individuals or groups based on factors such as race, gender, ethnicity, religion, or other protected attributes. 3. Privacy and Data Protection: AI systems must respect and protect the privacy of individuals. They should handle personal data securely and only use it for the intended purposes. Users' consent should be obtained for collecting and processing their data, and appropriate measures should be in place to safeguard sensitive information.4. Accountability and Responsibility: Developers and deployers of AI systems should take responsibility for their creations. They should be accountable for the outcomes and impacts of AI systems, and mechanisms should be in place to address any unintended consequences or harm caused by the technology. 5. Human Oversight and Control: AI systems should be designed to ensure that humans retain ultimate control and decision-making authority. Humans should be able to intervene, override, or modify the decisions made by AI systems, particularly in critical or sensitive domains. 6. Robustness and Safety: AI systems should be developed with a focus on robustness and safety. They should be tested and evaluated thoroughly to ensure that they perform reliably and do not pose risks to human lives, well-being, or the environment. 7. Ethical Use and Purpose Limitation: AI systems should only be used for ethical purposes and within the boundaries defined by applicable laws and regulations. They should not be deployed to engage in harmful, malicious, or deceptive activities. These examples highlight some key ethical requirements for AI systems. However, it is important to note that specific requirements may vary depending on the context, domain, and societal norms. Ethical considerations should be an ongoing and evolving process as AI technology progresses.\",\n",
    "             \"To ensure feasibility for your AI project, consider the following steps: 1. Clearly define project requirements: Start by understanding the problem you are trying to solve and the goals of your AI project. Define the specific requirements and constraints to guide your project's scope. 2. Assess technical feasibility: Evaluate the technical aspects of your project, including the availability of data, required computational resources, and the complexity of algorithms and models. Make sure you have access to the necessary tools and infrastructure to implement your AI solution. 3. Determine value and impact: Prioritize projects based on their value and potential impact. Consider the expected benefits, return on investment, and alignment with your organization's goals. This will help you focus on projects that provide the most significant value. 4. Select suitable metrics: Identify appropriate metrics to optimize for, depending on the project's objectives. For example, if you're working on a recommendation system, metrics like click-through rate, conversion rate, or user engagement could be relevant. Choose metrics that align with the desired outcomes of your project. 5. Build interdisciplinary teams: AI projects require collaboration between different roles, such as data scientists, software engineers, domain experts, and project managers. Assemble a team with the necessary skills and expertise to cover various aspects of the project, including data collection, modeling, implementation, and deployment. 6. Organize your project for productionization: Ensure that your AI/ML model can be efficiently deployed in a production environment. Define processes and workflows for model development, testing, and deployment. Consider version control, monitoring, and maintenance to ensure long-term success. 7. Consider legal and regulatory requirements: Understand and comply with legal and regulatory frameworks related to AI. Stay updated on the latest guidelines and policies in your industry or region. Define project boundaries to ensure compliance with applicable laws and regulations. 8. Improve user experience and feedback: Implement safeguards in the user interface to provide a smooth and reliable experience. For example, set confidence thresholds for displaying model suggestions or incorporate feedback mechanisms like upvotes, downvotes, and comments. Actively communicate the experimental nature of your AI system to users and encourage feedback for continuous improvement. By following these steps, you can increase the feasibility of your AI project and enhance its chances of success.\",\n",
    "             \"When creating scorecards for your AI project, it's important to consider the specific needs and goals of your organization, team, domain, and project. While customization is key, here are some points you can include on your scorecards: 1. Business Objectives: Clearly define the business objectives that the AI project aims to achieve. This could include increasing revenue, improving customer satisfaction, reducing costs, or enhancing operational efficiency. 2. Key Performance Indicators (KPIs): Identify the KPIs that will measure the success of your AI project. These could be specific metrics related to the business objectives, such as conversion rates, customer retention, cost savings, or productivity improvements. 3. Data Quality and Availability: Assess the quality and availability of the data required for the AI project. Consider factors like data accuracy, completeness, relevance, and the availability of historical data for training and testing. 4. Model Performance: Evaluate the performance of the AI model(s) being used. This can include metrics such as accuracy, precision, recall, F1 score, or other domain-specific evaluation measures. 5. Ethical Considerations: Consider ethical implications related to the AI project, such as fairness, bias, privacy, and security. Assess whether appropriate measures are in place to address these concerns. 6. Deployment and Integration: Evaluate the successful deployment and integration of the AI system within the existing software infrastructure. Consider factors like system stability, scalability, compatibility, and user acceptance. 7. Cost and Return on Investment (ROI): Analyze the cost and benefits associated with the AI project. Assess the financial impact of implementing the AI system, including factors like initial investment, ongoing maintenance costs, and potential cost savings or revenue generation. 8. User Feedback: Gather feedback from users or stakeholders who interact with or benefit from the AI system. This can provide insights into user satisfaction, usability, and areas for improvement. 9. Risks and Mitigation Strategies: Identify potential risks and challenges that could impact the success of the AI project. Develop strategies to mitigate these risks and address any potential issues. 10. Continuous Improvement: Establish mechanisms for continuous monitoring and improvement of the AI system. This can include feedback loops, performance tracking, and periodic evaluation to ensure ongoing optimization and alignment with business objectives. Remember, these points are general guidelines, and you should tailor them to align with the specific requirements and goals of your AI project.\",\n",
    "             \"The responsibilities in AI team management typically include the following: 1. Hiring the right people: The manager is responsible for recruiting and selecting individuals with the necessary skills and expertise to contribute effectively to the AI team. 2. Managing and developing people: This involves providing guidance, mentorship, and support to team members, helping them enhance their skills and knowledge in AI. It also includes performance management, providing feedback, and fostering a positive work environment. 3. Managing teams' output and aligning goals: The manager ensures that the team's work is aligned with the overall objectives and priorities of the organization. They coordinate tasks, set targets, and monitor progress to ensure the team's output is on track. 4. Making good long-term decisions and reducing technical debt: The manager is responsible for making strategic decisions that consider the long-term implications of AI projects. This includes managing technical debt, which refers to the shortcuts or compromises made during development that may require additional work to address later. 5. Managing expectations from leadership: The manager acts as a bridge between the AI team and the organizational leadership, communicating project updates, managing expectations, and ensuring alignment with the overall goals and strategies of the company. It's worth noting that these responsibilities may vary depending on the organization, project complexity, and team structure. Additionally, the manager may also face obstacles such as limited budget, scarcity of skilled individuals, diverse roles within the team, technology hype, and unclear technological trends. Overcoming these obstacles requires effective communication, resource management, and adapting to the evolving AI landscape.\",\n",
    "             \"The given text does not provide a clear indication of the specific paper that needs to be summarized. It contains a mixture of phrases and sentences that seem to be unrelated to each other. Additionally, the text includes some mathematical concepts unrelated to the task of summarizing a paper. To provide an accurate summary, please provide the title or a more specific description of the paper you would like to be summarized.\",\n",
    "             \"An organizational leadership vacuum refers to a situation within an organization where there is a lack or absence of effective leadership. It suggests that there are problems or issues arising due to a lack of strong, capable, and proactive leaders who can guide the organization, make important decisions, set goals, and foster a positive work environment. This vacuum may result in confusion, inefficiency, poor communication, and a lack of direction within the organization. It can hinder progress, impede collaboration, and negatively impact overall organizational performance.\",\n",
    "             \"The MLOps Community is an interest group that was founded in 2020. It is a community centered around knowledge sharing in the field of MLOps (Machine Learning Operations), which focuses on the deployment, management, and governance of machine learning models in production environments. The community aims to bring together professionals who are involved in putting machine learning into practice and provides a platform for sharing experiences and insights related to MLOps. According to the information provided, the MLOps Community has more than 11,000 professional members dedicated to sharing their experiences of deploying machine learning models into production.\",\n",
    "             \"A perceptron is the simplest form of an artificial neural network. It is a computational model inspired by the structure and function of biological neurons. The perceptron consists of input nodes, weights assigned to each input, a summation function, an activation function, and an output. It takes a set of inputs, multiplies them by their respective weights, and sums them up. The sum is then passed through an activation function to produce an output. The activation function used in a perceptron is typically a step function, which outputs a binary value based on whether the summed input exceeds a threshold. If the summed input is above the threshold, the perceptron outputs one value (usually representing a positive class), and if it is below the threshold, it outputs another value (usually representing a negative class). The weights in a perceptron are initially assigned randomly and are updated during the learning process. The perceptron learning algorithm adjusts the weights based on the errors made by the perceptron in classifying training examples. The algorithm aims to find the optimal set of weights that allows the perceptron to correctly classify the inputs. While the perceptron is limited to solving linearly separable problems, it was significant in the development of neural networks. It laid the foundation for more complex neural network architectures, such as multi-layer perceptrons, which consist of multiple layers of interconnected perceptrons. Backpropagation, an algorithm for training neural networks, is based on the principles introduced by the perceptron learning algorithm.\",\n",
    "             \"The unit step function, also known as the Heaviside step function, is a discontinuous function that takes the value of 1 for positive input values and 0 for negative input values. It poses challenges when used as an activation function for backpropagation in neural networks due to two main reasons: 1. Non-differentiability: The unit step function is non-differentiable almost everywhere, except at the point of discontinuity. The derivative of the unit step function is either 0 or undefined at all points except the threshold. Backpropagation relies on calculating derivatives to update the weights and optimize the network. Since the derivative of the unit step function is zero or undefined for most inputs, it becomes impossible to calculate meaningful gradients and perform effective weight updates using backpropagation. 2. Unstable learning: The unit step function is highly discontinuous, causing abrupt changes in output values with small changes in input. This discontinuity can lead to instability in the learning process of neural networks. As backpropagation relies on making small adjustments to the weights based on the error gradients, the step function's binary nature makes it challenging to converge to an optimal solution. The small weight adjustments made through gradient descent are not effective in reducing the error, as the step function remains constant until a certain threshold is crossed. To address these issues, activation functions that are differentiable and have non-zero gradients over most of their domain are preferred for backpropagation. Popular choices include sigmoid, hyperbolic tangent (tanh), and rectified linear unit (ReLU) activation functions. These functions allow for smooth transitions and continuous changes in the output, enabling effective weight updates during backpropagation and stable learning in neural networks.\",\n",
    "             \"A universal approximator refers to a mathematical function or model that can closely approximate any continuous function within a given domain. It is capable of approximating arbitrary functions on a compact subset of the input space. This concept is often used in the context of deep neural networks. The notion of universal approximators dates back to Hilbert's 13th conjecture, which he presented in the Second International Congress of Mathematicians in 1900. In the context of neural networks, the idea of being a universal approximator means that a neural network can approximate any continuous function if it has a sufficient number of parameters or neurons. This property is one of the key factors contributing to the success of deep neural networks. Being a universal approximator implies that a neural network can learn complex mappings between inputs and outputs. It enables neural networks to generalize from observed instances and make predictions for new instances accurately. For example, in an image classification task using a Convolutional Neural Network (CNN), the network can learn to classify images based on their pixel values. The network's output would be a numerical class label, such as 1 for dogs and 0 for cats. The universal approximator property does not guarantee prediction accuracy or convergence. However, it provides a theoretical foundation for the effectiveness of neural networks in learning and representing complex functions.\",\n",
    "             \"Alan Turing was a British mathematician, logician, and computer scientist. He is widely considered to be the father of theoretical computer science and artificial intelligence. Turing made significant contributions to various fields, including cryptography and code-breaking during World War II. One of Turing's most famous achievements was his concept of a universal computing machine, known as the 'Turing machine.' This theoretical device laid the foundation for the development of modern computers. The Turing machine is a simple model that can simulate the logic of any computer algorithm and is used in the study of computability and complexity theory. During World War II, Turing worked at the Government Code and Cypher School at Bletchley Park, where he played a crucial role in deciphering encrypted German messages. His work on breaking the Enigma code, used by the German military, is believed to have shortened the war and saved countless lives. Despite his significant contributions, Turing's life was marred by tragedy. He was openly gay at a time when homosexuality was criminalized in the United Kingdom. In 1952, he was prosecuted for homosexual acts and subjected to chemical castration as an alternative to imprisonment. Turing died in 1954 at the age of 41, and his death was ruled as suicide, although there has been ongoing debate about the circumstances.In recent years, there has been a growing recognition of Turing's contributions and the injustice he faced. In 2013, Turing received a posthumous royal pardon, and his story has been widely celebrated for his pioneering work and the impact he had on modern computing and cryptography.\",\n",
    "             \"Eine Turing-Maschine ist ein theoretisches Modell einer Maschine, das von dem britischen Mathematiker und Informatiker Alan Turing entwickelt wurde. Es ist eine abstrakte Vorstellung einer universellen Rechenmaschine, die in der Lage ist, beliebige mathematische Berechnungen durchzuführen. Eine Turing-Maschine besteht aus einer endlichen Kontrolle, einem unendlich langen Arbeitsband und einem Lese-/Schreibkopf, der entlang des Bands bewegt werden kann. Das Arbeitsband ist beidseitig unbeschränkt und besteht aus einzelnen Zellen, die mit Symbolen beschriftet werden können. Die endliche Kontrolle steuert die Aktionen der Maschine, basierend auf ihrem aktuellen Zustand und dem Symbol, das der Lese-/Schreibkopf auf dem Band liest. Die Turing-Maschine kann verschiedene Operationen durchführen, wie das Lesen eines Symbols, das Schreiben eines Symbols, das Bewegen des Lese-/Schreibkopfs nach links oder rechts und das Wechseln des aktuellen Zustands. Basierend auf diesen Operationen kann die Turing-Maschine komplexe Berechnungen durchführen, Daten speichern und verarbeiten sowie Entscheidungen treffen. Die Turing-Maschine ist von besonderer Bedeutung, da sie die theoretische Grundlage für die Berechenbarkeitstheorie bildet. Sie hat gezeigt, dass bestimmte Probleme algorithmisch lösbar sind, während andere Probleme unentscheidbar sind, d.h. es existiert kein Algorithmus, der eine Lösung für diese Probleme garantiert. Die Turing-Maschine dient auch als Grundlage für die theoretische Informatik und ist eng mit dem Konzept der Turing-Vollständigkeit verbunden, das die Fähigkeit einer Maschine beschreibt, jede berechenbare Funktion auszuführen.\",\n",
    "             \"Eine Turing-Maschine akzeptiert eine Eingabe, wenn es einen Übergang von der Ausgangssituation in einen akzeptierenden Zustand gibt. In der Ausgangssituation befindet sich die Eingabe auf dem Band, die Turing-Maschine ist im Startzustand und der Lese-/Schreibkopf steht auf dem ersten Symbol der Eingabe. Anhand der definierten Übergänge gemäß der Überführungsfunktion der Turing-Maschine wird der aktuelle Zustand kontrolliert und entsprechende Aktionen durchgeführt. Wenn der aktuelle Zustand schließlich ein akzeptierender Zustand ist, wird die Eingabe akzeptiert. Andernfalls wird die Eingabe abgelehnt.\"\n",
    "]\n",
    "\n",
    "sum_response_tokens = 0\n",
    "for response in responses:\n",
    "    sum_response_tokens += num_tokens_from_string(response)\n",
    "average_response_length = sum_response_tokens/len(responses)\n",
    "prompt_token_usage += average_response_length\n",
    "print(prompt_token_usage)\n",
    "print(average_response_length)"
   ]
  },
  {
   "attachments": {},
   "cell_type": "markdown",
   "metadata": {},
   "source": [
    "We ran an informal survey with the following 3 questions:\n",
    "1) How many days per week would you use this software?\n",
    "2) How many questions would you ask per day?\n",
    "3) To how many people would you recommend this software?\n",
    "With a small number of participants we got the following results:"
   ]
  },
  {
   "cell_type": "code",
   "execution_count": 88,
   "metadata": {},
   "outputs": [
    {
     "name": "stdout",
     "output_type": "stream",
     "text": [
      "4.666666666666667\n",
      "2.388888888888889\n",
      "4.888888888888889\n",
      "2.933333333333334\n"
     ]
    }
   ],
   "source": [
    "weekly_usage_data =         [3,3,4,3,3,2,2,1,0.5]\n",
    "daily_questions_data =      [10,4,2,7,2,5,5,4,5]\n",
    "recommendation_rate_data =  [6,2,7,8,4,3,5,4,3]\n",
    "print(sum(recommendation_rate_data)/len(recommendation_rate_data))\n",
    "#Because usually the recommendee would consider the recommender as a potential new recommendation \n",
    "recommendation_rate_data = [x - 1 for x in recommendation_rate_data]\n",
    "#Because not every recommendation is successful \n",
    "recommendation_rate_data = [x*0.8 for x in recommendation_rate_data]\n",
    "\n",
    "weekly_usage = sum(weekly_usage_data)/len(weekly_usage_data)\n",
    "daily_questions = sum(daily_questions_data)/len(daily_questions_data)\n",
    "recommendation_rate = sum(recommendation_rate_data)/len(recommendation_rate_data)\n",
    "\n",
    "#how many people will use the software in the first week\n",
    "start_users = 4\n",
    "\n",
    "print(weekly_usage)\n",
    "print(daily_questions)\n",
    "print(recommendation_rate)"
   ]
  },
  {
   "attachments": {},
   "cell_type": "markdown",
   "metadata": {},
   "source": [
    "Using this information, we can calculate the weekly token usage per user."
   ]
  },
  {
   "cell_type": "code",
   "execution_count": 87,
   "metadata": {},
   "outputs": [
    {
     "data": {
      "text/plain": [
       "4080.646913580247"
      ]
     },
     "execution_count": 87,
     "metadata": {},
     "output_type": "execute_result"
    }
   ],
   "source": [
    "weekly_token_usage = weekly_usage*prompt_token_usage*daily_questions\n",
    "weekly_token_usage"
   ]
  },
  {
   "attachments": {},
   "cell_type": "markdown",
   "metadata": {},
   "source": [
    "Now, we also need to model the growth of the user base. We use a very simple model that assumes every person will recruit #recommendation_rate new people after using the software for one week and then will never recommend the software to anyone again. We also assume the users will use the software indefinitely."
   ]
  },
  {
   "cell_type": "code",
   "execution_count": 98,
   "metadata": {},
   "outputs": [
    {
     "name": "stdout",
     "output_type": "stream",
     "text": [
      "957.4211160493833\n",
      "957.4211160493834\n"
     ]
    }
   ],
   "source": [
    "def population(n, start_users, recommendation_rate):\n",
    "    \"\"\"Returns the size of the population after n weeks\"\"\"\n",
    "    if n==0:\n",
    "        return start_users\n",
    "    return population(n-1,start_users,recommendation_rate)+recommendation_rate*population(n-1,start_users,recommendation_rate)\n",
    "print(population(4,start_users,recommendation_rate))"
   ]
  },
  {
   "attachments": {},
   "cell_type": "markdown",
   "metadata": {},
   "source": [
    "This finally allows us to calculate how many weeks it will take to use up a certain budget. Of course these simple models do not reflect the truth, especially the growth of the userbase will vary widely if the product gets advertised ..."
   ]
  },
  {
   "cell_type": "code",
   "execution_count": 72,
   "metadata": {},
   "outputs": [
    {
     "name": "stdout",
     "output_type": "stream",
     "text": [
      "4\n",
      "1432\n"
     ]
    }
   ],
   "source": [
    "def tokens_to_money(token_count):\n",
    "    return token_count*0.02/1000\n",
    "def calc_week_limit(budget_limit, start_users, recommendation_rate):\n",
    "    \"\"\"returns the number of weeks it will take to use up the budget_limit\"\"\"\n",
    "    total_cost = 0\n",
    "    n=0\n",
    "    while total_cost<budget_limit:\n",
    "        total_cost+=tokens_to_money(weekly_token_usage*population(n,start_users, recommendation_rate))\n",
    "        n+=1\n",
    "    return n\n",
    "def calc_prompt_limit(budget_limit):\n",
    "    \"\"\"returns the number of prompts we can send to the API before the budget_limit is used up\"\"\"\n",
    "    prompts = 0\n",
    "    while tokens_to_money(prompts*prompt_token_usage)<budget_limit:\n",
    "        prompts+=1\n",
    "    return prompts\n",
    "print(calc_week_limit(10, 4,recommendation_rate))\n",
    "print(calc_prompt_limit(10))"
   ]
  },
  {
   "attachments": {},
   "cell_type": "markdown",
   "metadata": {},
   "source": [
    "now we want to generate some graphs "
   ]
  },
  {
   "cell_type": "code",
   "execution_count": 105,
   "metadata": {},
   "outputs": [
    {
     "data": {
      "image/png": "[encoded data removed]",
      "text/plain": [
       "<Figure size 640x480 with 1 Axes>"
      ]
     },
     "metadata": {},
     "output_type": "display_data"
    }
   ],
   "source": [
    "import matplotlib.pyplot as plt\n",
    "import numpy as np\n",
    "\n",
    "# Define the function for userbase calculation\n",
    "def userbase(n):\n",
    "    return 3.933333333333334**n * 4\n",
    "\n",
    "# Generate data for x and y axes\n",
    "weeks = np.arange(0, 6)  # Range limited to 5 weeks\n",
    "userbase_size = [userbase(n) for n in weeks]\n",
    "\n",
    "# Create the bar plot\n",
    "plt.bar(weeks, userbase_size, width=0.5, align='center')\n",
    "\n",
    "# Set the axis labels\n",
    "plt.xlabel('Number of Weeks')\n",
    "plt.ylabel('Userbase Size')\n",
    "\n",
    "# Set the y-axis to use a logarithmic scale\n",
    "plt.yscale('log')\n",
    "plt.savefig('documents/userbase_plot.png', dpi=300, bbox_inches='tight')\n",
    "# Display the plot\n",
    "plt.show()"
   ]
  },
  {
   "cell_type": "code",
   "execution_count": 110,
   "metadata": {},
   "outputs": [
    {
     "data": {
      "image/png": "[encoded data removed]",
      "text/plain": [
       "<Figure size 640x480 with 1 Axes>"
      ]
     },
     "metadata": {},
     "output_type": "display_data"
    }
   ],
   "source": [
    "import matplotlib.pyplot as plt\n",
    "import numpy as np\n",
    "\n",
    "# Define the function for userbase calculation\n",
    "def userbase(n):\n",
    "    return 3.933333333333334**n * 4\n",
    "\n",
    "# Define the function for budget calculation\n",
    "def budget(n, start_users, recommendation_rate):\n",
    "    return tokens_to_money(weekly_token_usage*population(n,start_users, recommendation_rate))\n",
    "\n",
    "# Generate data for x-axis\n",
    "weeks = np.arange(0, 6)  # Range limited to 6 weeks\n",
    "\n",
    "# Define other parameters\n",
    "weekly_token_usage = 1000\n",
    "start_users = 100\n",
    "recommendation_rate = 0.8\n",
    "\n",
    "# Calculate budget used per week and cumulative total\n",
    "budget_used_per_week = [budget(n,start_users, recommendation_rate) for n in weeks]\n",
    "cumulative_budget = np.cumsum(budget_used_per_week)\n",
    "\n",
    "# Create the plot\n",
    "fig, ax = plt.subplots()\n",
    "\n",
    "# Plot budget used per week\n",
    "ax.bar(weeks, budget_used_per_week, width=0.5, align='center', label='Budget Used per Week')\n",
    "\n",
    "# Plot cumulative total used budget\n",
    "ax.plot(weeks, cumulative_budget, marker='o', color='green', label='Cumulative Used Budget')\n",
    "\n",
    "# Add a red horizontal line at y=10.00\n",
    "ax.axhline(y=10.00, color='red', linestyle='--', label='Threshold')\n",
    "\n",
    "# Set the axis labels\n",
    "ax.set_xlabel('Number of Weeks')\n",
    "ax.set_ylabel('Budget Used ($)')\n",
    "\n",
    "# Set the y-axis to use a logarithmic scale\n",
    "ax.set_yscale('log')\n",
    "\n",
    "# Add a legend\n",
    "ax.legend()\n",
    "\n",
    "# Display the plot\n",
    "plt.show()\n"
   ]
  }
 ],
 "metadata": {
  "kernelspec": {
   "display_name": "chatbot",
   "language": "python",
   "name": "python3"
  },
  "language_info": {
   "codemirror_mode": {
    "name": "ipython",
    "version": 3
   },
   "file_extension": ".py",
   "mimetype": "text/x-python",
   "name": "python",
   "nbconvert_exporter": "python",
   "pygments_lexer": "ipython3",
   "version": "3.10.11"
  },
  "orig_nbformat": 4
 },
 "nbformat": 4,
 "nbformat_minor": 2
}
